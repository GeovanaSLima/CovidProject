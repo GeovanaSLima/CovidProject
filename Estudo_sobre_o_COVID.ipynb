{
  "nbformat": 4,
  "nbformat_minor": 0,
  "metadata": {
    "colab": {
      "name": "Estudo sobre o COVID.ipynb",
      "provenance": [],
      "collapsed_sections": [],
      "mount_file_id": "1eKo8Wglhld-KHRZ_N6uorst4wIhBTN5A",
      "authorship_tag": "ABX9TyPTtwSe3K/ALEsNnST6GWOY"
    },
    "kernelspec": {
      "name": "python3",
      "display_name": "Python 3"
    },
    "language_info": {
      "name": "python"
    }
  },
  "cells": [
    {
      "cell_type": "markdown",
      "metadata": {
        "id": "wPphkluq7_Er"
      },
      "source": [
        "# Estudo sobre o COVID-19\n",
        "\n",
        "\n",
        "No ano de 2020, a vida como conhecíamos foi abruptamente interrompida por uma pandemia que parou o mundo.\n",
        "\n",
        "O COVID-19, faz parte da família coronavírus, conhecidos por causarem doenças que variam de resfriados até doenças mais graves como a Síndrome Respiratória Aguda Grave (SARS-CoV) e a Síndrome Respiratória do Oriente Médio (MERS-CoV). E, de acordo com os pesquisadores da nova doença, acredita-se que os primeiros casos de infecção possam ter acontecido de animais para pessoas. \n",
        "Os primeiros casos do novo coronavírus foram identificados em pessoas que estiveram no grande mercado popular da cidade de Wuhan, na China, onde costumam vender diversos tipos de animais selvagens vivos, nos quais poderiam estar infectados. As primeiras ocorrências foram confirmadas no dia 31/12/2019, e apresentou um aumento exponencial nas semanas seguintes.\n",
        "\n",
        "A primeira morte decorrente do vírus ocorreu em 9 de janeiro de 2020, e a Comissão Nacional da China confirmou apenas em 20 de janeiro de 2020 que o coronavírus poderia ser transmitido entre humanos. Neste mesmo dia, houve um aumento considerável de novos casos, 140 pacientes em diferentes localizações, como em Pequim e Shenzhen. E no dia 23 de janeiro de 2020 Wuhan entrou em quarentena, para tentar evitar espalhar a contaminação. \n",
        "Entretanto, no dia seguinte, 24 de janeiro, foi confirmado o primeiro caso da infecção na França. E em seguida, a transmissão do vírus aumentou de forma muito rápida. Em 15 de fevereiro, foi confirmado o primeiro caso de contaminação na América do Norte. Segundo a Universidade John Hopkins, em abril, a pandemia atingiu mais de cem mil mortes ao redor do mundo, ultrapassando 1,6 milhões de casos. E 5 dias após, 15 de abril, o número de infectados bateu a marca de 2 milhões. Em 12 de outubro, foram contabilizados 1 milhão de mortos no mundo.\n",
        "\n",
        "### Sintomas\n",
        "\n",
        " Existem diversos sintomas que as pessoas infectadas podem sentir, sendo eles divididos em sintomas leves e sintomas graves. Alguns infectados, conhecidos como assintomáticos, não apresentam sintomas e não se sentem mal. Segundo o Médicos Sem Fronteiras, cerca de 80% conseguem se recuperar sem precisar de tratamentos especiais, e 1 em cada 6 pessoas que contraem o coronavírus, fica gravemente doente.\n",
        "\n",
        "Os **sintomas leves** são: febre e tosse seca, sintomas respiratórios em menor proporção, dores no corpo, cansaço, incômodo a garganta, diarreia, secreção ou congestão nasal.\n",
        "\n",
        "Os **sintomas graves** ou de alerta são: febre alta associada a tosse e falta de ar ou dificuldade para respirar, dores no peito e tom azulado na face ou nos lábios. \n"
      ]
    },
    {
      "cell_type": "markdown",
      "metadata": {
        "id": "VuNOcuMHckNA"
      },
      "source": [
        "## Dados\n",
        "\n",
        "Para realizar esta análise, iremos extrair os dados do repositório público mantido pelo _[Our World in Data](https://ourworldindata.org/)_, uma organização que tem como objetivo tornar acessível o conhecimento dos maiores problemas globais. Algo que devemos ter em mente, é que as informações não são 100% corretas, levando em consideração que existe muitos conflitos com os dados dos governos ao redor do mundo.\n",
        "O dataset foi criado a partir dos estudos realizado pelo grupo, com base em informações de governos e instituições de pesquisas renomadas para a estruturação de certas variáveis. Abaixo temos as fontes utilizadas em tradução livre.\n",
        "\n",
        "> * **Casos e mortes confirmadas:** nossos dados vêm do _[Repositório de Dados sobre o COVID-19 do Center for Systems Science and Engineering (CSSE) da Universidade Johns Hopkins](https://github.com/CSSEGISandData/COVID-19)_ (JHU). Nós discutimos como e quando a JHU coleta e publica os dados [aqui](https://ourworldindata.org/coronavirus-source-data). O cases & deaths dataset é atualizado diariamente. Nota: o número de casos ou mortes reportados por qualquer instituição – incluindo JHU, o WHO, ECDC, entre outros – em qualquer dia, não necessariamente representa o número exato naquela data. Isso, por conta da longa cadeia de comunicação que existe entre um novo caso/morte e sua inclusão na estatística. Isso também significa que valores negativos em cases & deaths podem aparecer quando países corrigem os dados históricos por terem sobrestimado os números. Alternativamente, grandes mudanças podem ser feitas em toda a série de um país caso a JHU decida corrigir os valores retrospectivamente.\n",
        "> <br>\n",
        ">\n",
        "> * **Hospitalização e entrada em unidade de tratamento intensivo (UTI):** Nossos dados vêm do _[European Centre for Disease Prevention and Control](https://www.ecdc.europa.eu/en/publications-data/download-data-hospital-and-icu-admission-rates-and-current-occupancy-covid-19)_ (ECDC) para um seleto número de países europeus. Também foram utilizados dados dos governos das [Nações Unidas](https://coronavirus.data.gov.uk/details/healthcare), [Estados Unidos](https://healthdata.gov/dataset/covid-19-reported-patient-impact-and-hospital-capacity-state-timeseries), [Canadá](https://covid19tracker.ca/), [Israel](https://datadashboard.health.gov.il/COVID-19/general) e [Argélia](https://github.com/yasserkaddour/covid19-icu-data-algeria). Infelizmente não foi possível disponibilizar dados de hospitalização de outros países: atualmente não existe uma base de dados global sobre hospitalizações por conta do COVID-19, e nosso time do Our World in Data não tem a capacidade de construir um.\n",
        "> <br>\n",
        ">\n",
        "> * **Teste de COVID-19:** Esses dados são coletados pelo time do *Our World in Data*  a partir de relatórios oficiais. Você pode encontrar mais detalhes no nosso post sobre testes de COVID-19, incluindo nosso [checklist de questões para entender dados de testes](https://ourworldindata.org/coronavirus-testing#our-checklist-for-covid-19-testing-data), informações de [cobertura geográfica e temporal](https://ourworldindata.org/coronavirus-testing#which-countries-do-we-have-testing-data-for) e [informações detalhadas de país para país](https://ourworldindata.org/coronavirus-testing#our-checklist-for-covid-19-testing-data). O dataset de teste é atualizado duas vezes por semana.\n",
        "> <br>\n",
        ">\n",
        "> * **Vacinação contra o COVID-19:** Esses dados são coletados pelo time do *Our World in Data* a partir de relatórios oficiais.\n",
        "> <br>\n",
        ">\n",
        "> * **Outras variáveis:** Esses dados são coletados de uma variedade de fontes (Nações Unidas, World Bank, Global Burden of Disease, Blavatnik School of Government, etc.). Para mais informações, acesse [nosso codebook](https://github.com/owid/covid-19-data/tree/master/public/data/owid-covid-codebook.csv).\n",
        "\n",
        "\n",
        "<br>\n",
        "<br>\n",
        "\n",
        "A seguir teremos o passo a passo da análise exploratória, caso queira ver apenas o resultado, acesse o [post](learndata.com.br/post/estudo-sobre-o-covid19) no LearningData.\n",
        "\n",
        "<br>\n",
        "\n",
        "---\n",
        "\n",
        "<br>\n",
        "\n",
        "### Dicionário de Variáveis\n",
        "\n",
        "Coluna  | Descrição\n",
        ":-------: | :---------\n",
        "iso_code  | Código de países com 3 letras\n",
        "continent  | Continente da localização geográfica\n",
        "location  | Localização geográfica\n",
        "date  | Data da observação\n",
        "total_cases  | Casos confirmados da COVID-19\n",
        "new_cases  | Novos casos confirmados da COVID-19\n",
        "new_cases_smoothed  | Novos casos confirmados (suavizado por 7 dias)\n",
        "total_deaths  | Total de mortes\n",
        "new_deaths  | Novas mortes\n",
        "new_deaths_smoothed  | Novas mortes (suavizado por 7 dias)\n",
        "total_cases_per_million  | Total de casos confirmados por 1.000.000 de pessoas\n",
        "new_cases_per_million  | Novos casos por 1.000.000 de pessoas\n",
        "new_cases_smoothed_per_million  | Novos casos por 1.000.000 de pessoas (suavizado por 7 dias)\n",
        "total_deaths_per_million  | Total de mortes por 1.000.000 de pessoas\n",
        "new_deaths_per_million  | Novas mortes por 1.000.000 de pessoas\n",
        "new_deaths_smoothed_per_million  | Novas mortes por 1.000.000 de pessoas (suavizado por 7 dias)\n",
        "reproduction_rate  | Estimação em tempo real da taxa efetiva de reprodução\n",
        "icu_patients  | Número de pacientes em UTI em um dia\n",
        "icu_patients_per_million  | Número de pacientes em UTI em um dia por 1.000.000 de pessoas\n",
        "hosp_patients  | Número de pacientes hospitalizados em um dia\n",
        "hosp_patients_per_million  | Número de pacientes hospitalizados em um dia por 1.000.000 de pessoas\n",
        "weekly_icu_admissions  | Número de pacientes admitidos em UTI em uma semana\n",
        "weekly_icu_admissions_per_million  | Número de pacientes admitidos em UTI em uma semana por 1.000.000 de pessoas\n",
        "weekly_hosp_admissions  | Número de pacientes hospitalizados em uma semana\n",
        "weekly_hosp_admissions_per_million  | Número de pacientes hospitalizados em uma semana por 1.000.000 de pessoas\n",
        "total_tests  | Número total de testes\n",
        "new_tests  | Número de novos testes (calculado por dias consecutivos)\n",
        "total_tests_per_thousand  | Total de testes por 1.000 pessoas\n",
        "new_tests_per_thousand  | Número de novos testes por 1.000 pessoas\n",
        "new_tests_smoothed  | Novos testes (suavizado por 7-dias)\n",
        "new_tests_smoothed_per_thousand  | Novos testes (suavizado por 7-dias) por 1.000\n",
        "positive_rate  | Número de testes positivos em uma média de 7 dias (inverso de tests_per_case)\n",
        "tests_per_case  | Testes conduzidos por novos casos, média de 7 dias\n",
        "tests_units  | Unidade usada pela localização para reportar o número de testes\n",
        "total_vaccinations  | Número total de doses de vacinas aplicadas\n",
        "people_vaccinated  | Número de pessoas vacinadas com pelo menos uma dose\n",
        "people_fully_vaccinated  | Número de pessoas totalmente vacinadas\n",
        "new_vaccinations  | Novas doses de vacinas aplicadas (calculado por dias consecutivos)\n",
        "new_vaccinations_smoothed  | Novas doses de vacinas aplicadas (suavizado por 7 dias)\n",
        "total_vaccinations_per_hundred  | Número total de vacinas aplicadas a cada 100 pessoas da população total\n",
        "people_vaccinated_per_hundred  | Número total de pessoas vacinadas com pelo menos uma dose a cada 100 pessoas da população total\n",
        "people_fully_vaccinated_per_hundred  | Número de pessoas totalmente vacinadas a cada 100 pessoas da popúlação total\n",
        "new_vaccinations_smoothed_per_million  | Novas vacinas aplicadas a cada 1.000.000 pessoas da população total (suavizado por 7 dias)\n",
        "stringency_index  | Índice de Stringency da Resposta Governamental: Composto por 9 indicadores de respostas\n",
        "population  | População em 2020\n",
        "population_density  | Número de pessoas divido pela área, medida em $km^2$ (ano masi recente)\n",
        "median_age  | Idade média da população, de acordo com a projeção da UN para 2020\n",
        "aged_65_older  | Parte da população acima de 65 anos\n",
        "aged_70_older  | Parte da população acima de 70 anos\n",
        "gdp_per_capita  | Poder de compra de produtos domésticos (Dólar internacional)\n",
        "extreme_poverty  | Parte da população vivendo em extrema pobreza\n",
        "cardiovasc_death_rate  | Média de mortes por doenças cardivasculares em 2017 (número de mortes anual por 100.000 de pessoas)\n",
        "diabetes_prevalence  | Prevalência de diabetes em 2017 (% da população entre 20 e 79 anos)\n",
        "female_smokers  | Número de mulheres fumantes\n",
        "male_smokers  | Número de homens fumantes\n",
        "handwashing_facilities  | Parte da população que possui instalações básicas para a lavagem das mãos\n",
        "hospital_beds_per_thousand  | Número de camas de hospital por 1.000 pessoas (ano mais recente, desde 2010)\n",
        "life_expectancy  | Expectativa de vida ao nascer (2019)\n",
        "human_development_index  | Índice de desenvolvimento humano\n",
        "excess_mortality  | Valor-P do excesso de moratalidade para todas as idades\n",
        "\n",
        "<br>\n",
        "\n",
        "Para o desenvolvimento deste estudo, foram utilizados dados até o dia 05/08/2021\n",
        "\n",
        "\n",
        "<br>\n",
        "\n",
        "\n",
        "---\n",
        "\n",
        "## Manipulação dos Dados\n",
        "\n",
        "O *dataset* pode ser encontrado [aqui](https://raw.githubusercontent.com/owid/covid-19-data/master/public/data/owid-covid-data.csv)"
      ]
    },
    {
      "cell_type": "code",
      "metadata": {
        "colab": {
          "base_uri": "https://localhost:8080/"
        },
        "id": "cy2tWqpQZ_96",
        "outputId": "2991fda9-6865-48b3-fcbd-da9080ef338c"
      },
      "source": [
        "!pip install chart_studio"
      ],
      "execution_count": 23,
      "outputs": [
        {
          "output_type": "stream",
          "text": [
            "Collecting chart_studio\n",
            "  Downloading chart_studio-1.1.0-py3-none-any.whl (64 kB)\n",
            "\u001b[?25l\r\u001b[K     |█████                           | 10 kB 18.3 MB/s eta 0:00:01\r\u001b[K     |██████████▏                     | 20 kB 20.1 MB/s eta 0:00:01\r\u001b[K     |███████████████▎                | 30 kB 22.7 MB/s eta 0:00:01\r\u001b[K     |████████████████████▍           | 40 kB 24.3 MB/s eta 0:00:01\r\u001b[K     |█████████████████████████▍      | 51 kB 26.1 MB/s eta 0:00:01\r\u001b[K     |██████████████████████████████▌ | 61 kB 28.7 MB/s eta 0:00:01\r\u001b[K     |████████████████████████████████| 64 kB 2.9 MB/s \n",
            "\u001b[?25hRequirement already satisfied: six in /usr/local/lib/python3.7/dist-packages (from chart_studio) (1.15.0)\n",
            "Requirement already satisfied: plotly in /usr/local/lib/python3.7/dist-packages (from chart_studio) (4.4.1)\n",
            "Requirement already satisfied: retrying>=1.3.3 in /usr/local/lib/python3.7/dist-packages (from chart_studio) (1.3.3)\n",
            "Requirement already satisfied: requests in /usr/local/lib/python3.7/dist-packages (from chart_studio) (2.23.0)\n",
            "Requirement already satisfied: certifi>=2017.4.17 in /usr/local/lib/python3.7/dist-packages (from requests->chart_studio) (2021.5.30)\n",
            "Requirement already satisfied: urllib3!=1.25.0,!=1.25.1,<1.26,>=1.21.1 in /usr/local/lib/python3.7/dist-packages (from requests->chart_studio) (1.24.3)\n",
            "Requirement already satisfied: chardet<4,>=3.0.2 in /usr/local/lib/python3.7/dist-packages (from requests->chart_studio) (3.0.4)\n",
            "Requirement already satisfied: idna<3,>=2.5 in /usr/local/lib/python3.7/dist-packages (from requests->chart_studio) (2.10)\n",
            "Installing collected packages: chart-studio\n",
            "Successfully installed chart-studio-1.1.0\n"
          ],
          "name": "stdout"
        }
      ]
    },
    {
      "cell_type": "code",
      "metadata": {
        "id": "KjxS2qp8jaBD"
      },
      "source": [
        "import pandas as pd\n",
        "import matplotlib.pyplot as plt\n",
        "import seaborn as sns\n",
        "import plotly.graph_objects as go\n",
        "from plotly.subplots import make_subplots\n",
        "import ipywidgets as ipw\n",
        "from datetime import  datetime, timedelta\n",
        "from plotly.offline import iplot\n",
        "import chart_studio"
      ],
      "execution_count": 24,
      "outputs": []
    },
    {
      "cell_type": "code",
      "metadata": {
        "id": "0jDddrbWaFhj"
      },
      "source": [
        "username = 'geovana.lima'\n",
        "api_key = '5nHBZ5F6SMhyeIKOL5JK'\n",
        "\n",
        "chart_studio.tools.set_credentials_file(username=username, api_key=api_key)"
      ],
      "execution_count": 25,
      "outputs": []
    },
    {
      "cell_type": "code",
      "metadata": {
        "colab": {
          "base_uri": "https://localhost:8080/",
          "height": 312
        },
        "id": "NuSyimj9jh_D",
        "outputId": "0031bc3e-8726-4e4d-901d-eadd3a2486ee"
      },
      "source": [
        "df = pd.read_csv('/content/drive/MyDrive/DSNP/Projetos/owid-covid-data.csv')\n",
        "df.head()"
      ],
      "execution_count": 2,
      "outputs": [
        {
          "output_type": "execute_result",
          "data": {
            "text/html": [
              "<div>\n",
              "<style scoped>\n",
              "    .dataframe tbody tr th:only-of-type {\n",
              "        vertical-align: middle;\n",
              "    }\n",
              "\n",
              "    .dataframe tbody tr th {\n",
              "        vertical-align: top;\n",
              "    }\n",
              "\n",
              "    .dataframe thead th {\n",
              "        text-align: right;\n",
              "    }\n",
              "</style>\n",
              "<table border=\"1\" class=\"dataframe\">\n",
              "  <thead>\n",
              "    <tr style=\"text-align: right;\">\n",
              "      <th></th>\n",
              "      <th>iso_code</th>\n",
              "      <th>continent</th>\n",
              "      <th>location</th>\n",
              "      <th>date</th>\n",
              "      <th>total_cases</th>\n",
              "      <th>new_cases</th>\n",
              "      <th>new_cases_smoothed</th>\n",
              "      <th>total_deaths</th>\n",
              "      <th>new_deaths</th>\n",
              "      <th>new_deaths_smoothed</th>\n",
              "      <th>total_cases_per_million</th>\n",
              "      <th>new_cases_per_million</th>\n",
              "      <th>new_cases_smoothed_per_million</th>\n",
              "      <th>total_deaths_per_million</th>\n",
              "      <th>new_deaths_per_million</th>\n",
              "      <th>new_deaths_smoothed_per_million</th>\n",
              "      <th>reproduction_rate</th>\n",
              "      <th>icu_patients</th>\n",
              "      <th>icu_patients_per_million</th>\n",
              "      <th>hosp_patients</th>\n",
              "      <th>hosp_patients_per_million</th>\n",
              "      <th>weekly_icu_admissions</th>\n",
              "      <th>weekly_icu_admissions_per_million</th>\n",
              "      <th>weekly_hosp_admissions</th>\n",
              "      <th>weekly_hosp_admissions_per_million</th>\n",
              "      <th>new_tests</th>\n",
              "      <th>total_tests</th>\n",
              "      <th>total_tests_per_thousand</th>\n",
              "      <th>new_tests_per_thousand</th>\n",
              "      <th>new_tests_smoothed</th>\n",
              "      <th>new_tests_smoothed_per_thousand</th>\n",
              "      <th>positive_rate</th>\n",
              "      <th>tests_per_case</th>\n",
              "      <th>tests_units</th>\n",
              "      <th>total_vaccinations</th>\n",
              "      <th>people_vaccinated</th>\n",
              "      <th>people_fully_vaccinated</th>\n",
              "      <th>new_vaccinations</th>\n",
              "      <th>new_vaccinations_smoothed</th>\n",
              "      <th>total_vaccinations_per_hundred</th>\n",
              "      <th>people_vaccinated_per_hundred</th>\n",
              "      <th>people_fully_vaccinated_per_hundred</th>\n",
              "      <th>new_vaccinations_smoothed_per_million</th>\n",
              "      <th>stringency_index</th>\n",
              "      <th>population</th>\n",
              "      <th>population_density</th>\n",
              "      <th>median_age</th>\n",
              "      <th>aged_65_older</th>\n",
              "      <th>aged_70_older</th>\n",
              "      <th>gdp_per_capita</th>\n",
              "      <th>extreme_poverty</th>\n",
              "      <th>cardiovasc_death_rate</th>\n",
              "      <th>diabetes_prevalence</th>\n",
              "      <th>female_smokers</th>\n",
              "      <th>male_smokers</th>\n",
              "      <th>handwashing_facilities</th>\n",
              "      <th>hospital_beds_per_thousand</th>\n",
              "      <th>life_expectancy</th>\n",
              "      <th>human_development_index</th>\n",
              "      <th>excess_mortality</th>\n",
              "    </tr>\n",
              "  </thead>\n",
              "  <tbody>\n",
              "    <tr>\n",
              "      <th>0</th>\n",
              "      <td>AFG</td>\n",
              "      <td>Asia</td>\n",
              "      <td>Afghanistan</td>\n",
              "      <td>2020-02-24</td>\n",
              "      <td>1.0</td>\n",
              "      <td>1.0</td>\n",
              "      <td>NaN</td>\n",
              "      <td>NaN</td>\n",
              "      <td>NaN</td>\n",
              "      <td>NaN</td>\n",
              "      <td>0.026</td>\n",
              "      <td>0.026</td>\n",
              "      <td>NaN</td>\n",
              "      <td>NaN</td>\n",
              "      <td>NaN</td>\n",
              "      <td>NaN</td>\n",
              "      <td>NaN</td>\n",
              "      <td>NaN</td>\n",
              "      <td>NaN</td>\n",
              "      <td>NaN</td>\n",
              "      <td>NaN</td>\n",
              "      <td>NaN</td>\n",
              "      <td>NaN</td>\n",
              "      <td>NaN</td>\n",
              "      <td>NaN</td>\n",
              "      <td>NaN</td>\n",
              "      <td>NaN</td>\n",
              "      <td>NaN</td>\n",
              "      <td>NaN</td>\n",
              "      <td>NaN</td>\n",
              "      <td>NaN</td>\n",
              "      <td>NaN</td>\n",
              "      <td>NaN</td>\n",
              "      <td>NaN</td>\n",
              "      <td>NaN</td>\n",
              "      <td>NaN</td>\n",
              "      <td>NaN</td>\n",
              "      <td>NaN</td>\n",
              "      <td>NaN</td>\n",
              "      <td>NaN</td>\n",
              "      <td>NaN</td>\n",
              "      <td>NaN</td>\n",
              "      <td>NaN</td>\n",
              "      <td>8.33</td>\n",
              "      <td>38928341.0</td>\n",
              "      <td>54.422</td>\n",
              "      <td>18.6</td>\n",
              "      <td>2.581</td>\n",
              "      <td>1.337</td>\n",
              "      <td>1803.987</td>\n",
              "      <td>NaN</td>\n",
              "      <td>597.029</td>\n",
              "      <td>9.59</td>\n",
              "      <td>NaN</td>\n",
              "      <td>NaN</td>\n",
              "      <td>37.746</td>\n",
              "      <td>0.5</td>\n",
              "      <td>64.83</td>\n",
              "      <td>0.511</td>\n",
              "      <td>NaN</td>\n",
              "    </tr>\n",
              "    <tr>\n",
              "      <th>1</th>\n",
              "      <td>AFG</td>\n",
              "      <td>Asia</td>\n",
              "      <td>Afghanistan</td>\n",
              "      <td>2020-02-25</td>\n",
              "      <td>1.0</td>\n",
              "      <td>0.0</td>\n",
              "      <td>NaN</td>\n",
              "      <td>NaN</td>\n",
              "      <td>NaN</td>\n",
              "      <td>NaN</td>\n",
              "      <td>0.026</td>\n",
              "      <td>0.000</td>\n",
              "      <td>NaN</td>\n",
              "      <td>NaN</td>\n",
              "      <td>NaN</td>\n",
              "      <td>NaN</td>\n",
              "      <td>NaN</td>\n",
              "      <td>NaN</td>\n",
              "      <td>NaN</td>\n",
              "      <td>NaN</td>\n",
              "      <td>NaN</td>\n",
              "      <td>NaN</td>\n",
              "      <td>NaN</td>\n",
              "      <td>NaN</td>\n",
              "      <td>NaN</td>\n",
              "      <td>NaN</td>\n",
              "      <td>NaN</td>\n",
              "      <td>NaN</td>\n",
              "      <td>NaN</td>\n",
              "      <td>NaN</td>\n",
              "      <td>NaN</td>\n",
              "      <td>NaN</td>\n",
              "      <td>NaN</td>\n",
              "      <td>NaN</td>\n",
              "      <td>NaN</td>\n",
              "      <td>NaN</td>\n",
              "      <td>NaN</td>\n",
              "      <td>NaN</td>\n",
              "      <td>NaN</td>\n",
              "      <td>NaN</td>\n",
              "      <td>NaN</td>\n",
              "      <td>NaN</td>\n",
              "      <td>NaN</td>\n",
              "      <td>8.33</td>\n",
              "      <td>38928341.0</td>\n",
              "      <td>54.422</td>\n",
              "      <td>18.6</td>\n",
              "      <td>2.581</td>\n",
              "      <td>1.337</td>\n",
              "      <td>1803.987</td>\n",
              "      <td>NaN</td>\n",
              "      <td>597.029</td>\n",
              "      <td>9.59</td>\n",
              "      <td>NaN</td>\n",
              "      <td>NaN</td>\n",
              "      <td>37.746</td>\n",
              "      <td>0.5</td>\n",
              "      <td>64.83</td>\n",
              "      <td>0.511</td>\n",
              "      <td>NaN</td>\n",
              "    </tr>\n",
              "    <tr>\n",
              "      <th>2</th>\n",
              "      <td>AFG</td>\n",
              "      <td>Asia</td>\n",
              "      <td>Afghanistan</td>\n",
              "      <td>2020-02-26</td>\n",
              "      <td>1.0</td>\n",
              "      <td>0.0</td>\n",
              "      <td>NaN</td>\n",
              "      <td>NaN</td>\n",
              "      <td>NaN</td>\n",
              "      <td>NaN</td>\n",
              "      <td>0.026</td>\n",
              "      <td>0.000</td>\n",
              "      <td>NaN</td>\n",
              "      <td>NaN</td>\n",
              "      <td>NaN</td>\n",
              "      <td>NaN</td>\n",
              "      <td>NaN</td>\n",
              "      <td>NaN</td>\n",
              "      <td>NaN</td>\n",
              "      <td>NaN</td>\n",
              "      <td>NaN</td>\n",
              "      <td>NaN</td>\n",
              "      <td>NaN</td>\n",
              "      <td>NaN</td>\n",
              "      <td>NaN</td>\n",
              "      <td>NaN</td>\n",
              "      <td>NaN</td>\n",
              "      <td>NaN</td>\n",
              "      <td>NaN</td>\n",
              "      <td>NaN</td>\n",
              "      <td>NaN</td>\n",
              "      <td>NaN</td>\n",
              "      <td>NaN</td>\n",
              "      <td>NaN</td>\n",
              "      <td>NaN</td>\n",
              "      <td>NaN</td>\n",
              "      <td>NaN</td>\n",
              "      <td>NaN</td>\n",
              "      <td>NaN</td>\n",
              "      <td>NaN</td>\n",
              "      <td>NaN</td>\n",
              "      <td>NaN</td>\n",
              "      <td>NaN</td>\n",
              "      <td>8.33</td>\n",
              "      <td>38928341.0</td>\n",
              "      <td>54.422</td>\n",
              "      <td>18.6</td>\n",
              "      <td>2.581</td>\n",
              "      <td>1.337</td>\n",
              "      <td>1803.987</td>\n",
              "      <td>NaN</td>\n",
              "      <td>597.029</td>\n",
              "      <td>9.59</td>\n",
              "      <td>NaN</td>\n",
              "      <td>NaN</td>\n",
              "      <td>37.746</td>\n",
              "      <td>0.5</td>\n",
              "      <td>64.83</td>\n",
              "      <td>0.511</td>\n",
              "      <td>NaN</td>\n",
              "    </tr>\n",
              "    <tr>\n",
              "      <th>3</th>\n",
              "      <td>AFG</td>\n",
              "      <td>Asia</td>\n",
              "      <td>Afghanistan</td>\n",
              "      <td>2020-02-27</td>\n",
              "      <td>1.0</td>\n",
              "      <td>0.0</td>\n",
              "      <td>NaN</td>\n",
              "      <td>NaN</td>\n",
              "      <td>NaN</td>\n",
              "      <td>NaN</td>\n",
              "      <td>0.026</td>\n",
              "      <td>0.000</td>\n",
              "      <td>NaN</td>\n",
              "      <td>NaN</td>\n",
              "      <td>NaN</td>\n",
              "      <td>NaN</td>\n",
              "      <td>NaN</td>\n",
              "      <td>NaN</td>\n",
              "      <td>NaN</td>\n",
              "      <td>NaN</td>\n",
              "      <td>NaN</td>\n",
              "      <td>NaN</td>\n",
              "      <td>NaN</td>\n",
              "      <td>NaN</td>\n",
              "      <td>NaN</td>\n",
              "      <td>NaN</td>\n",
              "      <td>NaN</td>\n",
              "      <td>NaN</td>\n",
              "      <td>NaN</td>\n",
              "      <td>NaN</td>\n",
              "      <td>NaN</td>\n",
              "      <td>NaN</td>\n",
              "      <td>NaN</td>\n",
              "      <td>NaN</td>\n",
              "      <td>NaN</td>\n",
              "      <td>NaN</td>\n",
              "      <td>NaN</td>\n",
              "      <td>NaN</td>\n",
              "      <td>NaN</td>\n",
              "      <td>NaN</td>\n",
              "      <td>NaN</td>\n",
              "      <td>NaN</td>\n",
              "      <td>NaN</td>\n",
              "      <td>8.33</td>\n",
              "      <td>38928341.0</td>\n",
              "      <td>54.422</td>\n",
              "      <td>18.6</td>\n",
              "      <td>2.581</td>\n",
              "      <td>1.337</td>\n",
              "      <td>1803.987</td>\n",
              "      <td>NaN</td>\n",
              "      <td>597.029</td>\n",
              "      <td>9.59</td>\n",
              "      <td>NaN</td>\n",
              "      <td>NaN</td>\n",
              "      <td>37.746</td>\n",
              "      <td>0.5</td>\n",
              "      <td>64.83</td>\n",
              "      <td>0.511</td>\n",
              "      <td>NaN</td>\n",
              "    </tr>\n",
              "    <tr>\n",
              "      <th>4</th>\n",
              "      <td>AFG</td>\n",
              "      <td>Asia</td>\n",
              "      <td>Afghanistan</td>\n",
              "      <td>2020-02-28</td>\n",
              "      <td>1.0</td>\n",
              "      <td>0.0</td>\n",
              "      <td>NaN</td>\n",
              "      <td>NaN</td>\n",
              "      <td>NaN</td>\n",
              "      <td>NaN</td>\n",
              "      <td>0.026</td>\n",
              "      <td>0.000</td>\n",
              "      <td>NaN</td>\n",
              "      <td>NaN</td>\n",
              "      <td>NaN</td>\n",
              "      <td>NaN</td>\n",
              "      <td>NaN</td>\n",
              "      <td>NaN</td>\n",
              "      <td>NaN</td>\n",
              "      <td>NaN</td>\n",
              "      <td>NaN</td>\n",
              "      <td>NaN</td>\n",
              "      <td>NaN</td>\n",
              "      <td>NaN</td>\n",
              "      <td>NaN</td>\n",
              "      <td>NaN</td>\n",
              "      <td>NaN</td>\n",
              "      <td>NaN</td>\n",
              "      <td>NaN</td>\n",
              "      <td>NaN</td>\n",
              "      <td>NaN</td>\n",
              "      <td>NaN</td>\n",
              "      <td>NaN</td>\n",
              "      <td>NaN</td>\n",
              "      <td>NaN</td>\n",
              "      <td>NaN</td>\n",
              "      <td>NaN</td>\n",
              "      <td>NaN</td>\n",
              "      <td>NaN</td>\n",
              "      <td>NaN</td>\n",
              "      <td>NaN</td>\n",
              "      <td>NaN</td>\n",
              "      <td>NaN</td>\n",
              "      <td>8.33</td>\n",
              "      <td>38928341.0</td>\n",
              "      <td>54.422</td>\n",
              "      <td>18.6</td>\n",
              "      <td>2.581</td>\n",
              "      <td>1.337</td>\n",
              "      <td>1803.987</td>\n",
              "      <td>NaN</td>\n",
              "      <td>597.029</td>\n",
              "      <td>9.59</td>\n",
              "      <td>NaN</td>\n",
              "      <td>NaN</td>\n",
              "      <td>37.746</td>\n",
              "      <td>0.5</td>\n",
              "      <td>64.83</td>\n",
              "      <td>0.511</td>\n",
              "      <td>NaN</td>\n",
              "    </tr>\n",
              "  </tbody>\n",
              "</table>\n",
              "</div>"
            ],
            "text/plain": [
              "  iso_code continent  ... human_development_index excess_mortality\n",
              "0      AFG      Asia  ...                   0.511              NaN\n",
              "1      AFG      Asia  ...                   0.511              NaN\n",
              "2      AFG      Asia  ...                   0.511              NaN\n",
              "3      AFG      Asia  ...                   0.511              NaN\n",
              "4      AFG      Asia  ...                   0.511              NaN\n",
              "\n",
              "[5 rows x 60 columns]"
            ]
          },
          "metadata": {
            "tags": []
          },
          "execution_count": 2
        }
      ]
    },
    {
      "cell_type": "markdown",
      "metadata": {
        "id": "ZdyQvE00gsEC"
      },
      "source": [
        "Como podemos ver, o *dataset* possui muitos valores faltantes (NaN) que podem ser tanto pela falta de informação como pela falta de registro naquele dia. No caso dessas informações, o que faz mais sentido para o pré-processamento dos dados é preencher os falores com 0, pois remover essas entradas pode alterar significativamente nossa análise.\n",
        "\n",
        "Também podemos ver que possui diversos *features* (colunas). Para esta análise vamos utilizar apenas algumas dessas. Então vamos começar a transformar o *dataset*.\n",
        "\n",
        "---\n",
        "\n",
        "<br>\n",
        "\n",
        "Primeiro, vamos definir a variável ``location`` como nosso index, assim conseguimos visualizar as informações de acordo com cada país."
      ]
    },
    {
      "cell_type": "code",
      "metadata": {
        "id": "73h3uhNAjv5N"
      },
      "source": [
        "df = df.set_index('location')"
      ],
      "execution_count": 3,
      "outputs": []
    },
    {
      "cell_type": "markdown",
      "metadata": {
        "id": "yUSjC_YgiRRY"
      },
      "source": [
        "Agora, vamos excluir as colunas que não iremos utilizar e visualizar as primeiras entradas do nosso *DataFrame*"
      ]
    },
    {
      "cell_type": "code",
      "metadata": {
        "id": "WfUOOh6XlaqQ"
      },
      "source": [
        "df_clean = df.drop(['iso_code', 'new_cases_smoothed', 'new_cases_smoothed_per_million', 'new_deaths_smoothed_per_million', 'weekly_icu_admissions',\n",
        "       'weekly_icu_admissions_per_million', 'weekly_hosp_admissions', 'weekly_hosp_admissions_per_million', 'new_tests', 'total_tests',\n",
        "       'total_tests_per_thousand', 'new_tests_per_thousand', 'new_tests_smoothed', 'new_tests_smoothed_per_thousand',\n",
        "       'positive_rate', 'tests_per_case', 'tests_units', 'new_vaccinations_smoothed', 'new_vaccinations_smoothed_per_million', 'stringency_index','handwashing_facilities', 'gdp_per_capita', 'extreme_poverty', ], axis=1)\n",
        "df_clean = df_clean.fillna(0)"
      ],
      "execution_count": 4,
      "outputs": []
    },
    {
      "cell_type": "code",
      "metadata": {
        "colab": {
          "base_uri": "https://localhost:8080/",
          "height": 343
        },
        "id": "Ytgziypq5vas",
        "outputId": "1cd6fda1-9842-4421-f35b-0a8302716097"
      },
      "source": [
        "df_clean.head()"
      ],
      "execution_count": 5,
      "outputs": [
        {
          "output_type": "execute_result",
          "data": {
            "text/html": [
              "<div>\n",
              "<style scoped>\n",
              "    .dataframe tbody tr th:only-of-type {\n",
              "        vertical-align: middle;\n",
              "    }\n",
              "\n",
              "    .dataframe tbody tr th {\n",
              "        vertical-align: top;\n",
              "    }\n",
              "\n",
              "    .dataframe thead th {\n",
              "        text-align: right;\n",
              "    }\n",
              "</style>\n",
              "<table border=\"1\" class=\"dataframe\">\n",
              "  <thead>\n",
              "    <tr style=\"text-align: right;\">\n",
              "      <th></th>\n",
              "      <th>continent</th>\n",
              "      <th>date</th>\n",
              "      <th>total_cases</th>\n",
              "      <th>new_cases</th>\n",
              "      <th>total_deaths</th>\n",
              "      <th>new_deaths</th>\n",
              "      <th>new_deaths_smoothed</th>\n",
              "      <th>total_cases_per_million</th>\n",
              "      <th>new_cases_per_million</th>\n",
              "      <th>total_deaths_per_million</th>\n",
              "      <th>new_deaths_per_million</th>\n",
              "      <th>reproduction_rate</th>\n",
              "      <th>icu_patients</th>\n",
              "      <th>icu_patients_per_million</th>\n",
              "      <th>hosp_patients</th>\n",
              "      <th>hosp_patients_per_million</th>\n",
              "      <th>total_vaccinations</th>\n",
              "      <th>people_vaccinated</th>\n",
              "      <th>people_fully_vaccinated</th>\n",
              "      <th>new_vaccinations</th>\n",
              "      <th>total_vaccinations_per_hundred</th>\n",
              "      <th>people_vaccinated_per_hundred</th>\n",
              "      <th>people_fully_vaccinated_per_hundred</th>\n",
              "      <th>population</th>\n",
              "      <th>population_density</th>\n",
              "      <th>median_age</th>\n",
              "      <th>aged_65_older</th>\n",
              "      <th>aged_70_older</th>\n",
              "      <th>cardiovasc_death_rate</th>\n",
              "      <th>diabetes_prevalence</th>\n",
              "      <th>female_smokers</th>\n",
              "      <th>male_smokers</th>\n",
              "      <th>hospital_beds_per_thousand</th>\n",
              "      <th>life_expectancy</th>\n",
              "      <th>human_development_index</th>\n",
              "      <th>excess_mortality</th>\n",
              "    </tr>\n",
              "    <tr>\n",
              "      <th>location</th>\n",
              "      <th></th>\n",
              "      <th></th>\n",
              "      <th></th>\n",
              "      <th></th>\n",
              "      <th></th>\n",
              "      <th></th>\n",
              "      <th></th>\n",
              "      <th></th>\n",
              "      <th></th>\n",
              "      <th></th>\n",
              "      <th></th>\n",
              "      <th></th>\n",
              "      <th></th>\n",
              "      <th></th>\n",
              "      <th></th>\n",
              "      <th></th>\n",
              "      <th></th>\n",
              "      <th></th>\n",
              "      <th></th>\n",
              "      <th></th>\n",
              "      <th></th>\n",
              "      <th></th>\n",
              "      <th></th>\n",
              "      <th></th>\n",
              "      <th></th>\n",
              "      <th></th>\n",
              "      <th></th>\n",
              "      <th></th>\n",
              "      <th></th>\n",
              "      <th></th>\n",
              "      <th></th>\n",
              "      <th></th>\n",
              "      <th></th>\n",
              "      <th></th>\n",
              "      <th></th>\n",
              "      <th></th>\n",
              "    </tr>\n",
              "  </thead>\n",
              "  <tbody>\n",
              "    <tr>\n",
              "      <th>Afghanistan</th>\n",
              "      <td>Asia</td>\n",
              "      <td>2020-02-24</td>\n",
              "      <td>1.0</td>\n",
              "      <td>1.0</td>\n",
              "      <td>0.0</td>\n",
              "      <td>0.0</td>\n",
              "      <td>0.0</td>\n",
              "      <td>0.026</td>\n",
              "      <td>0.026</td>\n",
              "      <td>0.0</td>\n",
              "      <td>0.0</td>\n",
              "      <td>0.0</td>\n",
              "      <td>0.0</td>\n",
              "      <td>0.0</td>\n",
              "      <td>0.0</td>\n",
              "      <td>0.0</td>\n",
              "      <td>0.0</td>\n",
              "      <td>0.0</td>\n",
              "      <td>0.0</td>\n",
              "      <td>0.0</td>\n",
              "      <td>0.0</td>\n",
              "      <td>0.0</td>\n",
              "      <td>0.0</td>\n",
              "      <td>38928341.0</td>\n",
              "      <td>54.422</td>\n",
              "      <td>18.6</td>\n",
              "      <td>2.581</td>\n",
              "      <td>1.337</td>\n",
              "      <td>597.029</td>\n",
              "      <td>9.59</td>\n",
              "      <td>0.0</td>\n",
              "      <td>0.0</td>\n",
              "      <td>0.5</td>\n",
              "      <td>64.83</td>\n",
              "      <td>0.511</td>\n",
              "      <td>0.0</td>\n",
              "    </tr>\n",
              "    <tr>\n",
              "      <th>Afghanistan</th>\n",
              "      <td>Asia</td>\n",
              "      <td>2020-02-25</td>\n",
              "      <td>1.0</td>\n",
              "      <td>0.0</td>\n",
              "      <td>0.0</td>\n",
              "      <td>0.0</td>\n",
              "      <td>0.0</td>\n",
              "      <td>0.026</td>\n",
              "      <td>0.000</td>\n",
              "      <td>0.0</td>\n",
              "      <td>0.0</td>\n",
              "      <td>0.0</td>\n",
              "      <td>0.0</td>\n",
              "      <td>0.0</td>\n",
              "      <td>0.0</td>\n",
              "      <td>0.0</td>\n",
              "      <td>0.0</td>\n",
              "      <td>0.0</td>\n",
              "      <td>0.0</td>\n",
              "      <td>0.0</td>\n",
              "      <td>0.0</td>\n",
              "      <td>0.0</td>\n",
              "      <td>0.0</td>\n",
              "      <td>38928341.0</td>\n",
              "      <td>54.422</td>\n",
              "      <td>18.6</td>\n",
              "      <td>2.581</td>\n",
              "      <td>1.337</td>\n",
              "      <td>597.029</td>\n",
              "      <td>9.59</td>\n",
              "      <td>0.0</td>\n",
              "      <td>0.0</td>\n",
              "      <td>0.5</td>\n",
              "      <td>64.83</td>\n",
              "      <td>0.511</td>\n",
              "      <td>0.0</td>\n",
              "    </tr>\n",
              "    <tr>\n",
              "      <th>Afghanistan</th>\n",
              "      <td>Asia</td>\n",
              "      <td>2020-02-26</td>\n",
              "      <td>1.0</td>\n",
              "      <td>0.0</td>\n",
              "      <td>0.0</td>\n",
              "      <td>0.0</td>\n",
              "      <td>0.0</td>\n",
              "      <td>0.026</td>\n",
              "      <td>0.000</td>\n",
              "      <td>0.0</td>\n",
              "      <td>0.0</td>\n",
              "      <td>0.0</td>\n",
              "      <td>0.0</td>\n",
              "      <td>0.0</td>\n",
              "      <td>0.0</td>\n",
              "      <td>0.0</td>\n",
              "      <td>0.0</td>\n",
              "      <td>0.0</td>\n",
              "      <td>0.0</td>\n",
              "      <td>0.0</td>\n",
              "      <td>0.0</td>\n",
              "      <td>0.0</td>\n",
              "      <td>0.0</td>\n",
              "      <td>38928341.0</td>\n",
              "      <td>54.422</td>\n",
              "      <td>18.6</td>\n",
              "      <td>2.581</td>\n",
              "      <td>1.337</td>\n",
              "      <td>597.029</td>\n",
              "      <td>9.59</td>\n",
              "      <td>0.0</td>\n",
              "      <td>0.0</td>\n",
              "      <td>0.5</td>\n",
              "      <td>64.83</td>\n",
              "      <td>0.511</td>\n",
              "      <td>0.0</td>\n",
              "    </tr>\n",
              "    <tr>\n",
              "      <th>Afghanistan</th>\n",
              "      <td>Asia</td>\n",
              "      <td>2020-02-27</td>\n",
              "      <td>1.0</td>\n",
              "      <td>0.0</td>\n",
              "      <td>0.0</td>\n",
              "      <td>0.0</td>\n",
              "      <td>0.0</td>\n",
              "      <td>0.026</td>\n",
              "      <td>0.000</td>\n",
              "      <td>0.0</td>\n",
              "      <td>0.0</td>\n",
              "      <td>0.0</td>\n",
              "      <td>0.0</td>\n",
              "      <td>0.0</td>\n",
              "      <td>0.0</td>\n",
              "      <td>0.0</td>\n",
              "      <td>0.0</td>\n",
              "      <td>0.0</td>\n",
              "      <td>0.0</td>\n",
              "      <td>0.0</td>\n",
              "      <td>0.0</td>\n",
              "      <td>0.0</td>\n",
              "      <td>0.0</td>\n",
              "      <td>38928341.0</td>\n",
              "      <td>54.422</td>\n",
              "      <td>18.6</td>\n",
              "      <td>2.581</td>\n",
              "      <td>1.337</td>\n",
              "      <td>597.029</td>\n",
              "      <td>9.59</td>\n",
              "      <td>0.0</td>\n",
              "      <td>0.0</td>\n",
              "      <td>0.5</td>\n",
              "      <td>64.83</td>\n",
              "      <td>0.511</td>\n",
              "      <td>0.0</td>\n",
              "    </tr>\n",
              "    <tr>\n",
              "      <th>Afghanistan</th>\n",
              "      <td>Asia</td>\n",
              "      <td>2020-02-28</td>\n",
              "      <td>1.0</td>\n",
              "      <td>0.0</td>\n",
              "      <td>0.0</td>\n",
              "      <td>0.0</td>\n",
              "      <td>0.0</td>\n",
              "      <td>0.026</td>\n",
              "      <td>0.000</td>\n",
              "      <td>0.0</td>\n",
              "      <td>0.0</td>\n",
              "      <td>0.0</td>\n",
              "      <td>0.0</td>\n",
              "      <td>0.0</td>\n",
              "      <td>0.0</td>\n",
              "      <td>0.0</td>\n",
              "      <td>0.0</td>\n",
              "      <td>0.0</td>\n",
              "      <td>0.0</td>\n",
              "      <td>0.0</td>\n",
              "      <td>0.0</td>\n",
              "      <td>0.0</td>\n",
              "      <td>0.0</td>\n",
              "      <td>38928341.0</td>\n",
              "      <td>54.422</td>\n",
              "      <td>18.6</td>\n",
              "      <td>2.581</td>\n",
              "      <td>1.337</td>\n",
              "      <td>597.029</td>\n",
              "      <td>9.59</td>\n",
              "      <td>0.0</td>\n",
              "      <td>0.0</td>\n",
              "      <td>0.5</td>\n",
              "      <td>64.83</td>\n",
              "      <td>0.511</td>\n",
              "      <td>0.0</td>\n",
              "    </tr>\n",
              "  </tbody>\n",
              "</table>\n",
              "</div>"
            ],
            "text/plain": [
              "            continent        date  ...  human_development_index  excess_mortality\n",
              "location                           ...                                           \n",
              "Afghanistan      Asia  2020-02-24  ...                    0.511               0.0\n",
              "Afghanistan      Asia  2020-02-25  ...                    0.511               0.0\n",
              "Afghanistan      Asia  2020-02-26  ...                    0.511               0.0\n",
              "Afghanistan      Asia  2020-02-27  ...                    0.511               0.0\n",
              "Afghanistan      Asia  2020-02-28  ...                    0.511               0.0\n",
              "\n",
              "[5 rows x 36 columns]"
            ]
          },
          "metadata": {
            "tags": []
          },
          "execution_count": 5
        }
      ]
    },
    {
      "cell_type": "markdown",
      "metadata": {
        "id": "EUeEEaw353lL"
      },
      "source": [
        "Para garantir que consiguiremos realizar os cálculos e as análises gráficas, precisamos saber os tipos das variáveis. Utilizaremos o ``dtypes`` para isso, e o método ``describe()`` para ver o resumo estatístico de cada *feature*"
      ]
    },
    {
      "cell_type": "code",
      "metadata": {
        "colab": {
          "base_uri": "https://localhost:8080/"
        },
        "id": "XIiGQVGGjRBf",
        "outputId": "8ff83037-fba0-4cfd-b7d6-131af139e5d5"
      },
      "source": [
        "df_clean.dtypes"
      ],
      "execution_count": 6,
      "outputs": [
        {
          "output_type": "execute_result",
          "data": {
            "text/plain": [
              "continent                               object\n",
              "date                                    object\n",
              "total_cases                            float64\n",
              "new_cases                              float64\n",
              "total_deaths                           float64\n",
              "new_deaths                             float64\n",
              "new_deaths_smoothed                    float64\n",
              "total_cases_per_million                float64\n",
              "new_cases_per_million                  float64\n",
              "total_deaths_per_million               float64\n",
              "new_deaths_per_million                 float64\n",
              "reproduction_rate                      float64\n",
              "icu_patients                           float64\n",
              "icu_patients_per_million               float64\n",
              "hosp_patients                          float64\n",
              "hosp_patients_per_million              float64\n",
              "total_vaccinations                     float64\n",
              "people_vaccinated                      float64\n",
              "people_fully_vaccinated                float64\n",
              "new_vaccinations                       float64\n",
              "total_vaccinations_per_hundred         float64\n",
              "people_vaccinated_per_hundred          float64\n",
              "people_fully_vaccinated_per_hundred    float64\n",
              "population                             float64\n",
              "population_density                     float64\n",
              "median_age                             float64\n",
              "aged_65_older                          float64\n",
              "aged_70_older                          float64\n",
              "cardiovasc_death_rate                  float64\n",
              "diabetes_prevalence                    float64\n",
              "female_smokers                         float64\n",
              "male_smokers                           float64\n",
              "hospital_beds_per_thousand             float64\n",
              "life_expectancy                        float64\n",
              "human_development_index                float64\n",
              "excess_mortality                       float64\n",
              "dtype: object"
            ]
          },
          "metadata": {
            "tags": []
          },
          "execution_count": 6
        }
      ]
    },
    {
      "cell_type": "markdown",
      "metadata": {
        "id": "h6yyeU0ZIAXZ"
      },
      "source": [
        "Como vemos acima, a coluna ``date`` está como ``object``, sendo assim, precisamos transformar ela para ``datetime``"
      ]
    },
    {
      "cell_type": "code",
      "metadata": {
        "id": "oWFPryzom34d"
      },
      "source": [
        "df_clean['date'] = pd.to_datetime(df_clean['date'])"
      ],
      "execution_count": 7,
      "outputs": []
    },
    {
      "cell_type": "markdown",
      "metadata": {
        "id": "vqwJJwXcvM6J"
      },
      "source": [
        "Com todos os dados prontos, podemos começar nossa análise."
      ]
    },
    {
      "cell_type": "markdown",
      "metadata": {
        "id": "YjaS28moISwG"
      },
      "source": [
        "## Histórico do COVID no Mundo\n",
        "\n",
        "\n",
        "\n"
      ]
    },
    {
      "cell_type": "markdown",
      "metadata": {
        "id": "GYl23zv012fv"
      },
      "source": [
        "Com a grande intensidade de movimentação de pessoas e bens ao redor do mundo, o coronavírus conseguiu se espalhar rapidamente, atingindo marcas de contaminação extremamente altas. Como foi dito acima, o primeiro caso foi confirmado no dia 31 de dezembro 2019, alguns meses depois, no dia 11 de março de 2020, o diretor geral da Organização Mundial de Saúde (OMS), Tedros Adhanom, declarou a elevação do estado da contaminação ao nível de pandemia de  Covid-19 causada pelo novo coronavírus.\n",
        "\n",
        "Apesar de todas as tentativas de contenção do vírus ao redor do mundo, em pouco tempo a soma de casos totais atingiu a marca de 1 milhão, no início do mês de abril. Enquanto a quantidade de mortes somente atingiu essa marca em 18 de setembro. Uma das hipóteses que pode ser levantada para explicar essa diferença de tempo entre uma data e outra, é pensar que no início da pandemia existiam mais vagas para realizar o tratamento dos infectados, mas conforme os casos aumentaram, os sistemas de saúde foram sobrecarregados dificultando a contenção da pandemia."
      ]
    },
    {
      "cell_type": "code",
      "metadata": {
        "id": "9tY_KwEbgEkK"
      },
      "source": [
        "df_world = df_clean.loc['World']"
      ],
      "execution_count": 8,
      "outputs": []
    },
    {
      "cell_type": "code",
      "metadata": {
        "colab": {
          "base_uri": "https://localhost:8080/"
        },
        "id": "SJUQBwbfwxRW",
        "outputId": "807c12bf-493c-4701-d400-a5fafb487d31"
      },
      "source": [
        "total_casos = df_world['total_cases'].max()\n",
        "total_mortes = df_world['total_deaths'].max()\n",
        "\n",
        "print(\"Total de casos ao redor do mundo: {:,}\".format(total_casos))\n",
        "print(\"Total de mortes ao redor do mundo: {:,}\".format(total_mortes))"
      ],
      "execution_count": 9,
      "outputs": [
        {
          "output_type": "stream",
          "text": [
            "Total de casos ao redor do mundo: 203,384,676.0\n",
            "Total de mortes ao redor do mundo: 4,302,961.0\n"
          ],
          "name": "stdout"
        }
      ]
    },
    {
      "cell_type": "code",
      "metadata": {
        "id": "aXYPpUjaD8Lr"
      },
      "source": [
        "# Encontrando o último dia antes de chegar em 1 milhão de casos\n",
        "data_b_million_cases = df_world['date'].loc[df_world['total_cases']<1000000].max()\n",
        "data_a_million_cases = data_b_million_cases + timedelta(days=1)"
      ],
      "execution_count": 10,
      "outputs": []
    },
    {
      "cell_type": "code",
      "metadata": {
        "id": "IWqiZUeAFkv7"
      },
      "source": [
        "# Encontrando o último dia antes de chegar em 1 milhão de mortes\n",
        "data_b_million_deaths  = df_world['date'].loc[df_world['total_deaths']<1000000].max()\n",
        "data_a_million_deaths = data_b_million_deaths + timedelta(days=1)"
      ],
      "execution_count": 11,
      "outputs": []
    },
    {
      "cell_type": "code",
      "metadata": {
        "colab": {
          "base_uri": "https://localhost:8080/"
        },
        "id": "TbLSObzmEQBI",
        "outputId": "1a501b7b-af6d-428e-88b4-a4cf5375a6b6"
      },
      "source": [
        "after_million_cases = df_world['total_cases'].loc[df_world['date'] == data_a_million_cases].loc['World']\n",
        "after_million_deaths = df_world['total_deaths'].loc[df_world['date'] == data_a_million_deaths].loc['World']\n",
        "\n",
        "print(\"A pandemia atingiu o número de {:,} de casos no dia {}/{}/{}\".format(after_million_cases, data_a_million_cases.day, data_a_million_cases.month, data_a_million_cases.year))\n",
        "print(\"A pandemia atingiu o número de {:,} de mortes no dia {}/{}/{}\".format(after_million_deaths, data_a_million_deaths.day, data_a_million_deaths.month, data_a_million_deaths.year))"
      ],
      "execution_count": 12,
      "outputs": [
        {
          "output_type": "stream",
          "text": [
            "A pandemia atingiu o número de 1,042,614.0 de casos no dia 2/4/2020\n",
            "A pandemia atingiu o número de 1,000,450.0 de mortes no dia 18/9/2020\n"
          ],
          "name": "stdout"
        }
      ]
    },
    {
      "cell_type": "markdown",
      "metadata": {
        "id": "ynpz_pe66yQL"
      },
      "source": [
        "Mas apenas dizer que os casos aumentaram de forma rápida não é o suficiente, então vamos analisar o gráfico abaixo, com o histórico de novos casos por dia, e tentar entender o comportamento do vírus."
      ]
    },
    {
      "cell_type": "code",
      "metadata": {
        "id": "vlMIE3GtBabB"
      },
      "source": [
        "fig_new_world = go.Figure([go.Scatter(x=df_world['date'], y=list(df_world['new_cases']), fill='tozeroy',\n",
        "                                  line=dict(color='#4B738E', width=1))])\n",
        "fig_new_world.update_yaxes(showgrid=False, zeroline=True, zerolinecolor='#4B738E', zerolinewidth=0.8)\n",
        "fig_new_world.update_xaxes(showgrid=False)\n",
        "fig_new_world.update_layout(title=dict(text=\"Novos Casos por Dia\",font=dict(family=\"Balto\", size=26), x=0.6), yaxis_title=\"Novos Casos\",\n",
        "                        xaxis_title=\"Data\", paper_bgcolor='rgba(0, 0, 0, 0)',\n",
        "                        plot_bgcolor='rgba(0, 0, 0, 0)', margin=dict(l=80, r=0, t=50, b=50),\n",
        "                        hovermode='x', hoverlabel=dict(bgcolor='#FC5C65', font_size=12, font_family=\"Rockwell\"), width=1000, height=450);\n",
        "\n",
        "# fig_new_world.show()  - Plotar a figura intererativa"
      ],
      "execution_count": 53,
      "outputs": []
    },
    {
      "cell_type": "markdown",
      "metadata": {
        "id": "K_ej_WoJhI26"
      },
      "source": [
        "<img src=\"https://raw.githubusercontent.com/GeovanaSLima/CovidProject/main/novos%20casos.png\" width=80%>"
      ]
    },
    {
      "cell_type": "markdown",
      "metadata": {
        "id": "ONaPqSndnSmx"
      },
      "source": [
        "Como podemos ver, por um bom tempo o vírus se manteve um padrão de pequenas mudanças de altas e baixas, mas sempre crescendo exporadicamente o número de casos. Apenas em Janeiro de 2021, que os números apresentaram uma queda. Se analisarmos os meses seguintes, vemos que a curva de contaminação apresenta um certo padrão de comportamento, com um período de explosão de novos casos e logo uma diminuição. Esse padrão pode ocorrer por conta das ações tomadas pelos governos ao redor do mundo, geralmente quando estamos em um pico de casos tudo é fechado novamente e voltamos ao *lockdown*, e quando estamos em baixa, tudo é reaberto então continuamos alimentando esse padrão.\n",
        "\n",
        "Mas e se compararmos o último mês com o ano de 2020? Durante o decorrer de um ano tivemos diversos acontecimentos que poderiam impactar no número de contaminação, como por exemplo a corrida para a vacinação mundial, medidas rigorosas de prevenção e novos EPIs que surgiram para agregar na luta contra o vírrus. Mas será que o resultado foi positivo? Vamos ver pelo gráfico abaixo"
      ]
    },
    {
      "cell_type": "code",
      "metadata": {
        "id": "P_tkkXJE9RiC"
      },
      "source": [
        "interval = (df_world['date'] > '2020-06-30') & (df_world['date'] < '2020-08-01')\n",
        "interval2 = (df_world['date'] > '2021-06-30') & (df_world['date'] < '2021-08-01')\n",
        "\n",
        "fig_comp_novos_c = make_subplots(rows=1, cols=2, subplot_titles=(\"Jul/2020\", \"Jul/2021\"), shared_yaxes=True)\n",
        "\n",
        "fig_comp_novos_c.add_trace(go.Scatter(x=df_world['date'].loc[interval], y=list(df_world['new_cases'].loc[interval]), fill='tozeroy',\n",
        "                                  line=dict(color='#FC5C65', width=1), showlegend=False, name=\"\"), row=1, col=1)\n",
        "\n",
        "fig_comp_novos_c.add_trace(go.Scatter(x=df_world['date'].loc[interval2], y=list(df_world['new_cases'].loc[interval2]), fill='tozeroy',\n",
        "                                  line=dict(color='#FC5C65', width=1), showlegend=False, name=\"\"), row=1, col=2)\n",
        "\n",
        "fig_comp_novos_c.update_yaxes(showgrid=False, zeroline=True, zerolinecolor='#4B738E', zerolinewidth=0.5)\n",
        "fig_comp_novos_c.update_xaxes(showgrid=False)\n",
        "fig_comp_novos_c.update_layout(title=dict(text=\"Comparação Novos Casos\", font_size=24, pad=dict(b=60), x=0.5), yaxis_title=\"Novos Casos\",\n",
        "                        xaxis_title=\"Data\", paper_bgcolor='rgba(0, 0, 0, 0)',\n",
        "                        plot_bgcolor='rgba(0, 0, 0, 0)',\n",
        "                        hovermode='x', hoverlabel=dict(bgcolor='#4B738E'), width=1300, height=500);\n",
        "\n",
        "# fig_comp_novos_c.show()  - Plotar a figura intererativa"
      ],
      "execution_count": 54,
      "outputs": []
    },
    {
      "cell_type": "markdown",
      "metadata": {
        "id": "saDcoCLohne4"
      },
      "source": [
        "<img src=\"https://raw.githubusercontent.com/GeovanaSLima/CovidProject/main/comp%20novos%20casos.png\">"
      ]
    },
    {
      "cell_type": "code",
      "metadata": {
        "colab": {
          "base_uri": "https://localhost:8080/"
        },
        "id": "rW_tHycEYi3R",
        "outputId": "fbdfa33b-12bd-4780-95e6-73c465f00b40"
      },
      "source": [
        "print('Total de casos Jul/2020: {:,}'.format(df_world['new_cases'].loc[interval].sum()))\n",
        "print('Total de casos Jul/2021: {:,}'.format(df_world['new_cases'].loc[interval2].sum()))\n",
        "print('Diferença (Jul/21 - Jul/21): {:,}'.format(df_world['new_cases'].loc[interval2].sum() - df_world['new_cases'].loc[interval].sum()))\n",
        "print('Porcentagem da Diferença: {:.0%}'.format((df_world['new_cases'].loc[interval2].sum() - df_world['new_cases'].loc[interval].sum()) / df_world['new_cases'].loc[interval].sum()))"
      ],
      "execution_count": 15,
      "outputs": [
        {
          "output_type": "stream",
          "text": [
            "Total de casos Jul/2020: 7,146,907.0\n",
            "Total de casos Jul/2021: 15,670,452.0\n",
            "Diferença (Jul/21 - Jul/21): 8,523,545.0\n",
            "Porcentagem da Diferença: 119%\n"
          ],
          "name": "stdout"
        }
      ]
    },
    {
      "cell_type": "markdown",
      "metadata": {
        "id": "RLGobBNHG8UP"
      },
      "source": [
        "Pelo gráfico, vemos que a diminuição de casos que esperávamos não aconteceu. Na verdade, o número de novos casos aumentou 219% comparado ao mesmo mês do último ano. Em Julho de 2020, tivemos 7.149.907 novos casos confirmados, enquanto em 2021, foram 15.670.452.\n",
        "\n",
        "Apesar desta grande diferença entre os meses, não podemos dizer que a vacinação ou os *lockdowns* foram ineficientes. Na realidade, o certo é ver que se todas essas ações não fossem tomadas, os números poderiam ser muito maiores. \n"
      ]
    },
    {
      "cell_type": "code",
      "metadata": {
        "id": "PoYfRnjnCddX"
      },
      "source": [
        "df_ranking = df_clean.drop([\"World\", \"Asia\", \"Europe\", \"North America\", \"South America\", \"European Union\"])"
      ],
      "execution_count": 16,
      "outputs": []
    },
    {
      "cell_type": "markdown",
      "metadata": {
        "id": "GlVIjGfvxyXo"
      },
      "source": [
        "## Países com maiores índices\n",
        "\n",
        "Agora que temos uma visão geral da pandemia ao redor do mundo, vamos começar a olhar mais a fundo dentro dos dados e fazer alguns questionamentos do tipo?\n",
        "\n",
        "Quais são os países com mais casos? E o país com mais mortes? \n",
        "E como estão os números do Brasil? Estamos com altos ou baixos índices comparando com os outros países?\n",
        "\n",
        "Vamos responder essas e outras perguntas analisando o gráfico abaixo"
      ]
    },
    {
      "cell_type": "code",
      "metadata": {
        "id": "72xnbnumAEHb"
      },
      "source": [
        "ranking_cases = df_ranking.groupby(df_ranking.index).max().sort_values(\"total_cases\", ascending=False)[:5]\n",
        "ranking_deaths = df_ranking.groupby(df_ranking.index).max().sort_values(\"total_deaths\", ascending=False)[:5]\n",
        "\n",
        "color = ['#FC5C65' if country == \"Brazil\" else 'rgba(252, 92, 101, 0.3)' for country in ranking_cases.index]\n",
        "color2 = ['#FC5C65' if country == \"Brazil\" else 'rgba(252, 92, 101, 0.3)' for country in ranking_deaths.index]\n",
        "\n",
        "fig_ranking = make_subplots(rows=1, cols=2, subplot_titles=(\"Total de Casos\", \"Total de Mortes\"))\n",
        "\n",
        "fig_ranking.add_trace(go.Bar(x=ranking_cases.index, y=list(ranking_cases['total_cases']),\n",
        "                             marker_color=color, showlegend=False), row=1, col=1)\n",
        "\n",
        "fig_ranking.add_trace(go.Bar(x=ranking_deaths.index, y=list(ranking_deaths['total_deaths']),\n",
        "                                  marker_color=color2, showlegend=False), row=1, col=2)\n",
        "\n",
        "\n",
        "fig_ranking.update_layout(width=1500, height=500, plot_bgcolor='rgba(0, 0, 0, 0)',\n",
        "                  paper_bgcolor='rgba(0, 0, 0, 0)')\n",
        "fig_ranking.update_xaxes(showgrid=False)\n",
        "fig_ranking.update_yaxes(showgrid=False)\n",
        "\n",
        "# fig_ranking.show()  - Plotar a figura intererativa"
      ],
      "execution_count": null,
      "outputs": []
    },
    {
      "cell_type": "markdown",
      "metadata": {
        "id": "vaFT_Oz1iUeY"
      },
      "source": [
        "<img src=\"https://raw.githubusercontent.com/GeovanaSLima/CovidProject/main/ranking1.png\">"
      ]
    },
    {
      "cell_type": "markdown",
      "metadata": {
        "id": "JNBN4xue1n7L"
      },
      "source": [
        "Acima, temos dois gráficos contendo os países com maiores índices de casos e mortes. Podemos ver que, em ambos os Estados Unidos dominam a primeira colocação, entretanto os outros níveis se alteram um pouco. Como destacado, o Brasil está entre os países com maiores índices do coronavírus, mas apresenta uma boa diferença entre casos e mortes.\n",
        "\n",
        "Vamos fazer uma rápida comparação entre os resultados encontrados para ambos os países.\n",
        "\n",
        "No total, os Estados Unidos apresenta 35.948.131 casos confirmados, e do outro lado, o Brasil possui 20.177.757, resultando em uma diferença de 15.770.374 casos. Enquanto isso, as mortes possuem uma diferença de 53.759, onde temos 617.321 mortes para os Estados Unidos e 563.562 para o Brasil. Mas o que esses números significam?\n",
        "\n",
        "Bom, temos que o número de casos dos EUA representam 17,67% do total, enquanto do Brasil são 9,92%, ou seja, a diferença é de 7,75%. Entretanto, quando olhamos o número de mortes esta diferença cai para menos de 2%. Ou seja, apesar da grande diferença entre casos, a taxa de mortes é mais alta.\n"
      ]
    },
    {
      "cell_type": "code",
      "metadata": {
        "colab": {
          "base_uri": "https://localhost:8080/"
        },
        "id": "-dzDyAgUmSIP",
        "outputId": "597bed40-a94b-4f86-8eb6-5c07dbf93145"
      },
      "source": [
        "print('Total de casos (EUA): {:,}\\nTotal de casos (BR): {:,}\\n'.format(ranking_cases.loc['United States'].total_cases, ranking_cases.loc['Brazil'].total_cases))\n",
        "print('Total de mortes (EUA): {:,}\\nTotal de mortes (BR): {:,}\\n'.format((ranking_deaths.loc['United States'].total_deaths), (ranking_deaths.loc['Brazil'].total_deaths)))\n",
        "\n",
        "print('Porcentagem de mortes do total de casos (EUA): {:.0%}'.format(ranking_deaths.loc['United States'].total_deaths/ranking_cases.loc['United States'].total_cases))\n",
        "print('Porcentagem de mortes do total de casos (BR): {:.0%}\\n'.format(ranking_deaths.loc['Brazil'].total_deaths/ranking_cases.loc['Brazil'].total_cases))\n",
        "\n",
        "print('Diferença entre casos (EUA x BR): {:,}'.format((ranking_cases.loc['United States'].total_cases)-(ranking_cases.loc['Brazil'].total_cases)))\n",
        "print('Diferença entre mortes (EUA x BR): {:,}\\n'.format((ranking_deaths.loc['United States'].total_deaths)-(ranking_deaths.loc['Brazil'].total_deaths)))\n",
        "\n",
        "print('Porcentagem de casos do total (EUA): {:.2%}\\nPorcentagem de casos do total (BR): {:.2%}\\n'.format(ranking_cases.loc['United States'].total_cases/total_casos, ranking_cases.loc['Brazil'].total_cases/total_casos))\n",
        "print('Porcentagem de mortes do total (EUA): {:.2%}\\nPorcentagem de mortes do total (BR): {:.2%}\\n'.format(ranking_deaths.loc['United States'].total_deaths/total_mortes, ranking_deaths.loc['Brazil'].total_deaths/total_mortes))"
      ],
      "execution_count": 18,
      "outputs": [
        {
          "output_type": "stream",
          "text": [
            "Total de casos (EUA): 35,948,131.0\n",
            "Total de casos (BR): 20,177,757.0\n",
            "\n",
            "Total de mortes (EUA): 617,321.0\n",
            "Total de mortes (BR): 563,562.0\n",
            "\n",
            "Porcentagem de mortes do total de casos (EUA): 2%\n",
            "Porcentagem de mortes do total de casos (BR): 3%\n",
            "\n",
            "Diferença entre casos (EUA x BR): 15,770,374.0\n",
            "Diferença entre mortes (EUA x BR): 53,759.0\n",
            "\n",
            "Porcentagem de casos do total (EUA): 17.67%\n",
            "Porcentagem de casos do total (BR): 9.92%\n",
            "\n",
            "Porcentagem de mortes do total (EUA): 14.35%\n",
            "Porcentagem de mortes do total (BR): 13.10%\n",
            "\n"
          ],
          "name": "stdout"
        }
      ]
    },
    {
      "cell_type": "markdown",
      "metadata": {
        "id": "ELS_rjJrAHhA"
      },
      "source": [
        "## Vacinação\n",
        "\n"
      ]
    },
    {
      "cell_type": "markdown",
      "metadata": {
        "id": "sJ99ivcm57ss"
      },
      "source": [
        "O dia 08 de dezembro de 2020 foi um grande marco na história do século XXI, no Reino Unido, a primeira pessoa no mundo foi vacinada contra o novo coronavírus. Desde então, diversos países seguiram esse passo tornando possível o início de uma nova era, o novo normal.\n",
        "\n",
        "Desde o novo dia 'D', já se passaram 8 meses, vamos analisar como estão as campanhas de vacinação ao redor do mundo."
      ]
    },
    {
      "cell_type": "code",
      "metadata": {
        "id": "cDkNPnbK19Of"
      },
      "source": [
        "df_vacina = df_ranking[['total_vaccinations', 'people_vaccinated', 'people_fully_vaccinated', 'new_vaccinations', 'population']]\n",
        "\n",
        "ranking_vacina_total = df_vacina.groupby(df_vacina.index).max().sort_values(\"total_vaccinations\", ascending=False)[:5]\n",
        "ranking_vacina_fully = df_vacina.groupby(df_vacina.index).max().sort_values(\"people_fully_vaccinated\", ascending=False)[:5]\n",
        "\n",
        "color = ['#FC5C65' if country == \"Brazil\" else 'rgba(252, 92, 101, 0.3)' for country in ranking_vacina_total.index]\n",
        "color2 = ['#FC5C65' if country == \"Brazil\" else 'rgba(252, 92, 101, 0.3)' for country in ranking_vacina_fully.index]\n",
        "\n",
        "fig_ranking_vacina = make_subplots(rows=1, cols=2, subplot_titles=(\"Total de Vacinação\", \"Pessoas Totalmente Vacinadas\"))\n",
        "\n",
        "fig_ranking_vacina.add_trace(go.Bar(x=ranking_vacina_total.index, y=list(ranking_vacina_total['total_vaccinations']),\n",
        "                             marker_color=color, showlegend=False), row=1, col=1)\n",
        "fig_ranking_vacina.add_trace(go.Bar(x=ranking_vacina_fully.index, y=list(ranking_vacina_fully['people_fully_vaccinated']),\n",
        "                                  marker_color=color2, showlegend=False), row=1, col=2)\n",
        "\n",
        "fig_ranking_vacina.update_layout(title=dict(text=\"Ranking de Vacinação\", x=0.5, font_size=26, pad=dict(b=60)),\n",
        "                  width=1500, height=500, plot_bgcolor='rgba(0, 0, 0, 0)',\n",
        "                  paper_bgcolor='rgba(0, 0, 0, 0)')\n",
        "\n",
        "# fig_ranking_vacina.show()  - Plotar a figura intererativa"
      ],
      "execution_count": null,
      "outputs": []
    },
    {
      "cell_type": "markdown",
      "metadata": {
        "id": "RLaNFDItibAl"
      },
      "source": [
        "<img src=\"https://raw.githubusercontent.com/GeovanaSLima/CovidProject/main/ranking2.png\">"
      ]
    },
    {
      "cell_type": "markdown",
      "metadata": {
        "id": "__LE_3p337eA"
      },
      "source": [
        "Neste gráfico temos um fato muito complicado, no primeiro a análise está bem aceitável, com um índice de vacinação relativamente alto. Por outro lado, quando vemos a quantidade de pessoas totalmente vacinadas, esse índice cai para, aproximadamente, 21% das pessoas vacinadas. Ou seja, apenas 21% da população vacinada está efetivamente protegido.\n",
        "\n",
        "Agora, fica aquele questionamento, por que isso acontece? A primeira hipótese que podemos levantar é que dependendo da data de aplicação, as pessoas estariam aguardando para ficar 100% vacinado. A segunda, é mais perigosa e em muitos casos, verdadeira. Muitas pessoas acabam acreditando que ao tomar a primeira dose, estão protegidos e não veem necessidade da aplicação de outras doses. Como dito, esse tipo de pensamento pode ser muito perigoso lecando em consideração que poderia ocasionar em um novo surto causado pela falta aceitação das medidas de prevenção."
      ]
    },
    {
      "cell_type": "code",
      "metadata": {
        "colab": {
          "base_uri": "https://localhost:8080/"
        },
        "id": "Wue4ZlYBBdeK",
        "outputId": "e3c6cdcd-36a8-4c42-c3c9-4c4ea327b568"
      },
      "source": [
        "print('Total de Vacinas: {:,}'.format(df_vacina['total_vaccinations'].sum()))\n",
        "print('Pessoas totalmente vacinadas: {:,}'.format(df_vacina['people_fully_vaccinated'].sum()))\n",
        "\n",
        "print('Diferença: {:,}\\nPorcentagem: {:.2%}'.format((df_vacina['total_vaccinations'].sum() - df_vacina['people_fully_vaccinated'].sum()), (df_vacina['people_fully_vaccinated'].sum())/df_vacina['total_vaccinations'].sum()))"
      ],
      "execution_count": 20,
      "outputs": [
        {
          "output_type": "stream",
          "text": [
            "Total de Vacinas: 301,506,258,707.0\n",
            "Pessoas totalmente vacinadas: 64,358,963,168.0\n",
            "Diferença: 237,147,295,539.0\n",
            "Porcentagem: 21.35%\n"
          ],
          "name": "stdout"
        }
      ]
    },
    {
      "cell_type": "markdown",
      "metadata": {
        "id": "80knHDWdBiib"
      },
      "source": [
        "## **Conclusão**\n",
        "\n",
        "Chegamos ao final deste projeto, e com todas as informações apresentadas vimos que muitas vezes ações são tomadas com um certo resultado na mente, mas podemos não chegar a isso. Como por exemplo, todos os métodos de prevenção que foram adotados para tentar conter o coronavírus, tendo na mente que seriam 2 ou 3 semanas de *lockdown* e na realidade ficar mais de um ano em uma pandemia. Entretanto, entendemos também que não atingir o resultado esperado, não necessariamente significa que foi fracassado, pois se medidas não fossem tomadas, o final poderia ter sido mil vezes pior.\n",
        "\n",
        "Com isso encerramos mais um projeto aqui no LearningData. Espero que tenham gostado do conteúdo, continuem se prevenindo.\n",
        "\n",
        "Não se esqueça de seguir o perfil no [LinkedIn](https://www.linkedin.com/in/geovana--sousa/) para não perder as próximas atualizações 😉"
      ]
    }
  ]
}