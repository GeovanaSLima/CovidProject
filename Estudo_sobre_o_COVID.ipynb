{
  "nbformat": 4,
  "nbformat_minor": 0,
  "metadata": {
    "colab": {
      "name": "Estudo sobre o COVID.ipynb",
      "provenance": [],
      "collapsed_sections": [],
      "mount_file_id": "1eKo8Wglhld-KHRZ_N6uorst4wIhBTN5A",
      "authorship_tag": "ABX9TyOFGHVPrXVdfPZj4KNsH7gd",
      "include_colab_link": true
    },
    "kernelspec": {
      "name": "python3",
      "display_name": "Python 3"
    },
    "language_info": {
      "name": "python"
    }
  },
  "cells": [
    {
      "cell_type": "markdown",
      "metadata": {
        "id": "view-in-github",
        "colab_type": "text"
      },
      "source": [
        "<a href=\"https://colab.research.google.com/github/GeovanaSLima/CovidProject/blob/main/Estudo_sobre_o_COVID.ipynb\" target=\"_parent\"><img src=\"https://colab.research.google.com/assets/colab-badge.svg\" alt=\"Open In Colab\"/></a>"
      ]
    },
    {
      "cell_type": "markdown",
      "metadata": {
        "id": "wPphkluq7_Er"
      },
      "source": [
        "# Estudo sobre o COVID-19\n",
        "\n",
        "\n",
        "No ano de 2020, a vida como conhecíamos foi abruptamente interrompida por uma pandemia que parou o mundo.\n",
        "\n",
        "O COVID-19, faz parte da família coronavírus, conhecidos por causarem doenças que variam de resfriados até doenças mais graves como a Síndrome Respiratória Aguda Grave (SARS-CoV) e a Síndrome Respiratória do Oriente Médio (MERS-CoV). E, de acordo com os pesquisadores da nova doença, acredita-se que os primeiros casos de infecção possam ter acontecido de animais para pessoas. \n",
        "Os primeiros casos do novo coronavírus foram identificados em pessoas que estiveram no grande mercado popular da cidade de Wuhan, na China, onde costumam vender diversos tipos de animais selvagens vivos, nos quais poderiam estar infectados. As primeiras ocorrências foram confirmadas no dia 31/12/2019, e apresentou um aumento exponencial nas semanas seguintes.\n",
        "\n",
        "A primeira morte decorrente do vírus ocorreu em 9 de janeiro de 2020, e a Comissão Nacional da China confirmou apenas em 20 de janeiro de 2020 que o coronavírus poderia ser transmitido entre humanos. Neste mesmo dia, houve um aumento considerável de novos casos, 140 pacientes em diferentes localizações, como em Pequim e Shenzhen. E no dia 23 de janeiro de 2020 Wuhan entrou em quarentena, para tentar evitar espalhar a contaminação. \n",
        "Entretanto, no dia seguinte, 24 de janeiro, foi confirmado o primeiro caso da infecção na França. E em seguida, a transmissão do vírus aumentou de forma muito rápida. Em 15 de fevereiro, foi confirmado o primeiro caso de contaminação na América do Norte. Segundo a Universidade John Hopkins, em abril, a pandemia atingiu mais de cem mil mortes ao redor do mundo, ultrapassando 1,6 milhões de casos. E 5 dias após, 15 de abril, o número de infectados bateu a marca de 2 milhões. Em 12 de outubro, foram contabilizados 1 milhão de mortos no mundo.\n",
        "\n",
        "### Sintomas\n",
        "\n",
        " Existem diversos sintomas que as pessoas infectadas podem sentir, sendo eles divididos em sintomas leves e sintomas graves. Alguns infectados, conhecidos como assintomáticos, não apresentam sintomas e não se sentem mal. Segundo o Médicos Sem Fronteiras, cerca de 80% conseguem se recuperar sem precisar de tratamentos especiais, e 1 em cada 6 pessoas que contraem o coronavírus, fica gravemente doente.\n",
        "\n",
        "Os **sintomas leves** são: febre e tosse seca, sintomas respiratórios em menor proporção, dores no corpo, cansaço, incômodo a garganta, diarreia, secreção ou congestão nasal.\n",
        "\n",
        "Os **sintomas graves** ou de alerta são: febre alta associada a tosse e falta de ar ou dificuldade para respirar, dores no peito e tom azulado na face ou nos lábios. \n"
      ]
    },
    {
      "cell_type": "markdown",
      "metadata": {
        "id": "VuNOcuMHckNA"
      },
      "source": [
        "## Dados\n",
        "\n",
        "Para realizar esta análise, iremos extrair os dados do repositório público mantido pelo _[Our World in Data](https://ourworldindata.org/)_, uma organização que tem como objetivo tornar acessível o conhecimento dos maiores problemas globais. Algo que devemos ter em mente, é que as informações não são 100% corretas, levando em consideração que existe muitos conflitos com os dados dos governos ao redor do mundo.\n",
        "O dataset foi criado a partir dos estudos realizado pelo grupo, com base em informações de governos e instituições de pesquisas renomadas para a estruturação de certas variáveis. Abaixo temos as fontes utilizadas em tradução livre.\n",
        "\n",
        "> * **Casos e mortes confirmadas:** nossos dados vêm do _[Repositório de Dados sobre o COVID-19 do Center for Systems Science and Engineering (CSSE) da Universidade Johns Hopkins](https://github.com/CSSEGISandData/COVID-19)_ (JHU). Nós discutimos como e quando a JHU coleta e publica os dados [aqui](https://ourworldindata.org/coronavirus-source-data). O cases & deaths dataset é atualizado diariamente. Nota: o número de casos ou mortes reportados por qualquer instituição – incluindo JHU, o WHO, ECDC, entre outros – em qualquer dia, não necessariamente representa o número exato naquela data. Isso, por conta da longa cadeia de comunicação que existe entre um novo caso/morte e sua inclusão na estatística. Isso também significa que valores negativos em cases & deaths podem aparecer quando países corrigem os dados históricos por terem sobrestimado os números. Alternativamente, grandes mudanças podem ser feitas em toda a série de um país caso a JHU decida corrigir os valores retrospectivamente.\n",
        "> <br>\n",
        ">\n",
        "> * **Hospitalização e entrada em unidade de tratamento intensivo (UTI):** Nossos dados vêm do _[European Centre for Disease Prevention and Control](https://www.ecdc.europa.eu/en/publications-data/download-data-hospital-and-icu-admission-rates-and-current-occupancy-covid-19)_ (ECDC) para um seleto número de países europeus. Também foram utilizados dados dos governos das [Nações Unidas](https://coronavirus.data.gov.uk/details/healthcare), [Estados Unidos](https://healthdata.gov/dataset/covid-19-reported-patient-impact-and-hospital-capacity-state-timeseries), [Canadá](https://covid19tracker.ca/), [Israel](https://datadashboard.health.gov.il/COVID-19/general) e [Argélia](https://github.com/yasserkaddour/covid19-icu-data-algeria). Infelizmente não foi possível disponibilizar dados de hospitalização de outros países: atualmente não existe uma base de dados global sobre hospitalizações por conta do COVID-19, e nosso time do Our World in Data não tem a capacidade de construir um.\n",
        "> <br>\n",
        ">\n",
        "> * **Teste de COVID-19:** Esses dados são coletados pelo time do *Our World in Data*  a partir de relatórios oficiais. Você pode encontrar mais detalhes no nosso post sobre testes de COVID-19, incluindo nosso [checklist de questões para entender dados de testes](https://ourworldindata.org/coronavirus-testing#our-checklist-for-covid-19-testing-data), informações de [cobertura geográfica e temporal](https://ourworldindata.org/coronavirus-testing#which-countries-do-we-have-testing-data-for) e [informações detalhadas de país para país](https://ourworldindata.org/coronavirus-testing#our-checklist-for-covid-19-testing-data). O dataset de teste é atualizado duas vezes por semana.\n",
        "> <br>\n",
        ">\n",
        "> * **Vacinação contra o COVID-19:** Esses dados são coletados pelo time do *Our World in Data* a partir de relatórios oficiais.\n",
        "> <br>\n",
        ">\n",
        "> * **Outras variáveis:** Esses dados são coletados de uma variedade de fontes (Nações Unidas, World Bank, Global Burden of Disease, Blavatnik School of Government, etc.). Para mais informações, acesse [nosso codebook](https://github.com/owid/covid-19-data/tree/master/public/data/owid-covid-codebook.csv).\n",
        "\n",
        "\n",
        "<br>\n",
        "<br>\n",
        "\n",
        "A seguir teremos o passo a passo da análise exploratória, caso queira ver apenas o resultado, acesse o [post](learndata.com.br/post/estudo-sobre-o-covid19) no LearningData.\n",
        "\n",
        "<br>\n",
        "\n",
        "---\n",
        "\n",
        "<br>\n",
        "\n",
        "### Dicionário de Variáveis\n",
        "\n",
        "Coluna  | Descrição\n",
        ":-------: | :---------\n",
        "iso_code  | Código de países com 3 letras\n",
        "continent  | Continente da localização geográfica\n",
        "location  | Localização geográfica\n",
        "date  | Data da observação\n",
        "total_cases  | Casos confirmados da COVID-19\n",
        "new_cases  | Novos casos confirmados da COVID-19\n",
        "new_cases_smoothed  | Novos casos confirmados (suavizado por 7 dias)\n",
        "total_deaths  | Total de mortes\n",
        "new_deaths  | Novas mortes\n",
        "new_deaths_smoothed  | Novas mortes (suavizado por 7 dias)\n",
        "total_cases_per_million  | Total de casos confirmados por 1.000.000 de pessoas\n",
        "new_cases_per_million  | Novos casos por 1.000.000 de pessoas\n",
        "new_cases_smoothed_per_million  | Novos casos por 1.000.000 de pessoas (suavizado por 7 dias)\n",
        "total_deaths_per_million  | Total de mortes por 1.000.000 de pessoas\n",
        "new_deaths_per_million  | Novas mortes por 1.000.000 de pessoas\n",
        "new_deaths_smoothed_per_million  | Novas mortes por 1.000.000 de pessoas (suavizado por 7 dias)\n",
        "reproduction_rate  | Estimação em tempo real da taxa efetiva de reprodução\n",
        "icu_patients  | Número de pacientes em UTI em um dia\n",
        "icu_patients_per_million  | Número de pacientes em UTI em um dia por 1.000.000 de pessoas\n",
        "hosp_patients  | Número de pacientes hospitalizados em um dia\n",
        "hosp_patients_per_million  | Número de pacientes hospitalizados em um dia por 1.000.000 de pessoas\n",
        "weekly_icu_admissions  | Número de pacientes admitidos em UTI em uma semana\n",
        "weekly_icu_admissions_per_million  | Número de pacientes admitidos em UTI em uma semana por 1.000.000 de pessoas\n",
        "weekly_hosp_admissions  | Número de pacientes hospitalizados em uma semana\n",
        "weekly_hosp_admissions_per_million  | Número de pacientes hospitalizados em uma semana por 1.000.000 de pessoas\n",
        "total_tests  | Número total de testes\n",
        "new_tests  | Número de novos testes (calculado por dias consecutivos)\n",
        "total_tests_per_thousand  | Total de testes por 1.000 pessoas\n",
        "new_tests_per_thousand  | Número de novos testes por 1.000 pessoas\n",
        "new_tests_smoothed  | Novos testes (suavizado por 7-dias)\n",
        "new_tests_smoothed_per_thousand  | Novos testes (suavizado por 7-dias) por 1.000\n",
        "positive_rate  | Número de testes positivos em uma média de 7 dias (inverso de tests_per_case)\n",
        "tests_per_case  | Testes conduzidos por novos casos, média de 7 dias\n",
        "tests_units  | Unidade usada pela localização para reportar o número de testes\n",
        "total_vaccinations  | Número total de doses de vacinas aplicadas\n",
        "people_vaccinated  | Número de pessoas vacinadas com pelo menos uma dose\n",
        "people_fully_vaccinated  | Número de pessoas totalmente vacinadas\n",
        "new_vaccinations  | Novas doses de vacinas aplicadas (calculado por dias consecutivos)\n",
        "new_vaccinations_smoothed  | Novas doses de vacinas aplicadas (suavizado por 7 dias)\n",
        "total_vaccinations_per_hundred  | Número total de vacinas aplicadas a cada 100 pessoas da população total\n",
        "people_vaccinated_per_hundred  | Número total de pessoas vacinadas com pelo menos uma dose a cada 100 pessoas da população total\n",
        "people_fully_vaccinated_per_hundred  | Número de pessoas totalmente vacinadas a cada 100 pessoas da popúlação total\n",
        "new_vaccinations_smoothed_per_million  | Novas vacinas aplicadas a cada 1.000.000 pessoas da população total (suavizado por 7 dias)\n",
        "stringency_index  | Índice de Stringency da Resposta Governamental: Composto por 9 indicadores de respostas\n",
        "population  | População em 2020\n",
        "population_density  | Número de pessoas divido pela área, medida em $km^2$ (ano masi recente)\n",
        "median_age  | Idade média da população, de acordo com a projeção da UN para 2020\n",
        "aged_65_older  | Parte da população acima de 65 anos\n",
        "aged_70_older  | Parte da população acima de 70 anos\n",
        "gdp_per_capita  | Poder de compra de produtos domésticos (Dólar internacional)\n",
        "extreme_poverty  | Parte da população vivendo em extrema pobreza\n",
        "cardiovasc_death_rate  | Média de mortes por doenças cardivasculares em 2017 (número de mortes anual por 100.000 de pessoas)\n",
        "diabetes_prevalence  | Prevalência de diabetes em 2017 (% da população entre 20 e 79 anos)\n",
        "female_smokers  | Número de mulheres fumantes\n",
        "male_smokers  | Número de homens fumantes\n",
        "handwashing_facilities  | Parte da população que possui instalações básicas para a lavagem das mãos\n",
        "hospital_beds_per_thousand  | Número de camas de hospital por 1.000 pessoas (ano mais recente, desde 2010)\n",
        "life_expectancy  | Expectativa de vida ao nascer (2019)\n",
        "human_development_index  | Índice de desenvolvimento humano\n",
        "excess_mortality  | Valor-P do excesso de moratalidade para todas as idades\n",
        "\n",
        "<br>\n",
        "\n",
        "Para o desenvolvimento deste estudo, foram utilizados dados até o dia 05/08/2021\n",
        "\n",
        "\n",
        "<br>\n",
        "\n",
        "\n",
        "---\n",
        "\n",
        "## Manipulação dos Dados\n",
        "\n",
        "O *dataset* pode ser encontrado [aqui](https://raw.githubusercontent.com/owid/covid-19-data/master/public/data/owid-covid-data.csv)"
      ]
    },
    {
      "cell_type": "code",
      "metadata": {
        "id": "KjxS2qp8jaBD"
      },
      "source": [
        "import pandas as pd\n",
        "import matplotlib.pyplot as plt\n",
        "import seaborn as sns\n",
        "import plotly.graph_objects as go\n",
        "from plotly.subplots import make_subplots\n",
        "import ipywidgets as ipw\n",
        "from datetime import  datetime, timedelta\n",
        "from plotly.offline import iplot"
      ],
      "execution_count": 1,
      "outputs": []
    },
    {
      "cell_type": "code",
      "metadata": {
        "colab": {
          "base_uri": "https://localhost:8080/",
          "height": 312
        },
        "id": "NuSyimj9jh_D",
        "outputId": "0031bc3e-8726-4e4d-901d-eadd3a2486ee"
      },
      "source": [
        "df = pd.read_csv('/content/drive/MyDrive/DSNP/Projetos/owid-covid-data.csv')\n",
        "df.head()"
      ],
      "execution_count": 2,
      "outputs": [
        {
          "output_type": "execute_result",
          "data": {
            "text/html": [
              "<div>\n",
              "<style scoped>\n",
              "    .dataframe tbody tr th:only-of-type {\n",
              "        vertical-align: middle;\n",
              "    }\n",
              "\n",
              "    .dataframe tbody tr th {\n",
              "        vertical-align: top;\n",
              "    }\n",
              "\n",
              "    .dataframe thead th {\n",
              "        text-align: right;\n",
              "    }\n",
              "</style>\n",
              "<table border=\"1\" class=\"dataframe\">\n",
              "  <thead>\n",
              "    <tr style=\"text-align: right;\">\n",
              "      <th></th>\n",
              "      <th>iso_code</th>\n",
              "      <th>continent</th>\n",
              "      <th>location</th>\n",
              "      <th>date</th>\n",
              "      <th>total_cases</th>\n",
              "      <th>new_cases</th>\n",
              "      <th>new_cases_smoothed</th>\n",
              "      <th>total_deaths</th>\n",
              "      <th>new_deaths</th>\n",
              "      <th>new_deaths_smoothed</th>\n",
              "      <th>total_cases_per_million</th>\n",
              "      <th>new_cases_per_million</th>\n",
              "      <th>new_cases_smoothed_per_million</th>\n",
              "      <th>total_deaths_per_million</th>\n",
              "      <th>new_deaths_per_million</th>\n",
              "      <th>new_deaths_smoothed_per_million</th>\n",
              "      <th>reproduction_rate</th>\n",
              "      <th>icu_patients</th>\n",
              "      <th>icu_patients_per_million</th>\n",
              "      <th>hosp_patients</th>\n",
              "      <th>hosp_patients_per_million</th>\n",
              "      <th>weekly_icu_admissions</th>\n",
              "      <th>weekly_icu_admissions_per_million</th>\n",
              "      <th>weekly_hosp_admissions</th>\n",
              "      <th>weekly_hosp_admissions_per_million</th>\n",
              "      <th>new_tests</th>\n",
              "      <th>total_tests</th>\n",
              "      <th>total_tests_per_thousand</th>\n",
              "      <th>new_tests_per_thousand</th>\n",
              "      <th>new_tests_smoothed</th>\n",
              "      <th>new_tests_smoothed_per_thousand</th>\n",
              "      <th>positive_rate</th>\n",
              "      <th>tests_per_case</th>\n",
              "      <th>tests_units</th>\n",
              "      <th>total_vaccinations</th>\n",
              "      <th>people_vaccinated</th>\n",
              "      <th>people_fully_vaccinated</th>\n",
              "      <th>new_vaccinations</th>\n",
              "      <th>new_vaccinations_smoothed</th>\n",
              "      <th>total_vaccinations_per_hundred</th>\n",
              "      <th>people_vaccinated_per_hundred</th>\n",
              "      <th>people_fully_vaccinated_per_hundred</th>\n",
              "      <th>new_vaccinations_smoothed_per_million</th>\n",
              "      <th>stringency_index</th>\n",
              "      <th>population</th>\n",
              "      <th>population_density</th>\n",
              "      <th>median_age</th>\n",
              "      <th>aged_65_older</th>\n",
              "      <th>aged_70_older</th>\n",
              "      <th>gdp_per_capita</th>\n",
              "      <th>extreme_poverty</th>\n",
              "      <th>cardiovasc_death_rate</th>\n",
              "      <th>diabetes_prevalence</th>\n",
              "      <th>female_smokers</th>\n",
              "      <th>male_smokers</th>\n",
              "      <th>handwashing_facilities</th>\n",
              "      <th>hospital_beds_per_thousand</th>\n",
              "      <th>life_expectancy</th>\n",
              "      <th>human_development_index</th>\n",
              "      <th>excess_mortality</th>\n",
              "    </tr>\n",
              "  </thead>\n",
              "  <tbody>\n",
              "    <tr>\n",
              "      <th>0</th>\n",
              "      <td>AFG</td>\n",
              "      <td>Asia</td>\n",
              "      <td>Afghanistan</td>\n",
              "      <td>2020-02-24</td>\n",
              "      <td>1.0</td>\n",
              "      <td>1.0</td>\n",
              "      <td>NaN</td>\n",
              "      <td>NaN</td>\n",
              "      <td>NaN</td>\n",
              "      <td>NaN</td>\n",
              "      <td>0.026</td>\n",
              "      <td>0.026</td>\n",
              "      <td>NaN</td>\n",
              "      <td>NaN</td>\n",
              "      <td>NaN</td>\n",
              "      <td>NaN</td>\n",
              "      <td>NaN</td>\n",
              "      <td>NaN</td>\n",
              "      <td>NaN</td>\n",
              "      <td>NaN</td>\n",
              "      <td>NaN</td>\n",
              "      <td>NaN</td>\n",
              "      <td>NaN</td>\n",
              "      <td>NaN</td>\n",
              "      <td>NaN</td>\n",
              "      <td>NaN</td>\n",
              "      <td>NaN</td>\n",
              "      <td>NaN</td>\n",
              "      <td>NaN</td>\n",
              "      <td>NaN</td>\n",
              "      <td>NaN</td>\n",
              "      <td>NaN</td>\n",
              "      <td>NaN</td>\n",
              "      <td>NaN</td>\n",
              "      <td>NaN</td>\n",
              "      <td>NaN</td>\n",
              "      <td>NaN</td>\n",
              "      <td>NaN</td>\n",
              "      <td>NaN</td>\n",
              "      <td>NaN</td>\n",
              "      <td>NaN</td>\n",
              "      <td>NaN</td>\n",
              "      <td>NaN</td>\n",
              "      <td>8.33</td>\n",
              "      <td>38928341.0</td>\n",
              "      <td>54.422</td>\n",
              "      <td>18.6</td>\n",
              "      <td>2.581</td>\n",
              "      <td>1.337</td>\n",
              "      <td>1803.987</td>\n",
              "      <td>NaN</td>\n",
              "      <td>597.029</td>\n",
              "      <td>9.59</td>\n",
              "      <td>NaN</td>\n",
              "      <td>NaN</td>\n",
              "      <td>37.746</td>\n",
              "      <td>0.5</td>\n",
              "      <td>64.83</td>\n",
              "      <td>0.511</td>\n",
              "      <td>NaN</td>\n",
              "    </tr>\n",
              "    <tr>\n",
              "      <th>1</th>\n",
              "      <td>AFG</td>\n",
              "      <td>Asia</td>\n",
              "      <td>Afghanistan</td>\n",
              "      <td>2020-02-25</td>\n",
              "      <td>1.0</td>\n",
              "      <td>0.0</td>\n",
              "      <td>NaN</td>\n",
              "      <td>NaN</td>\n",
              "      <td>NaN</td>\n",
              "      <td>NaN</td>\n",
              "      <td>0.026</td>\n",
              "      <td>0.000</td>\n",
              "      <td>NaN</td>\n",
              "      <td>NaN</td>\n",
              "      <td>NaN</td>\n",
              "      <td>NaN</td>\n",
              "      <td>NaN</td>\n",
              "      <td>NaN</td>\n",
              "      <td>NaN</td>\n",
              "      <td>NaN</td>\n",
              "      <td>NaN</td>\n",
              "      <td>NaN</td>\n",
              "      <td>NaN</td>\n",
              "      <td>NaN</td>\n",
              "      <td>NaN</td>\n",
              "      <td>NaN</td>\n",
              "      <td>NaN</td>\n",
              "      <td>NaN</td>\n",
              "      <td>NaN</td>\n",
              "      <td>NaN</td>\n",
              "      <td>NaN</td>\n",
              "      <td>NaN</td>\n",
              "      <td>NaN</td>\n",
              "      <td>NaN</td>\n",
              "      <td>NaN</td>\n",
              "      <td>NaN</td>\n",
              "      <td>NaN</td>\n",
              "      <td>NaN</td>\n",
              "      <td>NaN</td>\n",
              "      <td>NaN</td>\n",
              "      <td>NaN</td>\n",
              "      <td>NaN</td>\n",
              "      <td>NaN</td>\n",
              "      <td>8.33</td>\n",
              "      <td>38928341.0</td>\n",
              "      <td>54.422</td>\n",
              "      <td>18.6</td>\n",
              "      <td>2.581</td>\n",
              "      <td>1.337</td>\n",
              "      <td>1803.987</td>\n",
              "      <td>NaN</td>\n",
              "      <td>597.029</td>\n",
              "      <td>9.59</td>\n",
              "      <td>NaN</td>\n",
              "      <td>NaN</td>\n",
              "      <td>37.746</td>\n",
              "      <td>0.5</td>\n",
              "      <td>64.83</td>\n",
              "      <td>0.511</td>\n",
              "      <td>NaN</td>\n",
              "    </tr>\n",
              "    <tr>\n",
              "      <th>2</th>\n",
              "      <td>AFG</td>\n",
              "      <td>Asia</td>\n",
              "      <td>Afghanistan</td>\n",
              "      <td>2020-02-26</td>\n",
              "      <td>1.0</td>\n",
              "      <td>0.0</td>\n",
              "      <td>NaN</td>\n",
              "      <td>NaN</td>\n",
              "      <td>NaN</td>\n",
              "      <td>NaN</td>\n",
              "      <td>0.026</td>\n",
              "      <td>0.000</td>\n",
              "      <td>NaN</td>\n",
              "      <td>NaN</td>\n",
              "      <td>NaN</td>\n",
              "      <td>NaN</td>\n",
              "      <td>NaN</td>\n",
              "      <td>NaN</td>\n",
              "      <td>NaN</td>\n",
              "      <td>NaN</td>\n",
              "      <td>NaN</td>\n",
              "      <td>NaN</td>\n",
              "      <td>NaN</td>\n",
              "      <td>NaN</td>\n",
              "      <td>NaN</td>\n",
              "      <td>NaN</td>\n",
              "      <td>NaN</td>\n",
              "      <td>NaN</td>\n",
              "      <td>NaN</td>\n",
              "      <td>NaN</td>\n",
              "      <td>NaN</td>\n",
              "      <td>NaN</td>\n",
              "      <td>NaN</td>\n",
              "      <td>NaN</td>\n",
              "      <td>NaN</td>\n",
              "      <td>NaN</td>\n",
              "      <td>NaN</td>\n",
              "      <td>NaN</td>\n",
              "      <td>NaN</td>\n",
              "      <td>NaN</td>\n",
              "      <td>NaN</td>\n",
              "      <td>NaN</td>\n",
              "      <td>NaN</td>\n",
              "      <td>8.33</td>\n",
              "      <td>38928341.0</td>\n",
              "      <td>54.422</td>\n",
              "      <td>18.6</td>\n",
              "      <td>2.581</td>\n",
              "      <td>1.337</td>\n",
              "      <td>1803.987</td>\n",
              "      <td>NaN</td>\n",
              "      <td>597.029</td>\n",
              "      <td>9.59</td>\n",
              "      <td>NaN</td>\n",
              "      <td>NaN</td>\n",
              "      <td>37.746</td>\n",
              "      <td>0.5</td>\n",
              "      <td>64.83</td>\n",
              "      <td>0.511</td>\n",
              "      <td>NaN</td>\n",
              "    </tr>\n",
              "    <tr>\n",
              "      <th>3</th>\n",
              "      <td>AFG</td>\n",
              "      <td>Asia</td>\n",
              "      <td>Afghanistan</td>\n",
              "      <td>2020-02-27</td>\n",
              "      <td>1.0</td>\n",
              "      <td>0.0</td>\n",
              "      <td>NaN</td>\n",
              "      <td>NaN</td>\n",
              "      <td>NaN</td>\n",
              "      <td>NaN</td>\n",
              "      <td>0.026</td>\n",
              "      <td>0.000</td>\n",
              "      <td>NaN</td>\n",
              "      <td>NaN</td>\n",
              "      <td>NaN</td>\n",
              "      <td>NaN</td>\n",
              "      <td>NaN</td>\n",
              "      <td>NaN</td>\n",
              "      <td>NaN</td>\n",
              "      <td>NaN</td>\n",
              "      <td>NaN</td>\n",
              "      <td>NaN</td>\n",
              "      <td>NaN</td>\n",
              "      <td>NaN</td>\n",
              "      <td>NaN</td>\n",
              "      <td>NaN</td>\n",
              "      <td>NaN</td>\n",
              "      <td>NaN</td>\n",
              "      <td>NaN</td>\n",
              "      <td>NaN</td>\n",
              "      <td>NaN</td>\n",
              "      <td>NaN</td>\n",
              "      <td>NaN</td>\n",
              "      <td>NaN</td>\n",
              "      <td>NaN</td>\n",
              "      <td>NaN</td>\n",
              "      <td>NaN</td>\n",
              "      <td>NaN</td>\n",
              "      <td>NaN</td>\n",
              "      <td>NaN</td>\n",
              "      <td>NaN</td>\n",
              "      <td>NaN</td>\n",
              "      <td>NaN</td>\n",
              "      <td>8.33</td>\n",
              "      <td>38928341.0</td>\n",
              "      <td>54.422</td>\n",
              "      <td>18.6</td>\n",
              "      <td>2.581</td>\n",
              "      <td>1.337</td>\n",
              "      <td>1803.987</td>\n",
              "      <td>NaN</td>\n",
              "      <td>597.029</td>\n",
              "      <td>9.59</td>\n",
              "      <td>NaN</td>\n",
              "      <td>NaN</td>\n",
              "      <td>37.746</td>\n",
              "      <td>0.5</td>\n",
              "      <td>64.83</td>\n",
              "      <td>0.511</td>\n",
              "      <td>NaN</td>\n",
              "    </tr>\n",
              "    <tr>\n",
              "      <th>4</th>\n",
              "      <td>AFG</td>\n",
              "      <td>Asia</td>\n",
              "      <td>Afghanistan</td>\n",
              "      <td>2020-02-28</td>\n",
              "      <td>1.0</td>\n",
              "      <td>0.0</td>\n",
              "      <td>NaN</td>\n",
              "      <td>NaN</td>\n",
              "      <td>NaN</td>\n",
              "      <td>NaN</td>\n",
              "      <td>0.026</td>\n",
              "      <td>0.000</td>\n",
              "      <td>NaN</td>\n",
              "      <td>NaN</td>\n",
              "      <td>NaN</td>\n",
              "      <td>NaN</td>\n",
              "      <td>NaN</td>\n",
              "      <td>NaN</td>\n",
              "      <td>NaN</td>\n",
              "      <td>NaN</td>\n",
              "      <td>NaN</td>\n",
              "      <td>NaN</td>\n",
              "      <td>NaN</td>\n",
              "      <td>NaN</td>\n",
              "      <td>NaN</td>\n",
              "      <td>NaN</td>\n",
              "      <td>NaN</td>\n",
              "      <td>NaN</td>\n",
              "      <td>NaN</td>\n",
              "      <td>NaN</td>\n",
              "      <td>NaN</td>\n",
              "      <td>NaN</td>\n",
              "      <td>NaN</td>\n",
              "      <td>NaN</td>\n",
              "      <td>NaN</td>\n",
              "      <td>NaN</td>\n",
              "      <td>NaN</td>\n",
              "      <td>NaN</td>\n",
              "      <td>NaN</td>\n",
              "      <td>NaN</td>\n",
              "      <td>NaN</td>\n",
              "      <td>NaN</td>\n",
              "      <td>NaN</td>\n",
              "      <td>8.33</td>\n",
              "      <td>38928341.0</td>\n",
              "      <td>54.422</td>\n",
              "      <td>18.6</td>\n",
              "      <td>2.581</td>\n",
              "      <td>1.337</td>\n",
              "      <td>1803.987</td>\n",
              "      <td>NaN</td>\n",
              "      <td>597.029</td>\n",
              "      <td>9.59</td>\n",
              "      <td>NaN</td>\n",
              "      <td>NaN</td>\n",
              "      <td>37.746</td>\n",
              "      <td>0.5</td>\n",
              "      <td>64.83</td>\n",
              "      <td>0.511</td>\n",
              "      <td>NaN</td>\n",
              "    </tr>\n",
              "  </tbody>\n",
              "</table>\n",
              "</div>"
            ],
            "text/plain": [
              "  iso_code continent  ... human_development_index excess_mortality\n",
              "0      AFG      Asia  ...                   0.511              NaN\n",
              "1      AFG      Asia  ...                   0.511              NaN\n",
              "2      AFG      Asia  ...                   0.511              NaN\n",
              "3      AFG      Asia  ...                   0.511              NaN\n",
              "4      AFG      Asia  ...                   0.511              NaN\n",
              "\n",
              "[5 rows x 60 columns]"
            ]
          },
          "metadata": {
            "tags": []
          },
          "execution_count": 2
        }
      ]
    },
    {
      "cell_type": "markdown",
      "metadata": {
        "id": "ZdyQvE00gsEC"
      },
      "source": [
        "Como podemos ver, o *dataset* possui muitos valores faltantes (NaN) que podem ser tanto pela falta de informação como pela falta de registro naquele dia. No caso dessas informações, o que faz mais sentido para o pré-processamento dos dados é preencher os falores com 0, pois remover essas entradas pode alterar significativamente nossa análise.\n",
        "\n",
        "Também podemos ver que possui diversos *features* (colunas). Para esta análise vamos utilizar apenas algumas dessas. Então vamos começar a transformar o *dataset*.\n",
        "\n",
        "---\n",
        "\n",
        "<br>\n",
        "\n",
        "Primeiro, vamos definir a variável ``location`` como nosso index, assim conseguimos visualizar as informações de acordo com cada país."
      ]
    },
    {
      "cell_type": "code",
      "metadata": {
        "id": "73h3uhNAjv5N"
      },
      "source": [
        "df = df.set_index('location')"
      ],
      "execution_count": 3,
      "outputs": []
    },
    {
      "cell_type": "markdown",
      "metadata": {
        "id": "yUSjC_YgiRRY"
      },
      "source": [
        "Agora, vamos excluir as colunas que não iremos utilizar e visualizar as primeiras entradas do nosso *DataFrame*"
      ]
    },
    {
      "cell_type": "code",
      "metadata": {
        "id": "WfUOOh6XlaqQ"
      },
      "source": [
        "df_clean = df.drop(['iso_code', 'new_cases_smoothed', 'new_cases_smoothed_per_million', 'new_deaths_smoothed_per_million', 'weekly_icu_admissions',\n",
        "       'weekly_icu_admissions_per_million', 'weekly_hosp_admissions', 'weekly_hosp_admissions_per_million', 'new_tests', 'total_tests',\n",
        "       'total_tests_per_thousand', 'new_tests_per_thousand', 'new_tests_smoothed', 'new_tests_smoothed_per_thousand',\n",
        "       'positive_rate', 'tests_per_case', 'tests_units', 'new_vaccinations_smoothed', 'new_vaccinations_smoothed_per_million', 'stringency_index','handwashing_facilities', 'gdp_per_capita', 'extreme_poverty', ], axis=1)\n",
        "df_clean = df_clean.fillna(0)"
      ],
      "execution_count": 4,
      "outputs": []
    },
    {
      "cell_type": "code",
      "metadata": {
        "colab": {
          "base_uri": "https://localhost:8080/",
          "height": 343
        },
        "id": "Ytgziypq5vas",
        "outputId": "1cd6fda1-9842-4421-f35b-0a8302716097"
      },
      "source": [
        "df_clean.head()"
      ],
      "execution_count": 5,
      "outputs": [
        {
          "output_type": "execute_result",
          "data": {
            "text/html": [
              "<div>\n",
              "<style scoped>\n",
              "    .dataframe tbody tr th:only-of-type {\n",
              "        vertical-align: middle;\n",
              "    }\n",
              "\n",
              "    .dataframe tbody tr th {\n",
              "        vertical-align: top;\n",
              "    }\n",
              "\n",
              "    .dataframe thead th {\n",
              "        text-align: right;\n",
              "    }\n",
              "</style>\n",
              "<table border=\"1\" class=\"dataframe\">\n",
              "  <thead>\n",
              "    <tr style=\"text-align: right;\">\n",
              "      <th></th>\n",
              "      <th>continent</th>\n",
              "      <th>date</th>\n",
              "      <th>total_cases</th>\n",
              "      <th>new_cases</th>\n",
              "      <th>total_deaths</th>\n",
              "      <th>new_deaths</th>\n",
              "      <th>new_deaths_smoothed</th>\n",
              "      <th>total_cases_per_million</th>\n",
              "      <th>new_cases_per_million</th>\n",
              "      <th>total_deaths_per_million</th>\n",
              "      <th>new_deaths_per_million</th>\n",
              "      <th>reproduction_rate</th>\n",
              "      <th>icu_patients</th>\n",
              "      <th>icu_patients_per_million</th>\n",
              "      <th>hosp_patients</th>\n",
              "      <th>hosp_patients_per_million</th>\n",
              "      <th>total_vaccinations</th>\n",
              "      <th>people_vaccinated</th>\n",
              "      <th>people_fully_vaccinated</th>\n",
              "      <th>new_vaccinations</th>\n",
              "      <th>total_vaccinations_per_hundred</th>\n",
              "      <th>people_vaccinated_per_hundred</th>\n",
              "      <th>people_fully_vaccinated_per_hundred</th>\n",
              "      <th>population</th>\n",
              "      <th>population_density</th>\n",
              "      <th>median_age</th>\n",
              "      <th>aged_65_older</th>\n",
              "      <th>aged_70_older</th>\n",
              "      <th>cardiovasc_death_rate</th>\n",
              "      <th>diabetes_prevalence</th>\n",
              "      <th>female_smokers</th>\n",
              "      <th>male_smokers</th>\n",
              "      <th>hospital_beds_per_thousand</th>\n",
              "      <th>life_expectancy</th>\n",
              "      <th>human_development_index</th>\n",
              "      <th>excess_mortality</th>\n",
              "    </tr>\n",
              "    <tr>\n",
              "      <th>location</th>\n",
              "      <th></th>\n",
              "      <th></th>\n",
              "      <th></th>\n",
              "      <th></th>\n",
              "      <th></th>\n",
              "      <th></th>\n",
              "      <th></th>\n",
              "      <th></th>\n",
              "      <th></th>\n",
              "      <th></th>\n",
              "      <th></th>\n",
              "      <th></th>\n",
              "      <th></th>\n",
              "      <th></th>\n",
              "      <th></th>\n",
              "      <th></th>\n",
              "      <th></th>\n",
              "      <th></th>\n",
              "      <th></th>\n",
              "      <th></th>\n",
              "      <th></th>\n",
              "      <th></th>\n",
              "      <th></th>\n",
              "      <th></th>\n",
              "      <th></th>\n",
              "      <th></th>\n",
              "      <th></th>\n",
              "      <th></th>\n",
              "      <th></th>\n",
              "      <th></th>\n",
              "      <th></th>\n",
              "      <th></th>\n",
              "      <th></th>\n",
              "      <th></th>\n",
              "      <th></th>\n",
              "      <th></th>\n",
              "    </tr>\n",
              "  </thead>\n",
              "  <tbody>\n",
              "    <tr>\n",
              "      <th>Afghanistan</th>\n",
              "      <td>Asia</td>\n",
              "      <td>2020-02-24</td>\n",
              "      <td>1.0</td>\n",
              "      <td>1.0</td>\n",
              "      <td>0.0</td>\n",
              "      <td>0.0</td>\n",
              "      <td>0.0</td>\n",
              "      <td>0.026</td>\n",
              "      <td>0.026</td>\n",
              "      <td>0.0</td>\n",
              "      <td>0.0</td>\n",
              "      <td>0.0</td>\n",
              "      <td>0.0</td>\n",
              "      <td>0.0</td>\n",
              "      <td>0.0</td>\n",
              "      <td>0.0</td>\n",
              "      <td>0.0</td>\n",
              "      <td>0.0</td>\n",
              "      <td>0.0</td>\n",
              "      <td>0.0</td>\n",
              "      <td>0.0</td>\n",
              "      <td>0.0</td>\n",
              "      <td>0.0</td>\n",
              "      <td>38928341.0</td>\n",
              "      <td>54.422</td>\n",
              "      <td>18.6</td>\n",
              "      <td>2.581</td>\n",
              "      <td>1.337</td>\n",
              "      <td>597.029</td>\n",
              "      <td>9.59</td>\n",
              "      <td>0.0</td>\n",
              "      <td>0.0</td>\n",
              "      <td>0.5</td>\n",
              "      <td>64.83</td>\n",
              "      <td>0.511</td>\n",
              "      <td>0.0</td>\n",
              "    </tr>\n",
              "    <tr>\n",
              "      <th>Afghanistan</th>\n",
              "      <td>Asia</td>\n",
              "      <td>2020-02-25</td>\n",
              "      <td>1.0</td>\n",
              "      <td>0.0</td>\n",
              "      <td>0.0</td>\n",
              "      <td>0.0</td>\n",
              "      <td>0.0</td>\n",
              "      <td>0.026</td>\n",
              "      <td>0.000</td>\n",
              "      <td>0.0</td>\n",
              "      <td>0.0</td>\n",
              "      <td>0.0</td>\n",
              "      <td>0.0</td>\n",
              "      <td>0.0</td>\n",
              "      <td>0.0</td>\n",
              "      <td>0.0</td>\n",
              "      <td>0.0</td>\n",
              "      <td>0.0</td>\n",
              "      <td>0.0</td>\n",
              "      <td>0.0</td>\n",
              "      <td>0.0</td>\n",
              "      <td>0.0</td>\n",
              "      <td>0.0</td>\n",
              "      <td>38928341.0</td>\n",
              "      <td>54.422</td>\n",
              "      <td>18.6</td>\n",
              "      <td>2.581</td>\n",
              "      <td>1.337</td>\n",
              "      <td>597.029</td>\n",
              "      <td>9.59</td>\n",
              "      <td>0.0</td>\n",
              "      <td>0.0</td>\n",
              "      <td>0.5</td>\n",
              "      <td>64.83</td>\n",
              "      <td>0.511</td>\n",
              "      <td>0.0</td>\n",
              "    </tr>\n",
              "    <tr>\n",
              "      <th>Afghanistan</th>\n",
              "      <td>Asia</td>\n",
              "      <td>2020-02-26</td>\n",
              "      <td>1.0</td>\n",
              "      <td>0.0</td>\n",
              "      <td>0.0</td>\n",
              "      <td>0.0</td>\n",
              "      <td>0.0</td>\n",
              "      <td>0.026</td>\n",
              "      <td>0.000</td>\n",
              "      <td>0.0</td>\n",
              "      <td>0.0</td>\n",
              "      <td>0.0</td>\n",
              "      <td>0.0</td>\n",
              "      <td>0.0</td>\n",
              "      <td>0.0</td>\n",
              "      <td>0.0</td>\n",
              "      <td>0.0</td>\n",
              "      <td>0.0</td>\n",
              "      <td>0.0</td>\n",
              "      <td>0.0</td>\n",
              "      <td>0.0</td>\n",
              "      <td>0.0</td>\n",
              "      <td>0.0</td>\n",
              "      <td>38928341.0</td>\n",
              "      <td>54.422</td>\n",
              "      <td>18.6</td>\n",
              "      <td>2.581</td>\n",
              "      <td>1.337</td>\n",
              "      <td>597.029</td>\n",
              "      <td>9.59</td>\n",
              "      <td>0.0</td>\n",
              "      <td>0.0</td>\n",
              "      <td>0.5</td>\n",
              "      <td>64.83</td>\n",
              "      <td>0.511</td>\n",
              "      <td>0.0</td>\n",
              "    </tr>\n",
              "    <tr>\n",
              "      <th>Afghanistan</th>\n",
              "      <td>Asia</td>\n",
              "      <td>2020-02-27</td>\n",
              "      <td>1.0</td>\n",
              "      <td>0.0</td>\n",
              "      <td>0.0</td>\n",
              "      <td>0.0</td>\n",
              "      <td>0.0</td>\n",
              "      <td>0.026</td>\n",
              "      <td>0.000</td>\n",
              "      <td>0.0</td>\n",
              "      <td>0.0</td>\n",
              "      <td>0.0</td>\n",
              "      <td>0.0</td>\n",
              "      <td>0.0</td>\n",
              "      <td>0.0</td>\n",
              "      <td>0.0</td>\n",
              "      <td>0.0</td>\n",
              "      <td>0.0</td>\n",
              "      <td>0.0</td>\n",
              "      <td>0.0</td>\n",
              "      <td>0.0</td>\n",
              "      <td>0.0</td>\n",
              "      <td>0.0</td>\n",
              "      <td>38928341.0</td>\n",
              "      <td>54.422</td>\n",
              "      <td>18.6</td>\n",
              "      <td>2.581</td>\n",
              "      <td>1.337</td>\n",
              "      <td>597.029</td>\n",
              "      <td>9.59</td>\n",
              "      <td>0.0</td>\n",
              "      <td>0.0</td>\n",
              "      <td>0.5</td>\n",
              "      <td>64.83</td>\n",
              "      <td>0.511</td>\n",
              "      <td>0.0</td>\n",
              "    </tr>\n",
              "    <tr>\n",
              "      <th>Afghanistan</th>\n",
              "      <td>Asia</td>\n",
              "      <td>2020-02-28</td>\n",
              "      <td>1.0</td>\n",
              "      <td>0.0</td>\n",
              "      <td>0.0</td>\n",
              "      <td>0.0</td>\n",
              "      <td>0.0</td>\n",
              "      <td>0.026</td>\n",
              "      <td>0.000</td>\n",
              "      <td>0.0</td>\n",
              "      <td>0.0</td>\n",
              "      <td>0.0</td>\n",
              "      <td>0.0</td>\n",
              "      <td>0.0</td>\n",
              "      <td>0.0</td>\n",
              "      <td>0.0</td>\n",
              "      <td>0.0</td>\n",
              "      <td>0.0</td>\n",
              "      <td>0.0</td>\n",
              "      <td>0.0</td>\n",
              "      <td>0.0</td>\n",
              "      <td>0.0</td>\n",
              "      <td>0.0</td>\n",
              "      <td>38928341.0</td>\n",
              "      <td>54.422</td>\n",
              "      <td>18.6</td>\n",
              "      <td>2.581</td>\n",
              "      <td>1.337</td>\n",
              "      <td>597.029</td>\n",
              "      <td>9.59</td>\n",
              "      <td>0.0</td>\n",
              "      <td>0.0</td>\n",
              "      <td>0.5</td>\n",
              "      <td>64.83</td>\n",
              "      <td>0.511</td>\n",
              "      <td>0.0</td>\n",
              "    </tr>\n",
              "  </tbody>\n",
              "</table>\n",
              "</div>"
            ],
            "text/plain": [
              "            continent        date  ...  human_development_index  excess_mortality\n",
              "location                           ...                                           \n",
              "Afghanistan      Asia  2020-02-24  ...                    0.511               0.0\n",
              "Afghanistan      Asia  2020-02-25  ...                    0.511               0.0\n",
              "Afghanistan      Asia  2020-02-26  ...                    0.511               0.0\n",
              "Afghanistan      Asia  2020-02-27  ...                    0.511               0.0\n",
              "Afghanistan      Asia  2020-02-28  ...                    0.511               0.0\n",
              "\n",
              "[5 rows x 36 columns]"
            ]
          },
          "metadata": {
            "tags": []
          },
          "execution_count": 5
        }
      ]
    },
    {
      "cell_type": "markdown",
      "metadata": {
        "id": "EUeEEaw353lL"
      },
      "source": [
        "Para garantir que consiguiremos realizar os cálculos e as análises gráficas, precisamos saber os tipos das variáveis. Utilizaremos o ``dtypes`` para isso, e o método ``describe()`` para ver o resumo estatístico de cada *feature*"
      ]
    },
    {
      "cell_type": "code",
      "metadata": {
        "colab": {
          "base_uri": "https://localhost:8080/"
        },
        "id": "XIiGQVGGjRBf",
        "outputId": "8ff83037-fba0-4cfd-b7d6-131af139e5d5"
      },
      "source": [
        "df_clean.dtypes"
      ],
      "execution_count": 6,
      "outputs": [
        {
          "output_type": "execute_result",
          "data": {
            "text/plain": [
              "continent                               object\n",
              "date                                    object\n",
              "total_cases                            float64\n",
              "new_cases                              float64\n",
              "total_deaths                           float64\n",
              "new_deaths                             float64\n",
              "new_deaths_smoothed                    float64\n",
              "total_cases_per_million                float64\n",
              "new_cases_per_million                  float64\n",
              "total_deaths_per_million               float64\n",
              "new_deaths_per_million                 float64\n",
              "reproduction_rate                      float64\n",
              "icu_patients                           float64\n",
              "icu_patients_per_million               float64\n",
              "hosp_patients                          float64\n",
              "hosp_patients_per_million              float64\n",
              "total_vaccinations                     float64\n",
              "people_vaccinated                      float64\n",
              "people_fully_vaccinated                float64\n",
              "new_vaccinations                       float64\n",
              "total_vaccinations_per_hundred         float64\n",
              "people_vaccinated_per_hundred          float64\n",
              "people_fully_vaccinated_per_hundred    float64\n",
              "population                             float64\n",
              "population_density                     float64\n",
              "median_age                             float64\n",
              "aged_65_older                          float64\n",
              "aged_70_older                          float64\n",
              "cardiovasc_death_rate                  float64\n",
              "diabetes_prevalence                    float64\n",
              "female_smokers                         float64\n",
              "male_smokers                           float64\n",
              "hospital_beds_per_thousand             float64\n",
              "life_expectancy                        float64\n",
              "human_development_index                float64\n",
              "excess_mortality                       float64\n",
              "dtype: object"
            ]
          },
          "metadata": {
            "tags": []
          },
          "execution_count": 6
        }
      ]
    },
    {
      "cell_type": "markdown",
      "metadata": {
        "id": "h6yyeU0ZIAXZ"
      },
      "source": [
        "Como vemos acima, a coluna ``date`` está como ``object``, sendo assim, precisamos transformar ela para ``datetime``"
      ]
    },
    {
      "cell_type": "code",
      "metadata": {
        "id": "oWFPryzom34d"
      },
      "source": [
        "df_clean['date'] = pd.to_datetime(df_clean['date'])"
      ],
      "execution_count": 7,
      "outputs": []
    },
    {
      "cell_type": "markdown",
      "metadata": {
        "id": "vqwJJwXcvM6J"
      },
      "source": [
        "Com todos os dados prontos, podemos começar nossa análise."
      ]
    },
    {
      "cell_type": "markdown",
      "metadata": {
        "id": "YjaS28moISwG"
      },
      "source": [
        "## Histórico do COVID no Mundo\n",
        "\n",
        "\n",
        "\n"
      ]
    },
    {
      "cell_type": "markdown",
      "metadata": {
        "id": "GYl23zv012fv"
      },
      "source": [
        "Com a grande intensidade de movimentação de pessoas e bens ao redor do mundo, o coronavírus conseguiu se espalhar rapidamente, atingindo marcas de contaminação extremamente altas. Como foi dito acima, o primeiro caso foi confirmado no dia 31 de dezembro 2019, alguns meses depois, no dia 11 de março de 2020, o diretor geral da Organização Mundial de Saúde (OMS), Tedros Adhanom, declarou a elevação do estado da contaminação ao nível de pandemia de  Covid-19 causada pelo novo coronavírus.\n",
        "\n",
        "Apesar de todas as tentativas de contenção do vírus ao redor do mundo, em pouco tempo a soma de casos totais atingiu a marca de 1 milhão, no início do mês de abril. Enquanto a quantidade de mortes somente atingiu essa marca em 18 de setembro. Uma das hipóteses que pode ser levantada para explicar essa diferença de tempo entre uma data e outra, é pensar que no início da pandemia existiam mais vagas para realizar o tratamento dos infectados, mas conforme os casos aumentaram, os sistemas de saúde foram sobrecarregados dificultando a contenção da pandemia."
      ]
    },
    {
      "cell_type": "code",
      "metadata": {
        "id": "9tY_KwEbgEkK"
      },
      "source": [
        "df_world = df_clean.loc['World']"
      ],
      "execution_count": 8,
      "outputs": []
    },
    {
      "cell_type": "code",
      "metadata": {
        "colab": {
          "base_uri": "https://localhost:8080/"
        },
        "id": "SJUQBwbfwxRW",
        "outputId": "807c12bf-493c-4701-d400-a5fafb487d31"
      },
      "source": [
        "total_casos = df_world['total_cases'].max()\n",
        "total_mortes = df_world['total_deaths'].max()\n",
        "\n",
        "print(\"Total de casos ao redor do mundo: {:,}\".format(total_casos))\n",
        "print(\"Total de mortes ao redor do mundo: {:,}\".format(total_mortes))"
      ],
      "execution_count": 9,
      "outputs": [
        {
          "output_type": "stream",
          "text": [
            "Total de casos ao redor do mundo: 203,384,676.0\n",
            "Total de mortes ao redor do mundo: 4,302,961.0\n"
          ],
          "name": "stdout"
        }
      ]
    },
    {
      "cell_type": "code",
      "metadata": {
        "id": "aXYPpUjaD8Lr"
      },
      "source": [
        "# Encontrando o último dia antes de chegar em 1 milhão de casos\n",
        "data_b_million_cases = df_world['date'].loc[df_world['total_cases']<1000000].max()\n",
        "data_a_million_cases = data_b_million_cases + timedelta(days=1)"
      ],
      "execution_count": 10,
      "outputs": []
    },
    {
      "cell_type": "code",
      "metadata": {
        "id": "IWqiZUeAFkv7"
      },
      "source": [
        "# Encontrando o último dia antes de chegar em 1 milhão de mortes\n",
        "data_b_million_deaths  = df_world['date'].loc[df_world['total_deaths']<1000000].max()\n",
        "data_a_million_deaths = data_b_million_deaths + timedelta(days=1)"
      ],
      "execution_count": 11,
      "outputs": []
    },
    {
      "cell_type": "code",
      "metadata": {
        "colab": {
          "base_uri": "https://localhost:8080/"
        },
        "id": "TbLSObzmEQBI",
        "outputId": "1a501b7b-af6d-428e-88b4-a4cf5375a6b6"
      },
      "source": [
        "after_million_cases = df_world['total_cases'].loc[df_world['date'] == data_a_million_cases].loc['World']\n",
        "after_million_deaths = df_world['total_deaths'].loc[df_world['date'] == data_a_million_deaths].loc['World']\n",
        "\n",
        "print(\"A pandemia atingiu o número de {:,} de casos no dia {}/{}/{}\".format(after_million_cases, data_a_million_cases.day, data_a_million_cases.month, data_a_million_cases.year))\n",
        "print(\"A pandemia atingiu o número de {:,} de mortes no dia {}/{}/{}\".format(after_million_deaths, data_a_million_deaths.day, data_a_million_deaths.month, data_a_million_deaths.year))"
      ],
      "execution_count": 12,
      "outputs": [
        {
          "output_type": "stream",
          "text": [
            "A pandemia atingiu o número de 1,042,614.0 de casos no dia 2/4/2020\n",
            "A pandemia atingiu o número de 1,000,450.0 de mortes no dia 18/9/2020\n"
          ],
          "name": "stdout"
        }
      ]
    },
    {
      "cell_type": "markdown",
      "metadata": {
        "id": "ynpz_pe66yQL"
      },
      "source": [
        "Mas apenas dizer que os casos aumentaram de forma rápida não é o suficiente, então vamos analisar o gráfico abaixo, com o histórico de novos casos por dia, e tentar entender o comportamento do vírus."
      ]
    },
    {
      "cell_type": "code",
      "metadata": {
        "colab": {
          "base_uri": "https://localhost:8080/",
          "height": 467
        },
        "id": "vlMIE3GtBabB",
        "outputId": "5471f0e6-3fa9-410e-a299-811db1c1e200"
      },
      "source": [
        "fig_new_world = go.Figure([go.Scatter(x=df_world['date'], y=list(df_world['new_cases']), fill='tozeroy',\n",
        "                                  line=dict(color='#4B738E', width=1))])\n",
        "fig_new_world.update_yaxes(showgrid=False, zeroline=True, zerolinecolor='#4B738E', zerolinewidth=0.8)\n",
        "fig_new_world.update_xaxes(showgrid=False)\n",
        "fig_new_world.update_layout(title=dict(text=\"Novos Casos por Dia\",font=dict(family=\"Balto\", size=26), x=0.6), yaxis_title=\"Novos Casos\",\n",
        "                        xaxis_title=\"Data\", paper_bgcolor='rgba(0, 0, 0, 0)',\n",
        "                        plot_bgcolor='rgba(0, 0, 0, 0)', margin=dict(l=80, r=0, t=50, b=50),\n",
        "                        hovermode='x', hoverlabel=dict(bgcolor='#FC5C65', font_size=12, font_family=\"Rockwell\"), width=1000, height=450);\n",
        "\n",
        "fig_new_world.show(renderer=\"colab\")"
      ],
      "execution_count": 21,
      "outputs": [
        {
          "output_type": "display_data",
          "data": {
            "text/html": [
              "<html>\n",
              "<head><meta charset=\"utf-8\" /></head>\n",
              "<body>\n",
              "    <div>\n",
              "            <script src=\"https://cdnjs.cloudflare.com/ajax/libs/mathjax/2.7.5/MathJax.js?config=TeX-AMS-MML_SVG\"></script><script type=\"text/javascript\">if (window.MathJax) {MathJax.Hub.Config({SVG: {font: \"STIX-Web\"}});}</script>\n",
              "                <script type=\"text/javascript\">window.PlotlyConfig = {MathJaxConfig: 'local'};</script>\n",
              "        <script src=\"https://cdn.plot.ly/plotly-latest.min.js\"></script>    \n",
              "            <div id=\"c4f213f6-8036-4095-a229-14f291146267\" class=\"plotly-graph-div\" style=\"height:450px; width:1000px;\"></div>\n",
              "            <script type=\"text/javascript\">\n",
              "                \n",
              "                    window.PLOTLYENV=window.PLOTLYENV || {};\n",
              "                    \n",
              "                if (document.getElementById(\"c4f213f6-8036-4095-a229-14f291146267\")) {\n",
              "                    Plotly.newPlot(\n",
              "                        'c4f213f6-8036-4095-a229-14f291146267',\n",
              "                        [{\"fill\": \"tozeroy\", \"line\": {\"color\": \"#4B738E\", \"width\": 1}, \"type\": \"scatter\", \"x\": [\"2020-01-22T00:00:00\", \"2020-01-23T00:00:00\", \"2020-01-24T00:00:00\", \"2020-01-25T00:00:00\", \"2020-01-26T00:00:00\", \"2020-01-27T00:00:00\", \"2020-01-28T00:00:00\", \"2020-01-29T00:00:00\", \"2020-01-30T00:00:00\", \"2020-01-31T00:00:00\", \"2020-02-01T00:00:00\", \"2020-02-02T00:00:00\", \"2020-02-03T00:00:00\", \"2020-02-04T00:00:00\", \"2020-02-05T00:00:00\", \"2020-02-06T00:00:00\", \"2020-02-07T00:00:00\", \"2020-02-08T00:00:00\", \"2020-02-09T00:00:00\", \"2020-02-10T00:00:00\", \"2020-02-11T00:00:00\", \"2020-02-12T00:00:00\", \"2020-02-13T00:00:00\", \"2020-02-14T00:00:00\", \"2020-02-15T00:00:00\", \"2020-02-16T00:00:00\", \"2020-02-17T00:00:00\", \"2020-02-18T00:00:00\", \"2020-02-19T00:00:00\", \"2020-02-20T00:00:00\", \"2020-02-21T00:00:00\", \"2020-02-22T00:00:00\", \"2020-02-23T00:00:00\", \"2020-02-24T00:00:00\", \"2020-02-25T00:00:00\", \"2020-02-26T00:00:00\", \"2020-02-27T00:00:00\", \"2020-02-28T00:00:00\", \"2020-02-29T00:00:00\", \"2020-03-01T00:00:00\", \"2020-03-02T00:00:00\", \"2020-03-03T00:00:00\", \"2020-03-04T00:00:00\", \"2020-03-05T00:00:00\", \"2020-03-06T00:00:00\", \"2020-03-07T00:00:00\", \"2020-03-08T00:00:00\", \"2020-03-09T00:00:00\", \"2020-03-10T00:00:00\", \"2020-03-11T00:00:00\", \"2020-03-12T00:00:00\", \"2020-03-13T00:00:00\", \"2020-03-14T00:00:00\", \"2020-03-15T00:00:00\", \"2020-03-16T00:00:00\", \"2020-03-17T00:00:00\", \"2020-03-18T00:00:00\", \"2020-03-19T00:00:00\", \"2020-03-20T00:00:00\", \"2020-03-21T00:00:00\", \"2020-03-22T00:00:00\", \"2020-03-23T00:00:00\", \"2020-03-24T00:00:00\", \"2020-03-25T00:00:00\", \"2020-03-26T00:00:00\", \"2020-03-27T00:00:00\", \"2020-03-28T00:00:00\", \"2020-03-29T00:00:00\", \"2020-03-30T00:00:00\", \"2020-03-31T00:00:00\", \"2020-04-01T00:00:00\", \"2020-04-02T00:00:00\", \"2020-04-03T00:00:00\", \"2020-04-04T00:00:00\", \"2020-04-05T00:00:00\", \"2020-04-06T00:00:00\", \"2020-04-07T00:00:00\", \"2020-04-08T00:00:00\", \"2020-04-09T00:00:00\", \"2020-04-10T00:00:00\", \"2020-04-11T00:00:00\", \"2020-04-12T00:00:00\", \"2020-04-13T00:00:00\", \"2020-04-14T00:00:00\", \"2020-04-15T00:00:00\", \"2020-04-16T00:00:00\", \"2020-04-17T00:00:00\", \"2020-04-18T00:00:00\", \"2020-04-19T00:00:00\", \"2020-04-20T00:00:00\", \"2020-04-21T00:00:00\", \"2020-04-22T00:00:00\", \"2020-04-23T00:00:00\", \"2020-04-24T00:00:00\", \"2020-04-25T00:00:00\", \"2020-04-26T00:00:00\", \"2020-04-27T00:00:00\", \"2020-04-28T00:00:00\", \"2020-04-29T00:00:00\", \"2020-04-30T00:00:00\", \"2020-05-01T00:00:00\", \"2020-05-02T00:00:00\", \"2020-05-03T00:00:00\", \"2020-05-04T00:00:00\", \"2020-05-05T00:00:00\", \"2020-05-06T00:00:00\", \"2020-05-07T00:00:00\", \"2020-05-08T00:00:00\", \"2020-05-09T00:00:00\", \"2020-05-10T00:00:00\", \"2020-05-11T00:00:00\", \"2020-05-12T00:00:00\", \"2020-05-13T00:00:00\", \"2020-05-14T00:00:00\", \"2020-05-15T00:00:00\", \"2020-05-16T00:00:00\", \"2020-05-17T00:00:00\", \"2020-05-18T00:00:00\", \"2020-05-19T00:00:00\", \"2020-05-20T00:00:00\", \"2020-05-21T00:00:00\", \"2020-05-22T00:00:00\", \"2020-05-23T00:00:00\", \"2020-05-24T00:00:00\", \"2020-05-25T00:00:00\", \"2020-05-26T00:00:00\", \"2020-05-27T00:00:00\", \"2020-05-28T00:00:00\", \"2020-05-29T00:00:00\", \"2020-05-30T00:00:00\", \"2020-05-31T00:00:00\", \"2020-06-01T00:00:00\", \"2020-06-02T00:00:00\", \"2020-06-03T00:00:00\", \"2020-06-04T00:00:00\", \"2020-06-05T00:00:00\", \"2020-06-06T00:00:00\", \"2020-06-07T00:00:00\", \"2020-06-08T00:00:00\", \"2020-06-09T00:00:00\", \"2020-06-10T00:00:00\", \"2020-06-11T00:00:00\", \"2020-06-12T00:00:00\", \"2020-06-13T00:00:00\", \"2020-06-14T00:00:00\", \"2020-06-15T00:00:00\", \"2020-06-16T00:00:00\", \"2020-06-17T00:00:00\", \"2020-06-18T00:00:00\", \"2020-06-19T00:00:00\", \"2020-06-20T00:00:00\", \"2020-06-21T00:00:00\", \"2020-06-22T00:00:00\", \"2020-06-23T00:00:00\", \"2020-06-24T00:00:00\", \"2020-06-25T00:00:00\", \"2020-06-26T00:00:00\", \"2020-06-27T00:00:00\", \"2020-06-28T00:00:00\", \"2020-06-29T00:00:00\", \"2020-06-30T00:00:00\", \"2020-07-01T00:00:00\", \"2020-07-02T00:00:00\", \"2020-07-03T00:00:00\", \"2020-07-04T00:00:00\", \"2020-07-05T00:00:00\", \"2020-07-06T00:00:00\", \"2020-07-07T00:00:00\", \"2020-07-08T00:00:00\", \"2020-07-09T00:00:00\", \"2020-07-10T00:00:00\", \"2020-07-11T00:00:00\", \"2020-07-12T00:00:00\", \"2020-07-13T00:00:00\", \"2020-07-14T00:00:00\", \"2020-07-15T00:00:00\", \"2020-07-16T00:00:00\", \"2020-07-17T00:00:00\", \"2020-07-18T00:00:00\", \"2020-07-19T00:00:00\", \"2020-07-20T00:00:00\", \"2020-07-21T00:00:00\", \"2020-07-22T00:00:00\", \"2020-07-23T00:00:00\", \"2020-07-24T00:00:00\", \"2020-07-25T00:00:00\", \"2020-07-26T00:00:00\", \"2020-07-27T00:00:00\", \"2020-07-28T00:00:00\", \"2020-07-29T00:00:00\", \"2020-07-30T00:00:00\", \"2020-07-31T00:00:00\", \"2020-08-01T00:00:00\", \"2020-08-02T00:00:00\", \"2020-08-03T00:00:00\", \"2020-08-04T00:00:00\", \"2020-08-05T00:00:00\", \"2020-08-06T00:00:00\", \"2020-08-07T00:00:00\", \"2020-08-08T00:00:00\", \"2020-08-09T00:00:00\", \"2020-08-10T00:00:00\", \"2020-08-11T00:00:00\", \"2020-08-12T00:00:00\", \"2020-08-13T00:00:00\", \"2020-08-14T00:00:00\", \"2020-08-15T00:00:00\", \"2020-08-16T00:00:00\", \"2020-08-17T00:00:00\", \"2020-08-18T00:00:00\", \"2020-08-19T00:00:00\", \"2020-08-20T00:00:00\", \"2020-08-21T00:00:00\", \"2020-08-22T00:00:00\", \"2020-08-23T00:00:00\", \"2020-08-24T00:00:00\", \"2020-08-25T00:00:00\", \"2020-08-26T00:00:00\", \"2020-08-27T00:00:00\", \"2020-08-28T00:00:00\", \"2020-08-29T00:00:00\", \"2020-08-30T00:00:00\", \"2020-08-31T00:00:00\", \"2020-09-01T00:00:00\", \"2020-09-02T00:00:00\", \"2020-09-03T00:00:00\", \"2020-09-04T00:00:00\", \"2020-09-05T00:00:00\", \"2020-09-06T00:00:00\", \"2020-09-07T00:00:00\", \"2020-09-08T00:00:00\", \"2020-09-09T00:00:00\", \"2020-09-10T00:00:00\", \"2020-09-11T00:00:00\", \"2020-09-12T00:00:00\", \"2020-09-13T00:00:00\", \"2020-09-14T00:00:00\", \"2020-09-15T00:00:00\", \"2020-09-16T00:00:00\", \"2020-09-17T00:00:00\", \"2020-09-18T00:00:00\", \"2020-09-19T00:00:00\", \"2020-09-20T00:00:00\", \"2020-09-21T00:00:00\", \"2020-09-22T00:00:00\", \"2020-09-23T00:00:00\", \"2020-09-24T00:00:00\", \"2020-09-25T00:00:00\", \"2020-09-26T00:00:00\", \"2020-09-27T00:00:00\", \"2020-09-28T00:00:00\", \"2020-09-29T00:00:00\", \"2020-09-30T00:00:00\", \"2020-10-01T00:00:00\", \"2020-10-02T00:00:00\", \"2020-10-03T00:00:00\", \"2020-10-04T00:00:00\", \"2020-10-05T00:00:00\", \"2020-10-06T00:00:00\", \"2020-10-07T00:00:00\", \"2020-10-08T00:00:00\", \"2020-10-09T00:00:00\", \"2020-10-10T00:00:00\", \"2020-10-11T00:00:00\", \"2020-10-12T00:00:00\", \"2020-10-13T00:00:00\", \"2020-10-14T00:00:00\", \"2020-10-15T00:00:00\", \"2020-10-16T00:00:00\", \"2020-10-17T00:00:00\", \"2020-10-18T00:00:00\", \"2020-10-19T00:00:00\", \"2020-10-20T00:00:00\", \"2020-10-21T00:00:00\", \"2020-10-22T00:00:00\", \"2020-10-23T00:00:00\", \"2020-10-24T00:00:00\", \"2020-10-25T00:00:00\", \"2020-10-26T00:00:00\", \"2020-10-27T00:00:00\", \"2020-10-28T00:00:00\", \"2020-10-29T00:00:00\", \"2020-10-30T00:00:00\", \"2020-10-31T00:00:00\", \"2020-11-01T00:00:00\", \"2020-11-02T00:00:00\", \"2020-11-03T00:00:00\", \"2020-11-04T00:00:00\", \"2020-11-05T00:00:00\", \"2020-11-06T00:00:00\", \"2020-11-07T00:00:00\", \"2020-11-08T00:00:00\", \"2020-11-09T00:00:00\", \"2020-11-10T00:00:00\", \"2020-11-11T00:00:00\", \"2020-11-12T00:00:00\", \"2020-11-13T00:00:00\", \"2020-11-14T00:00:00\", \"2020-11-15T00:00:00\", \"2020-11-16T00:00:00\", \"2020-11-17T00:00:00\", \"2020-11-18T00:00:00\", \"2020-11-19T00:00:00\", \"2020-11-20T00:00:00\", \"2020-11-21T00:00:00\", \"2020-11-22T00:00:00\", \"2020-11-23T00:00:00\", \"2020-11-24T00:00:00\", \"2020-11-25T00:00:00\", \"2020-11-26T00:00:00\", \"2020-11-27T00:00:00\", \"2020-11-28T00:00:00\", \"2020-11-29T00:00:00\", \"2020-11-30T00:00:00\", \"2020-12-01T00:00:00\", \"2020-12-02T00:00:00\", \"2020-12-03T00:00:00\", \"2020-12-04T00:00:00\", \"2020-12-05T00:00:00\", \"2020-12-06T00:00:00\", \"2020-12-07T00:00:00\", \"2020-12-08T00:00:00\", \"2020-12-09T00:00:00\", \"2020-12-10T00:00:00\", \"2020-12-11T00:00:00\", \"2020-12-12T00:00:00\", \"2020-12-13T00:00:00\", \"2020-12-14T00:00:00\", \"2020-12-15T00:00:00\", \"2020-12-16T00:00:00\", \"2020-12-17T00:00:00\", \"2020-12-18T00:00:00\", \"2020-12-19T00:00:00\", \"2020-12-20T00:00:00\", \"2020-12-21T00:00:00\", \"2020-12-22T00:00:00\", \"2020-12-23T00:00:00\", \"2020-12-24T00:00:00\", \"2020-12-25T00:00:00\", \"2020-12-26T00:00:00\", \"2020-12-27T00:00:00\", \"2020-12-28T00:00:00\", \"2020-12-29T00:00:00\", \"2020-12-30T00:00:00\", \"2020-12-31T00:00:00\", \"2021-01-01T00:00:00\", \"2021-01-02T00:00:00\", \"2021-01-03T00:00:00\", \"2021-01-04T00:00:00\", \"2021-01-05T00:00:00\", \"2021-01-06T00:00:00\", \"2021-01-07T00:00:00\", \"2021-01-08T00:00:00\", \"2021-01-09T00:00:00\", \"2021-01-10T00:00:00\", \"2021-01-11T00:00:00\", \"2021-01-12T00:00:00\", \"2021-01-13T00:00:00\", \"2021-01-14T00:00:00\", \"2021-01-15T00:00:00\", \"2021-01-16T00:00:00\", \"2021-01-17T00:00:00\", \"2021-01-18T00:00:00\", \"2021-01-19T00:00:00\", \"2021-01-20T00:00:00\", \"2021-01-21T00:00:00\", \"2021-01-22T00:00:00\", \"2021-01-23T00:00:00\", \"2021-01-24T00:00:00\", \"2021-01-25T00:00:00\", \"2021-01-26T00:00:00\", \"2021-01-27T00:00:00\", \"2021-01-28T00:00:00\", \"2021-01-29T00:00:00\", \"2021-01-30T00:00:00\", \"2021-01-31T00:00:00\", \"2021-02-01T00:00:00\", \"2021-02-02T00:00:00\", \"2021-02-03T00:00:00\", \"2021-02-04T00:00:00\", \"2021-02-05T00:00:00\", \"2021-02-06T00:00:00\", \"2021-02-07T00:00:00\", \"2021-02-08T00:00:00\", \"2021-02-09T00:00:00\", \"2021-02-10T00:00:00\", \"2021-02-11T00:00:00\", \"2021-02-12T00:00:00\", \"2021-02-13T00:00:00\", \"2021-02-14T00:00:00\", \"2021-02-15T00:00:00\", \"2021-02-16T00:00:00\", \"2021-02-17T00:00:00\", \"2021-02-18T00:00:00\", \"2021-02-19T00:00:00\", \"2021-02-20T00:00:00\", \"2021-02-21T00:00:00\", \"2021-02-22T00:00:00\", \"2021-02-23T00:00:00\", \"2021-02-24T00:00:00\", \"2021-02-25T00:00:00\", \"2021-02-26T00:00:00\", \"2021-02-27T00:00:00\", \"2021-02-28T00:00:00\", \"2021-03-01T00:00:00\", \"2021-03-02T00:00:00\", \"2021-03-03T00:00:00\", \"2021-03-04T00:00:00\", \"2021-03-05T00:00:00\", \"2021-03-06T00:00:00\", \"2021-03-07T00:00:00\", \"2021-03-08T00:00:00\", \"2021-03-09T00:00:00\", \"2021-03-10T00:00:00\", \"2021-03-11T00:00:00\", \"2021-03-12T00:00:00\", \"2021-03-13T00:00:00\", \"2021-03-14T00:00:00\", \"2021-03-15T00:00:00\", \"2021-03-16T00:00:00\", \"2021-03-17T00:00:00\", \"2021-03-18T00:00:00\", \"2021-03-19T00:00:00\", \"2021-03-20T00:00:00\", \"2021-03-21T00:00:00\", \"2021-03-22T00:00:00\", \"2021-03-23T00:00:00\", \"2021-03-24T00:00:00\", \"2021-03-25T00:00:00\", \"2021-03-26T00:00:00\", \"2021-03-27T00:00:00\", \"2021-03-28T00:00:00\", \"2021-03-29T00:00:00\", \"2021-03-30T00:00:00\", \"2021-03-31T00:00:00\", \"2021-04-01T00:00:00\", \"2021-04-02T00:00:00\", \"2021-04-03T00:00:00\", \"2021-04-04T00:00:00\", \"2021-04-05T00:00:00\", \"2021-04-06T00:00:00\", \"2021-04-07T00:00:00\", \"2021-04-08T00:00:00\", \"2021-04-09T00:00:00\", \"2021-04-10T00:00:00\", \"2021-04-11T00:00:00\", \"2021-04-12T00:00:00\", \"2021-04-13T00:00:00\", \"2021-04-14T00:00:00\", \"2021-04-15T00:00:00\", \"2021-04-16T00:00:00\", \"2021-04-17T00:00:00\", \"2021-04-18T00:00:00\", \"2021-04-19T00:00:00\", \"2021-04-20T00:00:00\", \"2021-04-21T00:00:00\", \"2021-04-22T00:00:00\", \"2021-04-23T00:00:00\", \"2021-04-24T00:00:00\", \"2021-04-25T00:00:00\", \"2021-04-26T00:00:00\", \"2021-04-27T00:00:00\", \"2021-04-28T00:00:00\", \"2021-04-29T00:00:00\", \"2021-04-30T00:00:00\", \"2021-05-01T00:00:00\", \"2021-05-02T00:00:00\", \"2021-05-03T00:00:00\", \"2021-05-04T00:00:00\", \"2021-05-05T00:00:00\", \"2021-05-06T00:00:00\", \"2021-05-07T00:00:00\", \"2021-05-08T00:00:00\", \"2021-05-09T00:00:00\", \"2021-05-10T00:00:00\", \"2021-05-11T00:00:00\", \"2021-05-12T00:00:00\", \"2021-05-13T00:00:00\", \"2021-05-14T00:00:00\", \"2021-05-15T00:00:00\", \"2021-05-16T00:00:00\", \"2021-05-17T00:00:00\", \"2021-05-18T00:00:00\", \"2021-05-19T00:00:00\", \"2021-05-20T00:00:00\", \"2021-05-21T00:00:00\", \"2021-05-22T00:00:00\", \"2021-05-23T00:00:00\", \"2021-05-24T00:00:00\", \"2021-05-25T00:00:00\", \"2021-05-26T00:00:00\", \"2021-05-27T00:00:00\", \"2021-05-28T00:00:00\", \"2021-05-29T00:00:00\", \"2021-05-30T00:00:00\", \"2021-05-31T00:00:00\", \"2021-06-01T00:00:00\", \"2021-06-02T00:00:00\", \"2021-06-03T00:00:00\", \"2021-06-04T00:00:00\", \"2021-06-05T00:00:00\", \"2021-06-06T00:00:00\", \"2021-06-07T00:00:00\", \"2021-06-08T00:00:00\", \"2021-06-09T00:00:00\", \"2021-06-10T00:00:00\", \"2021-06-11T00:00:00\", \"2021-06-12T00:00:00\", \"2021-06-13T00:00:00\", \"2021-06-14T00:00:00\", \"2021-06-15T00:00:00\", \"2021-06-16T00:00:00\", \"2021-06-17T00:00:00\", \"2021-06-18T00:00:00\", \"2021-06-19T00:00:00\", \"2021-06-20T00:00:00\", \"2021-06-21T00:00:00\", \"2021-06-22T00:00:00\", \"2021-06-23T00:00:00\", \"2021-06-24T00:00:00\", \"2021-06-25T00:00:00\", \"2021-06-26T00:00:00\", \"2021-06-27T00:00:00\", \"2021-06-28T00:00:00\", \"2021-06-29T00:00:00\", \"2021-06-30T00:00:00\", \"2021-07-01T00:00:00\", \"2021-07-02T00:00:00\", \"2021-07-03T00:00:00\", \"2021-07-04T00:00:00\", \"2021-07-05T00:00:00\", \"2021-07-06T00:00:00\", \"2021-07-07T00:00:00\", \"2021-07-08T00:00:00\", \"2021-07-09T00:00:00\", \"2021-07-10T00:00:00\", \"2021-07-11T00:00:00\", \"2021-07-12T00:00:00\", \"2021-07-13T00:00:00\", \"2021-07-14T00:00:00\", \"2021-07-15T00:00:00\", \"2021-07-16T00:00:00\", \"2021-07-17T00:00:00\", \"2021-07-18T00:00:00\", \"2021-07-19T00:00:00\", \"2021-07-20T00:00:00\", \"2021-07-21T00:00:00\", \"2021-07-22T00:00:00\", \"2021-07-23T00:00:00\", \"2021-07-24T00:00:00\", \"2021-07-25T00:00:00\", \"2021-07-26T00:00:00\", \"2021-07-27T00:00:00\", \"2021-07-28T00:00:00\", \"2021-07-29T00:00:00\", \"2021-07-30T00:00:00\", \"2021-07-31T00:00:00\", \"2021-08-01T00:00:00\", \"2021-08-02T00:00:00\", \"2021-08-03T00:00:00\", \"2021-08-04T00:00:00\", \"2021-08-05T00:00:00\", \"2021-08-06T00:00:00\", \"2021-08-07T00:00:00\", \"2021-08-08T00:00:00\", \"2021-08-09T00:00:00\"], \"y\": [0.0, 98.0, 286.0, 492.0, 685.0, 809.0, 2651.0, 589.0, 2068.0, 1692.0, 2111.0, 4749.0, 3100.0, 4011.0, 3745.0, 3160.0, 3593.0, 2734.0, 3030.0, 2609.0, 2042.0, 418.0, 15153.0, 6527.0, 2143.0, 2183.0, 2035.0, 1882.0, 500.0, 560.0, 629.0, 1761.0, 380.0, 564.0, 854.0, 977.0, 1360.0, 1386.0, 1891.0, 2382.0, 1986.0, 2596.0, 2310.0, 2811.0, 3915.0, 4094.0, 3949.0, 4173.0, 4824.0, 7667.0, 5795.0, 14380.0, 11092.0, 11275.0, 14799.0, 15962.0, 19586.0, 27095.0, 30886.0, 32135.0, 35055.0, 42771.0, 41062.0, 51038.0, 62953.0, 65100.0, 67222.0, 59463.0, 65282.0, 76841.0, 83083.0, 83018.0, 83758.0, 59165.0, 71401.0, 73391.0, 69869.0, 83393.0, 86887.0, 85393.0, 74314.0, 119931.0, 70994.0, 84275.0, 77602.0, 95485.0, 88114.0, 77155.0, 76962.0, 75550.0, 75757.0, 81345.0, 84324.0, 84173.0, 82354.0, 71345.0, 70240.0, 75680.0, 77180.0, 83543.0, 88304.0, 79089.0, 74979.0, 77779.0, 80598.0, 90161.0, 88660.0, 90136.0, 85179.0, 74832.0, 76635.0, 84512.0, 85080.0, 96138.0, 95803.0, 94348.0, 78042.0, 89128.0, 96815.0, 102129.0, 106642.0, 106373.0, 104597.0, 94192.0, 86641.0, 93814.0, 102743.0, 119133.0, 120810.0, 136493.0, 106289.0, 96006.0, 121953.0, 114237.0, 130960.0, 131214.0, 133739.0, 112339.0, 102396.0, 125086.0, 135122.0, 138063.0, 128721.0, 135256.0, 132243.0, 119676.0, 142123.0, 143758.0, 141089.0, 179863.0, 157429.0, 127693.0, 139369.0, 166851.0, 172632.0, 178338.0, 191687.0, 178204.0, 163933.0, 155110.0, 174562.0, 217615.0, 209953.0, 201376.0, 193811.0, 183960.0, 163990.0, 211416.0, 214177.0, 226839.0, 232683.0, 216477.0, 192219.0, 191515.0, 222224.0, 231456.0, 251354.0, 242772.0, 236209.0, 213376.0, 207114.0, 233592.0, 279915.0, 282909.0, 281067.0, 254083.0, 213055.0, 226406.0, 252701.0, 291749.0, 280204.0, 290690.0, 248339.0, 230966.0, 206468.0, 257942.0, 276554.0, 285153.0, 282265.0, 258521.0, 224691.0, 225955.0, 257581.0, 276634.0, 289212.0, 303731.0, 247724.0, 214467.0, 207706.0, 258287.0, 279560.0, 272574.0, 261232.0, 264238.0, 206166.0, 225204.0, 244031.0, 283783.0, 283919.0, 283652.0, 263848.0, 220986.0, 262855.0, 264939.0, 283560.0, 281500.0, 314006.0, 270081.0, 230503.0, 217903.0, 242061.0, 284886.0, 299931.0, 321448.0, 286668.0, 242777.0, 263748.0, 285476.0, 304547.0, 314731.0, 326109.0, 292232.0, 252187.0, 275884.0, 284551.0, 276316.0, 353173.0, 330989.0, 288678.0, 251365.0, 254998.0, 282717.0, 326398.0, 318324.0, 297971.0, 332134.0, 261390.0, 300604.0, 326189.0, 351067.0, 361352.0, 360938.0, 356949.0, 287090.0, 291651.0, 319376.0, 382241.0, 407154.0, 411851.0, 373735.0, 315191.0, 386983.0, 389238.0, 444817.0, 472628.0, 496913.0, 456651.0, 360663.0, 486499.0, 470235.0, 511956.0, 550416.0, 570924.0, 476743.0, 462495.0, 562889.0, 554020.0, 511620.0, 596704.0, 644945.0, 596956.0, 483978.0, 501431.0, 559528.0, 648742.0, 649421.0, 652156.0, 594926.0, 473975.0, 533943.0, 611400.0, 627202.0, 653648.0, 668668.0, 587653.0, 488197.0, 524872.0, 590398.0, 636623.0, 582550.0, 686897.0, 586110.0, 488664.0, 508325.0, 612557.0, 651766.0, 694169.0, 683556.0, 642044.0, 538840.0, 519619.0, 643583.0, 670038.0, 674819.0, 704807.0, 635156.0, 530874.0, 525148.0, 636239.0, 733891.0, 740218.0, 720670.0, 611467.0, 533488.0, 548950.0, 650328.0, 695104.0, 666639.0, 468082.0, 514817.0, 434028.0, 495885.0, 665060.0, 761538.0, 744690.0, 555114.0, 589804.0, 527405.0, 553850.0, 740131.0, 783791.0, 881581.0, 803039.0, 760147.0, 588746.0, 619524.0, 705805.0, 748270.0, 755102.0, 767200.0, 639023.0, 529130.0, 514952.0, 608067.0, 693033.0, 656533.0, 658971.0, 567915.0, 445498.0, 497063.0, 556509.0, 598322.0, 614364.0, 590474.0, 515343.0, 381449.0, 446633.0, 458041.0, 522060.0, 466925.0, 535571.0, 372156.0, 397932.0, 315940.0, 427809.0, 435987.0, 441363.0, 428758.0, 373182.0, 293777.0, 283202.0, 350977.0, 395558.0, 403463.0, 412482.0, 370575.0, 314668.0, 288208.0, 388952.0, 445002.0, 447435.0, 443097.0, 389131.0, 303412.0, 305705.0, 310501.0, 441096.0, 453210.0, 446928.0, 410578.0, 368282.0, 298638.0, 414836.0, 466980.0, 476911.0, 489377.0, 454100.0, 360375.0, 348755.0, 473224.0, 539455.0, 553620.0, 561743.0, 498871.0, 423386.0, 416660.0, 514439.0, 633806.0, 651493.0, 641466.0, 584656.0, 469991.0, 458300.0, 568586.0, 683331.0, 711876.0, 633769.0, 529645.0, 552946.0, 489276.0, 604358.0, 684701.0, 839977.0, 748241.0, 664537.0, 690830.0, 616293.0, 779698.0, 817011.0, 816949.0, 854864.0, 787956.0, 685279.0, 693690.0, 854189.0, 889956.0, 899622.0, 903634.0, 821165.0, 722321.0, 682741.0, 844634.0, 905993.0, 897727.0, 879143.0, 796586.0, 674155.0, 681573.0, 807534.0, 841172.0, 870148.0, 832487.0, 785584.0, 641325.0, 621838.0, 738658.0, 760160.0, 725371.0, 717974.0, 627922.0, 548435.0, 540054.0, 622555.0, 671842.0, 628629.0, 625818.0, 578189.0, 476410.0, 454489.0, 532234.0, 568742.0, 554704.0, 500267.0, 481221.0, 391384.0, 378877.0, 463797.0, 485725.0, 489225.0, 419755.0, 398253.0, 322673.0, 321275.0, 366870.0, 419477.0, 449533.0, 421240.0, 371854.0, 302913.0, 308486.0, 371595.0, 398531.0, 392495.0, 405978.0, 347380.0, 300315.0, 297371.0, 372204.0, 437146.0, 403836.0, 421763.0, 362851.0, 309938.0, 331820.0, 384220.0, 393863.0, 440647.0, 440040.0, 375123.0, 326895.0, 371745.0, 453828.0, 463856.0, 481544.0, 508183.0, 426453.0, 364346.0, 440391.0, 518923.0, 541394.0, 570552.0, 598841.0, 473734.0, 422578.0, 499704.0, 532039.0, 559747.0, 567088.0, 689292.0, 474286.0, 432521.0, 544042.0, 612152.0, 651308.0, 643928.0, 736595.0, 508677.0, 463031.0, 587221.0, 640774.0, 671127.0, 687940.0, 821309.0, 544732.0, 437309.0, 656421.0]}],\n",
              "                        {\"height\": 450, \"hoverlabel\": {\"bgcolor\": \"#FC5C65\", \"font\": {\"family\": \"Rockwell\", \"size\": 12}}, \"hovermode\": \"x\", \"margin\": {\"b\": 50, \"l\": 80, \"r\": 0, \"t\": 50}, \"paper_bgcolor\": \"rgba(0, 0, 0, 0)\", \"plot_bgcolor\": \"rgba(0, 0, 0, 0)\", \"template\": {\"data\": {\"bar\": [{\"error_x\": {\"color\": \"#2a3f5f\"}, \"error_y\": {\"color\": \"#2a3f5f\"}, \"marker\": {\"line\": {\"color\": \"#E5ECF6\", \"width\": 0.5}}, \"type\": \"bar\"}], \"barpolar\": [{\"marker\": {\"line\": {\"color\": \"#E5ECF6\", \"width\": 0.5}}, \"type\": \"barpolar\"}], \"carpet\": [{\"aaxis\": {\"endlinecolor\": \"#2a3f5f\", \"gridcolor\": \"white\", \"linecolor\": \"white\", \"minorgridcolor\": \"white\", \"startlinecolor\": \"#2a3f5f\"}, \"baxis\": {\"endlinecolor\": \"#2a3f5f\", \"gridcolor\": \"white\", \"linecolor\": \"white\", \"minorgridcolor\": \"white\", \"startlinecolor\": \"#2a3f5f\"}, \"type\": \"carpet\"}], \"choropleth\": [{\"colorbar\": {\"outlinewidth\": 0, \"ticks\": \"\"}, \"type\": \"choropleth\"}], \"contour\": [{\"colorbar\": {\"outlinewidth\": 0, \"ticks\": \"\"}, \"colorscale\": [[0.0, \"#0d0887\"], [0.1111111111111111, \"#46039f\"], [0.2222222222222222, \"#7201a8\"], [0.3333333333333333, \"#9c179e\"], [0.4444444444444444, \"#bd3786\"], [0.5555555555555556, \"#d8576b\"], [0.6666666666666666, \"#ed7953\"], [0.7777777777777778, \"#fb9f3a\"], [0.8888888888888888, \"#fdca26\"], [1.0, \"#f0f921\"]], \"type\": \"contour\"}], \"contourcarpet\": [{\"colorbar\": {\"outlinewidth\": 0, \"ticks\": \"\"}, \"type\": \"contourcarpet\"}], \"heatmap\": [{\"colorbar\": {\"outlinewidth\": 0, \"ticks\": \"\"}, \"colorscale\": [[0.0, \"#0d0887\"], [0.1111111111111111, \"#46039f\"], [0.2222222222222222, \"#7201a8\"], [0.3333333333333333, \"#9c179e\"], [0.4444444444444444, \"#bd3786\"], [0.5555555555555556, \"#d8576b\"], [0.6666666666666666, \"#ed7953\"], [0.7777777777777778, \"#fb9f3a\"], [0.8888888888888888, \"#fdca26\"], [1.0, \"#f0f921\"]], \"type\": \"heatmap\"}], \"heatmapgl\": [{\"colorbar\": {\"outlinewidth\": 0, \"ticks\": \"\"}, \"colorscale\": [[0.0, \"#0d0887\"], [0.1111111111111111, \"#46039f\"], [0.2222222222222222, \"#7201a8\"], [0.3333333333333333, \"#9c179e\"], [0.4444444444444444, \"#bd3786\"], [0.5555555555555556, \"#d8576b\"], [0.6666666666666666, \"#ed7953\"], [0.7777777777777778, \"#fb9f3a\"], [0.8888888888888888, \"#fdca26\"], [1.0, \"#f0f921\"]], \"type\": \"heatmapgl\"}], \"histogram\": [{\"marker\": {\"colorbar\": {\"outlinewidth\": 0, \"ticks\": \"\"}}, \"type\": \"histogram\"}], \"histogram2d\": [{\"colorbar\": {\"outlinewidth\": 0, \"ticks\": \"\"}, \"colorscale\": [[0.0, \"#0d0887\"], [0.1111111111111111, \"#46039f\"], [0.2222222222222222, \"#7201a8\"], [0.3333333333333333, \"#9c179e\"], [0.4444444444444444, \"#bd3786\"], [0.5555555555555556, \"#d8576b\"], [0.6666666666666666, \"#ed7953\"], [0.7777777777777778, \"#fb9f3a\"], [0.8888888888888888, \"#fdca26\"], [1.0, \"#f0f921\"]], \"type\": \"histogram2d\"}], \"histogram2dcontour\": [{\"colorbar\": {\"outlinewidth\": 0, \"ticks\": \"\"}, \"colorscale\": [[0.0, \"#0d0887\"], [0.1111111111111111, \"#46039f\"], [0.2222222222222222, \"#7201a8\"], [0.3333333333333333, \"#9c179e\"], [0.4444444444444444, \"#bd3786\"], [0.5555555555555556, \"#d8576b\"], [0.6666666666666666, \"#ed7953\"], [0.7777777777777778, \"#fb9f3a\"], [0.8888888888888888, \"#fdca26\"], [1.0, \"#f0f921\"]], \"type\": \"histogram2dcontour\"}], \"mesh3d\": [{\"colorbar\": {\"outlinewidth\": 0, \"ticks\": \"\"}, \"type\": \"mesh3d\"}], \"parcoords\": [{\"line\": {\"colorbar\": {\"outlinewidth\": 0, \"ticks\": \"\"}}, \"type\": \"parcoords\"}], \"pie\": [{\"automargin\": true, \"type\": \"pie\"}], \"scatter\": [{\"marker\": {\"colorbar\": {\"outlinewidth\": 0, \"ticks\": \"\"}}, \"type\": \"scatter\"}], \"scatter3d\": [{\"line\": {\"colorbar\": {\"outlinewidth\": 0, \"ticks\": \"\"}}, \"marker\": {\"colorbar\": {\"outlinewidth\": 0, \"ticks\": \"\"}}, \"type\": \"scatter3d\"}], \"scattercarpet\": [{\"marker\": {\"colorbar\": {\"outlinewidth\": 0, \"ticks\": \"\"}}, \"type\": \"scattercarpet\"}], \"scattergeo\": [{\"marker\": {\"colorbar\": {\"outlinewidth\": 0, \"ticks\": \"\"}}, \"type\": \"scattergeo\"}], \"scattergl\": [{\"marker\": {\"colorbar\": {\"outlinewidth\": 0, \"ticks\": \"\"}}, \"type\": \"scattergl\"}], \"scattermapbox\": [{\"marker\": {\"colorbar\": {\"outlinewidth\": 0, \"ticks\": \"\"}}, \"type\": \"scattermapbox\"}], \"scatterpolar\": [{\"marker\": {\"colorbar\": {\"outlinewidth\": 0, \"ticks\": \"\"}}, \"type\": \"scatterpolar\"}], \"scatterpolargl\": [{\"marker\": {\"colorbar\": {\"outlinewidth\": 0, \"ticks\": \"\"}}, \"type\": \"scatterpolargl\"}], \"scatterternary\": [{\"marker\": {\"colorbar\": {\"outlinewidth\": 0, \"ticks\": \"\"}}, \"type\": \"scatterternary\"}], \"surface\": [{\"colorbar\": {\"outlinewidth\": 0, \"ticks\": \"\"}, \"colorscale\": [[0.0, \"#0d0887\"], [0.1111111111111111, \"#46039f\"], [0.2222222222222222, \"#7201a8\"], [0.3333333333333333, \"#9c179e\"], [0.4444444444444444, \"#bd3786\"], [0.5555555555555556, \"#d8576b\"], [0.6666666666666666, \"#ed7953\"], [0.7777777777777778, \"#fb9f3a\"], [0.8888888888888888, \"#fdca26\"], [1.0, \"#f0f921\"]], \"type\": \"surface\"}], \"table\": [{\"cells\": {\"fill\": {\"color\": \"#EBF0F8\"}, \"line\": {\"color\": \"white\"}}, \"header\": {\"fill\": {\"color\": \"#C8D4E3\"}, \"line\": {\"color\": \"white\"}}, \"type\": \"table\"}]}, \"layout\": {\"annotationdefaults\": {\"arrowcolor\": \"#2a3f5f\", \"arrowhead\": 0, \"arrowwidth\": 1}, \"coloraxis\": {\"colorbar\": {\"outlinewidth\": 0, \"ticks\": \"\"}}, \"colorscale\": {\"diverging\": [[0, \"#8e0152\"], [0.1, \"#c51b7d\"], [0.2, \"#de77ae\"], [0.3, \"#f1b6da\"], [0.4, \"#fde0ef\"], [0.5, \"#f7f7f7\"], [0.6, \"#e6f5d0\"], [0.7, \"#b8e186\"], [0.8, \"#7fbc41\"], [0.9, \"#4d9221\"], [1, \"#276419\"]], \"sequential\": [[0.0, \"#0d0887\"], [0.1111111111111111, \"#46039f\"], [0.2222222222222222, \"#7201a8\"], [0.3333333333333333, \"#9c179e\"], [0.4444444444444444, \"#bd3786\"], [0.5555555555555556, \"#d8576b\"], [0.6666666666666666, \"#ed7953\"], [0.7777777777777778, \"#fb9f3a\"], [0.8888888888888888, \"#fdca26\"], [1.0, \"#f0f921\"]], \"sequentialminus\": [[0.0, \"#0d0887\"], [0.1111111111111111, \"#46039f\"], [0.2222222222222222, \"#7201a8\"], [0.3333333333333333, \"#9c179e\"], [0.4444444444444444, \"#bd3786\"], [0.5555555555555556, \"#d8576b\"], [0.6666666666666666, \"#ed7953\"], [0.7777777777777778, \"#fb9f3a\"], [0.8888888888888888, \"#fdca26\"], [1.0, \"#f0f921\"]]}, \"colorway\": [\"#636efa\", \"#EF553B\", \"#00cc96\", \"#ab63fa\", \"#FFA15A\", \"#19d3f3\", \"#FF6692\", \"#B6E880\", \"#FF97FF\", \"#FECB52\"], \"font\": {\"color\": \"#2a3f5f\"}, \"geo\": {\"bgcolor\": \"white\", \"lakecolor\": \"white\", \"landcolor\": \"#E5ECF6\", \"showlakes\": true, \"showland\": true, \"subunitcolor\": \"white\"}, \"hoverlabel\": {\"align\": \"left\"}, \"hovermode\": \"closest\", \"mapbox\": {\"style\": \"light\"}, \"paper_bgcolor\": \"white\", \"plot_bgcolor\": \"#E5ECF6\", \"polar\": {\"angularaxis\": {\"gridcolor\": \"white\", \"linecolor\": \"white\", \"ticks\": \"\"}, \"bgcolor\": \"#E5ECF6\", \"radialaxis\": {\"gridcolor\": \"white\", \"linecolor\": \"white\", \"ticks\": \"\"}}, \"scene\": {\"xaxis\": {\"backgroundcolor\": \"#E5ECF6\", \"gridcolor\": \"white\", \"gridwidth\": 2, \"linecolor\": \"white\", \"showbackground\": true, \"ticks\": \"\", \"zerolinecolor\": \"white\"}, \"yaxis\": {\"backgroundcolor\": \"#E5ECF6\", \"gridcolor\": \"white\", \"gridwidth\": 2, \"linecolor\": \"white\", \"showbackground\": true, \"ticks\": \"\", \"zerolinecolor\": \"white\"}, \"zaxis\": {\"backgroundcolor\": \"#E5ECF6\", \"gridcolor\": \"white\", \"gridwidth\": 2, \"linecolor\": \"white\", \"showbackground\": true, \"ticks\": \"\", \"zerolinecolor\": \"white\"}}, \"shapedefaults\": {\"line\": {\"color\": \"#2a3f5f\"}}, \"ternary\": {\"aaxis\": {\"gridcolor\": \"white\", \"linecolor\": \"white\", \"ticks\": \"\"}, \"baxis\": {\"gridcolor\": \"white\", \"linecolor\": \"white\", \"ticks\": \"\"}, \"bgcolor\": \"#E5ECF6\", \"caxis\": {\"gridcolor\": \"white\", \"linecolor\": \"white\", \"ticks\": \"\"}}, \"title\": {\"x\": 0.05}, \"xaxis\": {\"automargin\": true, \"gridcolor\": \"white\", \"linecolor\": \"white\", \"ticks\": \"\", \"title\": {\"standoff\": 15}, \"zerolinecolor\": \"white\", \"zerolinewidth\": 2}, \"yaxis\": {\"automargin\": true, \"gridcolor\": \"white\", \"linecolor\": \"white\", \"ticks\": \"\", \"title\": {\"standoff\": 15}, \"zerolinecolor\": \"white\", \"zerolinewidth\": 2}}}, \"title\": {\"font\": {\"family\": \"Balto\", \"size\": 26}, \"text\": \"Novos Casos por Dia\", \"x\": 0.6}, \"width\": 1000, \"xaxis\": {\"showgrid\": false, \"title\": {\"text\": \"Data\"}}, \"yaxis\": {\"showgrid\": false, \"title\": {\"text\": \"Novos Casos\"}, \"zeroline\": true, \"zerolinecolor\": \"#4B738E\", \"zerolinewidth\": 0.8}},\n",
              "                        {\"responsive\": true}\n",
              "                    ).then(function(){\n",
              "                            \n",
              "var gd = document.getElementById('c4f213f6-8036-4095-a229-14f291146267');\n",
              "var x = new MutationObserver(function (mutations, observer) {{\n",
              "        var display = window.getComputedStyle(gd).display;\n",
              "        if (!display || display === 'none') {{\n",
              "            console.log([gd, 'removed!']);\n",
              "            Plotly.purge(gd);\n",
              "            observer.disconnect();\n",
              "        }}\n",
              "}});\n",
              "\n",
              "// Listen for the removal of the full notebook cells\n",
              "var notebookContainer = gd.closest('#notebook-container');\n",
              "if (notebookContainer) {{\n",
              "    x.observe(notebookContainer, {childList: true});\n",
              "}}\n",
              "\n",
              "// Listen for the clearing of the current output cell\n",
              "var outputEl = gd.closest('.output');\n",
              "if (outputEl) {{\n",
              "    x.observe(outputEl, {childList: true});\n",
              "}}\n",
              "\n",
              "                        })\n",
              "                };\n",
              "                \n",
              "            </script>\n",
              "        </div>\n",
              "</body>\n",
              "</html>"
            ]
          },
          "metadata": {
            "tags": []
          }
        }
      ]
    },
    {
      "cell_type": "markdown",
      "metadata": {
        "id": "ONaPqSndnSmx"
      },
      "source": [
        "Como podemos ver, por um bom tempo o vírus se manteve um padrão de pequenas mudanças de altas e baixas, mas sempre crescendo exporadicamente o número de casos. Apenas em Janeiro de 2021, que os números apresentaram uma queda. Se analisarmos os meses seguintes, vemos que a curva de contaminação apresenta um certo padrão de comportamento, com um período de explosão de novos casos e logo uma diminuição. Esse padrão pode ocorrer por conta das ações tomadas pelos governos ao redor do mundo, geralmente quando estamos em um pico de casos tudo é fechado novamente e voltamos ao *lockdown*, e quando estamos em baixa, tudo é reaberto então continuamos alimentando esse padrão.\n",
        "\n",
        "Mas e se compararmos o último mês com o ano de 2020? Durante o decorrer de um ano tivemos diversos acontecimentos que poderiam impactar no número de contaminação, como por exemplo a corrida para a vacinação mundial, medidas rigorosas de prevenção e novos EPIs que surgiram para agregar na luta contra o vírrus. Mas será que o resultado foi positivo? Vamos ver pelo gráfico abaixo"
      ]
    },
    {
      "cell_type": "code",
      "metadata": {
        "colab": {
          "base_uri": "https://localhost:8080/",
          "height": 517
        },
        "id": "P_tkkXJE9RiC",
        "outputId": "cc65f150-c387-420b-bc2f-e16c01329f75"
      },
      "source": [
        "interval = (df_world['date'] > '2020-06-30') & (df_world['date'] < '2020-08-01')\n",
        "interval2 = (df_world['date'] > '2021-06-30') & (df_world['date'] < '2021-08-01')\n",
        "\n",
        "fig_comp_novos_c = make_subplots(rows=1, cols=2, subplot_titles=(\"Jul/2020\", \"Jul/2021\"), shared_yaxes=True)\n",
        "\n",
        "fig_comp_novos_c.add_trace(go.Scatter(x=df_world['date'].loc[interval], y=list(df_world['new_cases'].loc[interval]), fill='tozeroy',\n",
        "                                  line=dict(color='#FC5C65', width=1), showlegend=False, name=\"\"), row=1, col=1)\n",
        "\n",
        "fig_comp_novos_c.add_trace(go.Scatter(x=df_world['date'].loc[interval2], y=list(df_world['new_cases'].loc[interval2]), fill='tozeroy',\n",
        "                                  line=dict(color='#FC5C65', width=1), showlegend=False, name=\"\"), row=1, col=2)\n",
        "\n",
        "fig_comp_novos_c.update_yaxes(showgrid=False, zeroline=True, zerolinecolor='#4B738E', zerolinewidth=0.5)\n",
        "fig_comp_novos_c.update_xaxes(showgrid=False)\n",
        "fig_comp_novos_c.update_layout(title=dict(text=\"Comparação Novos Casos\", font_size=24, pad=dict(b=60), x=0.5), yaxis_title=\"Novos Casos\",\n",
        "                        xaxis_title=\"Data\", paper_bgcolor='rgba(0, 0, 0, 0)',\n",
        "                        plot_bgcolor='rgba(0, 0, 0, 0)',\n",
        "                        hovermode='x', hoverlabel=dict(bgcolor='#4B738E'), width=1300, height=500);\n",
        "\n",
        "\n",
        "iplot(fig_comp_novos_c)"
      ],
      "execution_count": 14,
      "outputs": [
        {
          "output_type": "display_data",
          "data": {
            "text/html": [
              "<html>\n",
              "<head><meta charset=\"utf-8\" /></head>\n",
              "<body>\n",
              "    <div>\n",
              "            <script src=\"https://cdnjs.cloudflare.com/ajax/libs/mathjax/2.7.5/MathJax.js?config=TeX-AMS-MML_SVG\"></script><script type=\"text/javascript\">if (window.MathJax) {MathJax.Hub.Config({SVG: {font: \"STIX-Web\"}});}</script>\n",
              "                <script type=\"text/javascript\">window.PlotlyConfig = {MathJaxConfig: 'local'};</script>\n",
              "        <script src=\"https://cdn.plot.ly/plotly-latest.min.js\"></script>    \n",
              "            <div id=\"f10484b3-c038-43d1-bcbc-b801834c1f68\" class=\"plotly-graph-div\" style=\"height:500px; width:1300px;\"></div>\n",
              "            <script type=\"text/javascript\">\n",
              "                \n",
              "                    window.PLOTLYENV=window.PLOTLYENV || {};\n",
              "                    \n",
              "                if (document.getElementById(\"f10484b3-c038-43d1-bcbc-b801834c1f68\")) {\n",
              "                    Plotly.newPlot(\n",
              "                        'f10484b3-c038-43d1-bcbc-b801834c1f68',\n",
              "                        [{\"fill\": \"tozeroy\", \"line\": {\"color\": \"#FC5C65\", \"width\": 1}, \"name\": \"\", \"showlegend\": false, \"type\": \"scatter\", \"x\": [\"2020-07-01T00:00:00\", \"2020-07-02T00:00:00\", \"2020-07-03T00:00:00\", \"2020-07-04T00:00:00\", \"2020-07-05T00:00:00\", \"2020-07-06T00:00:00\", \"2020-07-07T00:00:00\", \"2020-07-08T00:00:00\", \"2020-07-09T00:00:00\", \"2020-07-10T00:00:00\", \"2020-07-11T00:00:00\", \"2020-07-12T00:00:00\", \"2020-07-13T00:00:00\", \"2020-07-14T00:00:00\", \"2020-07-15T00:00:00\", \"2020-07-16T00:00:00\", \"2020-07-17T00:00:00\", \"2020-07-18T00:00:00\", \"2020-07-19T00:00:00\", \"2020-07-20T00:00:00\", \"2020-07-21T00:00:00\", \"2020-07-22T00:00:00\", \"2020-07-23T00:00:00\", \"2020-07-24T00:00:00\", \"2020-07-25T00:00:00\", \"2020-07-26T00:00:00\", \"2020-07-27T00:00:00\", \"2020-07-28T00:00:00\", \"2020-07-29T00:00:00\", \"2020-07-30T00:00:00\", \"2020-07-31T00:00:00\"], \"xaxis\": \"x\", \"y\": [217615.0, 209953.0, 201376.0, 193811.0, 183960.0, 163990.0, 211416.0, 214177.0, 226839.0, 232683.0, 216477.0, 192219.0, 191515.0, 222224.0, 231456.0, 251354.0, 242772.0, 236209.0, 213376.0, 207114.0, 233592.0, 279915.0, 282909.0, 281067.0, 254083.0, 213055.0, 226406.0, 252701.0, 291749.0, 280204.0, 290690.0], \"yaxis\": \"y\"}, {\"fill\": \"tozeroy\", \"line\": {\"color\": \"#FC5C65\", \"width\": 1}, \"name\": \"\", \"showlegend\": false, \"type\": \"scatter\", \"x\": [\"2021-07-01T00:00:00\", \"2021-07-02T00:00:00\", \"2021-07-03T00:00:00\", \"2021-07-04T00:00:00\", \"2021-07-05T00:00:00\", \"2021-07-06T00:00:00\", \"2021-07-07T00:00:00\", \"2021-07-08T00:00:00\", \"2021-07-09T00:00:00\", \"2021-07-10T00:00:00\", \"2021-07-11T00:00:00\", \"2021-07-12T00:00:00\", \"2021-07-13T00:00:00\", \"2021-07-14T00:00:00\", \"2021-07-15T00:00:00\", \"2021-07-16T00:00:00\", \"2021-07-17T00:00:00\", \"2021-07-18T00:00:00\", \"2021-07-19T00:00:00\", \"2021-07-20T00:00:00\", \"2021-07-21T00:00:00\", \"2021-07-22T00:00:00\", \"2021-07-23T00:00:00\", \"2021-07-24T00:00:00\", \"2021-07-25T00:00:00\", \"2021-07-26T00:00:00\", \"2021-07-27T00:00:00\", \"2021-07-28T00:00:00\", \"2021-07-29T00:00:00\", \"2021-07-30T00:00:00\", \"2021-07-31T00:00:00\"], \"xaxis\": \"x2\", \"y\": [440647.0, 440040.0, 375123.0, 326895.0, 371745.0, 453828.0, 463856.0, 481544.0, 508183.0, 426453.0, 364346.0, 440391.0, 518923.0, 541394.0, 570552.0, 598841.0, 473734.0, 422578.0, 499704.0, 532039.0, 559747.0, 567088.0, 689292.0, 474286.0, 432521.0, 544042.0, 612152.0, 651308.0, 643928.0, 736595.0, 508677.0], \"yaxis\": \"y2\"}],\n",
              "                        {\"annotations\": [{\"font\": {\"size\": 16}, \"showarrow\": false, \"text\": \"Jul/2020\", \"x\": 0.225, \"xanchor\": \"center\", \"xref\": \"paper\", \"y\": 1.0, \"yanchor\": \"bottom\", \"yref\": \"paper\"}, {\"font\": {\"size\": 16}, \"showarrow\": false, \"text\": \"Jul/2021\", \"x\": 0.775, \"xanchor\": \"center\", \"xref\": \"paper\", \"y\": 1.0, \"yanchor\": \"bottom\", \"yref\": \"paper\"}], \"height\": 500, \"hoverlabel\": {\"bgcolor\": \"#4B738E\"}, \"hovermode\": \"x\", \"paper_bgcolor\": \"rgba(0, 0, 0, 0)\", \"plot_bgcolor\": \"rgba(0, 0, 0, 0)\", \"template\": {\"data\": {\"bar\": [{\"error_x\": {\"color\": \"#2a3f5f\"}, \"error_y\": {\"color\": \"#2a3f5f\"}, \"marker\": {\"line\": {\"color\": \"#E5ECF6\", \"width\": 0.5}}, \"type\": \"bar\"}], \"barpolar\": [{\"marker\": {\"line\": {\"color\": \"#E5ECF6\", \"width\": 0.5}}, \"type\": \"barpolar\"}], \"carpet\": [{\"aaxis\": {\"endlinecolor\": \"#2a3f5f\", \"gridcolor\": \"white\", \"linecolor\": \"white\", \"minorgridcolor\": \"white\", \"startlinecolor\": \"#2a3f5f\"}, \"baxis\": {\"endlinecolor\": \"#2a3f5f\", \"gridcolor\": \"white\", \"linecolor\": \"white\", \"minorgridcolor\": \"white\", \"startlinecolor\": \"#2a3f5f\"}, \"type\": \"carpet\"}], \"choropleth\": [{\"colorbar\": {\"outlinewidth\": 0, \"ticks\": \"\"}, \"type\": \"choropleth\"}], \"contour\": [{\"colorbar\": {\"outlinewidth\": 0, \"ticks\": \"\"}, \"colorscale\": [[0.0, \"#0d0887\"], [0.1111111111111111, \"#46039f\"], [0.2222222222222222, \"#7201a8\"], [0.3333333333333333, \"#9c179e\"], [0.4444444444444444, \"#bd3786\"], [0.5555555555555556, \"#d8576b\"], [0.6666666666666666, \"#ed7953\"], [0.7777777777777778, \"#fb9f3a\"], [0.8888888888888888, \"#fdca26\"], [1.0, \"#f0f921\"]], \"type\": \"contour\"}], \"contourcarpet\": [{\"colorbar\": {\"outlinewidth\": 0, \"ticks\": \"\"}, \"type\": \"contourcarpet\"}], \"heatmap\": [{\"colorbar\": {\"outlinewidth\": 0, \"ticks\": \"\"}, \"colorscale\": [[0.0, \"#0d0887\"], [0.1111111111111111, \"#46039f\"], [0.2222222222222222, \"#7201a8\"], [0.3333333333333333, \"#9c179e\"], [0.4444444444444444, \"#bd3786\"], [0.5555555555555556, \"#d8576b\"], [0.6666666666666666, \"#ed7953\"], [0.7777777777777778, \"#fb9f3a\"], [0.8888888888888888, \"#fdca26\"], [1.0, \"#f0f921\"]], \"type\": \"heatmap\"}], \"heatmapgl\": [{\"colorbar\": {\"outlinewidth\": 0, \"ticks\": \"\"}, \"colorscale\": [[0.0, \"#0d0887\"], [0.1111111111111111, \"#46039f\"], [0.2222222222222222, \"#7201a8\"], [0.3333333333333333, \"#9c179e\"], [0.4444444444444444, \"#bd3786\"], [0.5555555555555556, \"#d8576b\"], [0.6666666666666666, \"#ed7953\"], [0.7777777777777778, \"#fb9f3a\"], [0.8888888888888888, \"#fdca26\"], [1.0, \"#f0f921\"]], \"type\": \"heatmapgl\"}], \"histogram\": [{\"marker\": {\"colorbar\": {\"outlinewidth\": 0, \"ticks\": \"\"}}, \"type\": \"histogram\"}], \"histogram2d\": [{\"colorbar\": {\"outlinewidth\": 0, \"ticks\": \"\"}, \"colorscale\": [[0.0, \"#0d0887\"], [0.1111111111111111, \"#46039f\"], [0.2222222222222222, \"#7201a8\"], [0.3333333333333333, \"#9c179e\"], [0.4444444444444444, \"#bd3786\"], [0.5555555555555556, \"#d8576b\"], [0.6666666666666666, \"#ed7953\"], [0.7777777777777778, \"#fb9f3a\"], [0.8888888888888888, \"#fdca26\"], [1.0, \"#f0f921\"]], \"type\": \"histogram2d\"}], \"histogram2dcontour\": [{\"colorbar\": {\"outlinewidth\": 0, \"ticks\": \"\"}, \"colorscale\": [[0.0, \"#0d0887\"], [0.1111111111111111, \"#46039f\"], [0.2222222222222222, \"#7201a8\"], [0.3333333333333333, \"#9c179e\"], [0.4444444444444444, \"#bd3786\"], [0.5555555555555556, \"#d8576b\"], [0.6666666666666666, \"#ed7953\"], [0.7777777777777778, \"#fb9f3a\"], [0.8888888888888888, \"#fdca26\"], [1.0, \"#f0f921\"]], \"type\": \"histogram2dcontour\"}], \"mesh3d\": [{\"colorbar\": {\"outlinewidth\": 0, \"ticks\": \"\"}, \"type\": \"mesh3d\"}], \"parcoords\": [{\"line\": {\"colorbar\": {\"outlinewidth\": 0, \"ticks\": \"\"}}, \"type\": \"parcoords\"}], \"pie\": [{\"automargin\": true, \"type\": \"pie\"}], \"scatter\": [{\"marker\": {\"colorbar\": {\"outlinewidth\": 0, \"ticks\": \"\"}}, \"type\": \"scatter\"}], \"scatter3d\": [{\"line\": {\"colorbar\": {\"outlinewidth\": 0, \"ticks\": \"\"}}, \"marker\": {\"colorbar\": {\"outlinewidth\": 0, \"ticks\": \"\"}}, \"type\": \"scatter3d\"}], \"scattercarpet\": [{\"marker\": {\"colorbar\": {\"outlinewidth\": 0, \"ticks\": \"\"}}, \"type\": \"scattercarpet\"}], \"scattergeo\": [{\"marker\": {\"colorbar\": {\"outlinewidth\": 0, \"ticks\": \"\"}}, \"type\": \"scattergeo\"}], \"scattergl\": [{\"marker\": {\"colorbar\": {\"outlinewidth\": 0, \"ticks\": \"\"}}, \"type\": \"scattergl\"}], \"scattermapbox\": [{\"marker\": {\"colorbar\": {\"outlinewidth\": 0, \"ticks\": \"\"}}, \"type\": \"scattermapbox\"}], \"scatterpolar\": [{\"marker\": {\"colorbar\": {\"outlinewidth\": 0, \"ticks\": \"\"}}, \"type\": \"scatterpolar\"}], \"scatterpolargl\": [{\"marker\": {\"colorbar\": {\"outlinewidth\": 0, \"ticks\": \"\"}}, \"type\": \"scatterpolargl\"}], \"scatterternary\": [{\"marker\": {\"colorbar\": {\"outlinewidth\": 0, \"ticks\": \"\"}}, \"type\": \"scatterternary\"}], \"surface\": [{\"colorbar\": {\"outlinewidth\": 0, \"ticks\": \"\"}, \"colorscale\": [[0.0, \"#0d0887\"], [0.1111111111111111, \"#46039f\"], [0.2222222222222222, \"#7201a8\"], [0.3333333333333333, \"#9c179e\"], [0.4444444444444444, \"#bd3786\"], [0.5555555555555556, \"#d8576b\"], [0.6666666666666666, \"#ed7953\"], [0.7777777777777778, \"#fb9f3a\"], [0.8888888888888888, \"#fdca26\"], [1.0, \"#f0f921\"]], \"type\": \"surface\"}], \"table\": [{\"cells\": {\"fill\": {\"color\": \"#EBF0F8\"}, \"line\": {\"color\": \"white\"}}, \"header\": {\"fill\": {\"color\": \"#C8D4E3\"}, \"line\": {\"color\": \"white\"}}, \"type\": \"table\"}]}, \"layout\": {\"annotationdefaults\": {\"arrowcolor\": \"#2a3f5f\", \"arrowhead\": 0, \"arrowwidth\": 1}, \"coloraxis\": {\"colorbar\": {\"outlinewidth\": 0, \"ticks\": \"\"}}, \"colorscale\": {\"diverging\": [[0, \"#8e0152\"], [0.1, \"#c51b7d\"], [0.2, \"#de77ae\"], [0.3, \"#f1b6da\"], [0.4, \"#fde0ef\"], [0.5, \"#f7f7f7\"], [0.6, \"#e6f5d0\"], [0.7, \"#b8e186\"], [0.8, \"#7fbc41\"], [0.9, \"#4d9221\"], [1, \"#276419\"]], \"sequential\": [[0.0, \"#0d0887\"], [0.1111111111111111, \"#46039f\"], [0.2222222222222222, \"#7201a8\"], [0.3333333333333333, \"#9c179e\"], [0.4444444444444444, \"#bd3786\"], [0.5555555555555556, \"#d8576b\"], [0.6666666666666666, \"#ed7953\"], [0.7777777777777778, \"#fb9f3a\"], [0.8888888888888888, \"#fdca26\"], [1.0, \"#f0f921\"]], \"sequentialminus\": [[0.0, \"#0d0887\"], [0.1111111111111111, \"#46039f\"], [0.2222222222222222, \"#7201a8\"], [0.3333333333333333, \"#9c179e\"], [0.4444444444444444, \"#bd3786\"], [0.5555555555555556, \"#d8576b\"], [0.6666666666666666, \"#ed7953\"], [0.7777777777777778, \"#fb9f3a\"], [0.8888888888888888, \"#fdca26\"], [1.0, \"#f0f921\"]]}, \"colorway\": [\"#636efa\", \"#EF553B\", \"#00cc96\", \"#ab63fa\", \"#FFA15A\", \"#19d3f3\", \"#FF6692\", \"#B6E880\", \"#FF97FF\", \"#FECB52\"], \"font\": {\"color\": \"#2a3f5f\"}, \"geo\": {\"bgcolor\": \"white\", \"lakecolor\": \"white\", \"landcolor\": \"#E5ECF6\", \"showlakes\": true, \"showland\": true, \"subunitcolor\": \"white\"}, \"hoverlabel\": {\"align\": \"left\"}, \"hovermode\": \"closest\", \"mapbox\": {\"style\": \"light\"}, \"paper_bgcolor\": \"white\", \"plot_bgcolor\": \"#E5ECF6\", \"polar\": {\"angularaxis\": {\"gridcolor\": \"white\", \"linecolor\": \"white\", \"ticks\": \"\"}, \"bgcolor\": \"#E5ECF6\", \"radialaxis\": {\"gridcolor\": \"white\", \"linecolor\": \"white\", \"ticks\": \"\"}}, \"scene\": {\"xaxis\": {\"backgroundcolor\": \"#E5ECF6\", \"gridcolor\": \"white\", \"gridwidth\": 2, \"linecolor\": \"white\", \"showbackground\": true, \"ticks\": \"\", \"zerolinecolor\": \"white\"}, \"yaxis\": {\"backgroundcolor\": \"#E5ECF6\", \"gridcolor\": \"white\", \"gridwidth\": 2, \"linecolor\": \"white\", \"showbackground\": true, \"ticks\": \"\", \"zerolinecolor\": \"white\"}, \"zaxis\": {\"backgroundcolor\": \"#E5ECF6\", \"gridcolor\": \"white\", \"gridwidth\": 2, \"linecolor\": \"white\", \"showbackground\": true, \"ticks\": \"\", \"zerolinecolor\": \"white\"}}, \"shapedefaults\": {\"line\": {\"color\": \"#2a3f5f\"}}, \"ternary\": {\"aaxis\": {\"gridcolor\": \"white\", \"linecolor\": \"white\", \"ticks\": \"\"}, \"baxis\": {\"gridcolor\": \"white\", \"linecolor\": \"white\", \"ticks\": \"\"}, \"bgcolor\": \"#E5ECF6\", \"caxis\": {\"gridcolor\": \"white\", \"linecolor\": \"white\", \"ticks\": \"\"}}, \"title\": {\"x\": 0.05}, \"xaxis\": {\"automargin\": true, \"gridcolor\": \"white\", \"linecolor\": \"white\", \"ticks\": \"\", \"title\": {\"standoff\": 15}, \"zerolinecolor\": \"white\", \"zerolinewidth\": 2}, \"yaxis\": {\"automargin\": true, \"gridcolor\": \"white\", \"linecolor\": \"white\", \"ticks\": \"\", \"title\": {\"standoff\": 15}, \"zerolinecolor\": \"white\", \"zerolinewidth\": 2}}}, \"title\": {\"font\": {\"size\": 24}, \"pad\": {\"b\": 60}, \"text\": \"Compara\\u00e7\\u00e3o Novos Casos\", \"x\": 0.5}, \"width\": 1300, \"xaxis\": {\"anchor\": \"y\", \"domain\": [0.0, 0.45], \"showgrid\": false, \"title\": {\"text\": \"Data\"}}, \"xaxis2\": {\"anchor\": \"y2\", \"domain\": [0.55, 1.0], \"showgrid\": false}, \"yaxis\": {\"anchor\": \"x\", \"domain\": [0.0, 1.0], \"showgrid\": false, \"title\": {\"text\": \"Novos Casos\"}, \"zeroline\": true, \"zerolinecolor\": \"#4B738E\", \"zerolinewidth\": 0.5}, \"yaxis2\": {\"anchor\": \"x2\", \"domain\": [0.0, 1.0], \"matches\": \"y\", \"showgrid\": false, \"showticklabels\": false, \"zeroline\": true, \"zerolinecolor\": \"#4B738E\", \"zerolinewidth\": 0.5}},\n",
              "                        {\"responsive\": true}\n",
              "                    ).then(function(){\n",
              "                            \n",
              "var gd = document.getElementById('f10484b3-c038-43d1-bcbc-b801834c1f68');\n",
              "var x = new MutationObserver(function (mutations, observer) {{\n",
              "        var display = window.getComputedStyle(gd).display;\n",
              "        if (!display || display === 'none') {{\n",
              "            console.log([gd, 'removed!']);\n",
              "            Plotly.purge(gd);\n",
              "            observer.disconnect();\n",
              "        }}\n",
              "}});\n",
              "\n",
              "// Listen for the removal of the full notebook cells\n",
              "var notebookContainer = gd.closest('#notebook-container');\n",
              "if (notebookContainer) {{\n",
              "    x.observe(notebookContainer, {childList: true});\n",
              "}}\n",
              "\n",
              "// Listen for the clearing of the current output cell\n",
              "var outputEl = gd.closest('.output');\n",
              "if (outputEl) {{\n",
              "    x.observe(outputEl, {childList: true});\n",
              "}}\n",
              "\n",
              "                        })\n",
              "                };\n",
              "                \n",
              "            </script>\n",
              "        </div>\n",
              "</body>\n",
              "</html>"
            ]
          },
          "metadata": {
            "tags": []
          }
        }
      ]
    },
    {
      "cell_type": "code",
      "metadata": {
        "colab": {
          "base_uri": "https://localhost:8080/"
        },
        "id": "rW_tHycEYi3R",
        "outputId": "fbdfa33b-12bd-4780-95e6-73c465f00b40"
      },
      "source": [
        "print('Total de casos Jul/2020: {:,}'.format(df_world['new_cases'].loc[interval].sum()))\n",
        "print('Total de casos Jul/2021: {:,}'.format(df_world['new_cases'].loc[interval2].sum()))\n",
        "print('Diferença (Jul/21 - Jul/21): {:,}'.format(df_world['new_cases'].loc[interval2].sum() - df_world['new_cases'].loc[interval].sum()))\n",
        "print('Porcentagem da Diferença: {:.0%}'.format((df_world['new_cases'].loc[interval2].sum() - df_world['new_cases'].loc[interval].sum()) / df_world['new_cases'].loc[interval].sum()))"
      ],
      "execution_count": 15,
      "outputs": [
        {
          "output_type": "stream",
          "text": [
            "Total de casos Jul/2020: 7,146,907.0\n",
            "Total de casos Jul/2021: 15,670,452.0\n",
            "Diferença (Jul/21 - Jul/21): 8,523,545.0\n",
            "Porcentagem da Diferença: 119%\n"
          ],
          "name": "stdout"
        }
      ]
    },
    {
      "cell_type": "markdown",
      "metadata": {
        "id": "RLGobBNHG8UP"
      },
      "source": [
        "Pelo gráfico, vemos que a diminuição de casos que esperávamos não aconteceu. Na verdade, o número de novos casos aumentou 219% comparado ao mesmo mês do último ano. Em Julho de 2020, tivemos 7.149.907 novos casos confirmados, enquanto em 2021, foram 15.670.452.\n",
        "\n",
        "Apesar desta grande diferença entre os meses, não podemos dizer que a vacinação ou os *lockdowns* foram ineficientes. Na realidade, o certo é ver que se todas essas ações não fossem tomadas, os números poderiam ser muito maiores. \n"
      ]
    },
    {
      "cell_type": "code",
      "metadata": {
        "id": "PoYfRnjnCddX"
      },
      "source": [
        "df_ranking = df_clean.drop([\"World\", \"Asia\", \"Europe\", \"North America\", \"South America\", \"European Union\"])"
      ],
      "execution_count": 16,
      "outputs": []
    },
    {
      "cell_type": "markdown",
      "metadata": {
        "id": "GlVIjGfvxyXo"
      },
      "source": [
        "## Países com maiores índices\n",
        "\n",
        "Agora que temos uma visão geral da pandemia ao redor do mundo, vamos começar a olhar mais a fundo dentro dos dados e fazer alguns questionamentos do tipo?\n",
        "\n",
        "Quais são os países com mais casos? E o país com mais mortes? \n",
        "E como estão os números do Brasil? Estamos com altos ou baixos índices comparando com os outros países?\n",
        "\n",
        "Vamos responder essas e outras perguntas analisando o gráfico abaixo"
      ]
    },
    {
      "cell_type": "code",
      "metadata": {
        "colab": {
          "base_uri": "https://localhost:8080/",
          "height": 517
        },
        "id": "72xnbnumAEHb",
        "outputId": "c20ee343-ad74-47b9-e3d3-e4efd535542f"
      },
      "source": [
        "ranking_cases = df_ranking.groupby(df_ranking.index).max().sort_values(\"total_cases\", ascending=False)[:5]\n",
        "ranking_deaths = df_ranking.groupby(df_ranking.index).max().sort_values(\"total_deaths\", ascending=False)[:5]\n",
        "\n",
        "color = ['#FC5C65' if country == \"Brazil\" else 'rgba(252, 92, 101, 0.3)' for country in ranking_cases.index]\n",
        "color2 = ['#FC5C65' if country == \"Brazil\" else 'rgba(252, 92, 101, 0.3)' for country in ranking_deaths.index]\n",
        "\n",
        "fig_ranking = make_subplots(rows=1, cols=2, subplot_titles=(\"Total de Casos\", \"Total de Mortes\"))\n",
        "\n",
        "fig_ranking.add_trace(go.Bar(x=ranking_cases.index, y=list(ranking_cases['total_cases']),\n",
        "                             marker_color=color, showlegend=False), row=1, col=1)\n",
        "\n",
        "fig_ranking.add_trace(go.Bar(x=ranking_deaths.index, y=list(ranking_deaths['total_deaths']),\n",
        "                                  marker_color=color2, showlegend=False), row=1, col=2)\n",
        "\n",
        "\n",
        "fig_ranking.update_layout(width=1500, height=500, plot_bgcolor='rgba(0, 0, 0, 0)',\n",
        "                  paper_bgcolor='rgba(0, 0, 0, 0)')\n",
        "fig_ranking.update_xaxes(showgrid=False)\n",
        "fig_ranking.update_yaxes(showgrid=False)\n",
        "\n",
        "iplot(fig_ranking)"
      ],
      "execution_count": 17,
      "outputs": [
        {
          "output_type": "display_data",
          "data": {
            "text/html": [
              "<html>\n",
              "<head><meta charset=\"utf-8\" /></head>\n",
              "<body>\n",
              "    <div>\n",
              "            <script src=\"https://cdnjs.cloudflare.com/ajax/libs/mathjax/2.7.5/MathJax.js?config=TeX-AMS-MML_SVG\"></script><script type=\"text/javascript\">if (window.MathJax) {MathJax.Hub.Config({SVG: {font: \"STIX-Web\"}});}</script>\n",
              "                <script type=\"text/javascript\">window.PlotlyConfig = {MathJaxConfig: 'local'};</script>\n",
              "        <script src=\"https://cdn.plot.ly/plotly-latest.min.js\"></script>    \n",
              "            <div id=\"ccb85c0b-e58c-4ecf-b667-60bc8641af2a\" class=\"plotly-graph-div\" style=\"height:500px; width:1500px;\"></div>\n",
              "            <script type=\"text/javascript\">\n",
              "                \n",
              "                    window.PLOTLYENV=window.PLOTLYENV || {};\n",
              "                    \n",
              "                if (document.getElementById(\"ccb85c0b-e58c-4ecf-b667-60bc8641af2a\")) {\n",
              "                    Plotly.newPlot(\n",
              "                        'ccb85c0b-e58c-4ecf-b667-60bc8641af2a',\n",
              "                        [{\"marker\": {\"color\": [\"rgba(252, 92, 101, 0.3)\", \"rgba(252, 92, 101, 0.3)\", \"#FC5C65\", \"rgba(252, 92, 101, 0.3)\", \"rgba(252, 92, 101, 0.3)\"]}, \"showlegend\": false, \"type\": \"bar\", \"x\": [\"United States\", \"India\", \"Brazil\", \"Africa\", \"Russia\"], \"xaxis\": \"x\", \"y\": [35948131.0, 31998158.0, 20177757.0, 7048926.0, 6384195.0], \"yaxis\": \"y\"}, {\"marker\": {\"color\": [\"rgba(252, 92, 101, 0.3)\", \"#FC5C65\", \"rgba(252, 92, 101, 0.3)\", \"rgba(252, 92, 101, 0.3)\", \"rgba(252, 92, 101, 0.3)\"]}, \"showlegend\": false, \"type\": \"bar\", \"x\": [\"United States\", \"Brazil\", \"India\", \"Mexico\", \"Peru\"], \"xaxis\": \"x2\", \"y\": [617321.0, 563562.0, 428682.0, 244690.0, 197029.0], \"yaxis\": \"y2\"}],\n",
              "                        {\"annotations\": [{\"font\": {\"size\": 16}, \"showarrow\": false, \"text\": \"Total de Casos\", \"x\": 0.225, \"xanchor\": \"center\", \"xref\": \"paper\", \"y\": 1.0, \"yanchor\": \"bottom\", \"yref\": \"paper\"}, {\"font\": {\"size\": 16}, \"showarrow\": false, \"text\": \"Total de Mortes\", \"x\": 0.775, \"xanchor\": \"center\", \"xref\": \"paper\", \"y\": 1.0, \"yanchor\": \"bottom\", \"yref\": \"paper\"}], \"height\": 500, \"paper_bgcolor\": \"rgba(0, 0, 0, 0)\", \"plot_bgcolor\": \"rgba(0, 0, 0, 0)\", \"template\": {\"data\": {\"bar\": [{\"error_x\": {\"color\": \"#2a3f5f\"}, \"error_y\": {\"color\": \"#2a3f5f\"}, \"marker\": {\"line\": {\"color\": \"#E5ECF6\", \"width\": 0.5}}, \"type\": \"bar\"}], \"barpolar\": [{\"marker\": {\"line\": {\"color\": \"#E5ECF6\", \"width\": 0.5}}, \"type\": \"barpolar\"}], \"carpet\": [{\"aaxis\": {\"endlinecolor\": \"#2a3f5f\", \"gridcolor\": \"white\", \"linecolor\": \"white\", \"minorgridcolor\": \"white\", \"startlinecolor\": \"#2a3f5f\"}, \"baxis\": {\"endlinecolor\": \"#2a3f5f\", \"gridcolor\": \"white\", \"linecolor\": \"white\", \"minorgridcolor\": \"white\", \"startlinecolor\": \"#2a3f5f\"}, \"type\": \"carpet\"}], \"choropleth\": [{\"colorbar\": {\"outlinewidth\": 0, \"ticks\": \"\"}, \"type\": \"choropleth\"}], \"contour\": [{\"colorbar\": {\"outlinewidth\": 0, \"ticks\": \"\"}, \"colorscale\": [[0.0, \"#0d0887\"], [0.1111111111111111, \"#46039f\"], [0.2222222222222222, \"#7201a8\"], [0.3333333333333333, \"#9c179e\"], [0.4444444444444444, \"#bd3786\"], [0.5555555555555556, \"#d8576b\"], [0.6666666666666666, \"#ed7953\"], [0.7777777777777778, \"#fb9f3a\"], [0.8888888888888888, \"#fdca26\"], [1.0, \"#f0f921\"]], \"type\": \"contour\"}], \"contourcarpet\": [{\"colorbar\": {\"outlinewidth\": 0, \"ticks\": \"\"}, \"type\": \"contourcarpet\"}], \"heatmap\": [{\"colorbar\": {\"outlinewidth\": 0, \"ticks\": \"\"}, \"colorscale\": [[0.0, \"#0d0887\"], [0.1111111111111111, \"#46039f\"], [0.2222222222222222, \"#7201a8\"], [0.3333333333333333, \"#9c179e\"], [0.4444444444444444, \"#bd3786\"], [0.5555555555555556, \"#d8576b\"], [0.6666666666666666, \"#ed7953\"], [0.7777777777777778, \"#fb9f3a\"], [0.8888888888888888, \"#fdca26\"], [1.0, \"#f0f921\"]], \"type\": \"heatmap\"}], \"heatmapgl\": [{\"colorbar\": {\"outlinewidth\": 0, \"ticks\": \"\"}, \"colorscale\": [[0.0, \"#0d0887\"], [0.1111111111111111, \"#46039f\"], [0.2222222222222222, \"#7201a8\"], [0.3333333333333333, \"#9c179e\"], [0.4444444444444444, \"#bd3786\"], [0.5555555555555556, \"#d8576b\"], [0.6666666666666666, \"#ed7953\"], [0.7777777777777778, \"#fb9f3a\"], [0.8888888888888888, \"#fdca26\"], [1.0, \"#f0f921\"]], \"type\": \"heatmapgl\"}], \"histogram\": [{\"marker\": {\"colorbar\": {\"outlinewidth\": 0, \"ticks\": \"\"}}, \"type\": \"histogram\"}], \"histogram2d\": [{\"colorbar\": {\"outlinewidth\": 0, \"ticks\": \"\"}, \"colorscale\": [[0.0, \"#0d0887\"], [0.1111111111111111, \"#46039f\"], [0.2222222222222222, \"#7201a8\"], [0.3333333333333333, \"#9c179e\"], [0.4444444444444444, \"#bd3786\"], [0.5555555555555556, \"#d8576b\"], [0.6666666666666666, \"#ed7953\"], [0.7777777777777778, \"#fb9f3a\"], [0.8888888888888888, \"#fdca26\"], [1.0, \"#f0f921\"]], \"type\": \"histogram2d\"}], \"histogram2dcontour\": [{\"colorbar\": {\"outlinewidth\": 0, \"ticks\": \"\"}, \"colorscale\": [[0.0, \"#0d0887\"], [0.1111111111111111, \"#46039f\"], [0.2222222222222222, \"#7201a8\"], [0.3333333333333333, \"#9c179e\"], [0.4444444444444444, \"#bd3786\"], [0.5555555555555556, \"#d8576b\"], [0.6666666666666666, \"#ed7953\"], [0.7777777777777778, \"#fb9f3a\"], [0.8888888888888888, \"#fdca26\"], [1.0, \"#f0f921\"]], \"type\": \"histogram2dcontour\"}], \"mesh3d\": [{\"colorbar\": {\"outlinewidth\": 0, \"ticks\": \"\"}, \"type\": \"mesh3d\"}], \"parcoords\": [{\"line\": {\"colorbar\": {\"outlinewidth\": 0, \"ticks\": \"\"}}, \"type\": \"parcoords\"}], \"pie\": [{\"automargin\": true, \"type\": \"pie\"}], \"scatter\": [{\"marker\": {\"colorbar\": {\"outlinewidth\": 0, \"ticks\": \"\"}}, \"type\": \"scatter\"}], \"scatter3d\": [{\"line\": {\"colorbar\": {\"outlinewidth\": 0, \"ticks\": \"\"}}, \"marker\": {\"colorbar\": {\"outlinewidth\": 0, \"ticks\": \"\"}}, \"type\": \"scatter3d\"}], \"scattercarpet\": [{\"marker\": {\"colorbar\": {\"outlinewidth\": 0, \"ticks\": \"\"}}, \"type\": \"scattercarpet\"}], \"scattergeo\": [{\"marker\": {\"colorbar\": {\"outlinewidth\": 0, \"ticks\": \"\"}}, \"type\": \"scattergeo\"}], \"scattergl\": [{\"marker\": {\"colorbar\": {\"outlinewidth\": 0, \"ticks\": \"\"}}, \"type\": \"scattergl\"}], \"scattermapbox\": [{\"marker\": {\"colorbar\": {\"outlinewidth\": 0, \"ticks\": \"\"}}, \"type\": \"scattermapbox\"}], \"scatterpolar\": [{\"marker\": {\"colorbar\": {\"outlinewidth\": 0, \"ticks\": \"\"}}, \"type\": \"scatterpolar\"}], \"scatterpolargl\": [{\"marker\": {\"colorbar\": {\"outlinewidth\": 0, \"ticks\": \"\"}}, \"type\": \"scatterpolargl\"}], \"scatterternary\": [{\"marker\": {\"colorbar\": {\"outlinewidth\": 0, \"ticks\": \"\"}}, \"type\": \"scatterternary\"}], \"surface\": [{\"colorbar\": {\"outlinewidth\": 0, \"ticks\": \"\"}, \"colorscale\": [[0.0, \"#0d0887\"], [0.1111111111111111, \"#46039f\"], [0.2222222222222222, \"#7201a8\"], [0.3333333333333333, \"#9c179e\"], [0.4444444444444444, \"#bd3786\"], [0.5555555555555556, \"#d8576b\"], [0.6666666666666666, \"#ed7953\"], [0.7777777777777778, \"#fb9f3a\"], [0.8888888888888888, \"#fdca26\"], [1.0, \"#f0f921\"]], \"type\": \"surface\"}], \"table\": [{\"cells\": {\"fill\": {\"color\": \"#EBF0F8\"}, \"line\": {\"color\": \"white\"}}, \"header\": {\"fill\": {\"color\": \"#C8D4E3\"}, \"line\": {\"color\": \"white\"}}, \"type\": \"table\"}]}, \"layout\": {\"annotationdefaults\": {\"arrowcolor\": \"#2a3f5f\", \"arrowhead\": 0, \"arrowwidth\": 1}, \"coloraxis\": {\"colorbar\": {\"outlinewidth\": 0, \"ticks\": \"\"}}, \"colorscale\": {\"diverging\": [[0, \"#8e0152\"], [0.1, \"#c51b7d\"], [0.2, \"#de77ae\"], [0.3, \"#f1b6da\"], [0.4, \"#fde0ef\"], [0.5, \"#f7f7f7\"], [0.6, \"#e6f5d0\"], [0.7, \"#b8e186\"], [0.8, \"#7fbc41\"], [0.9, \"#4d9221\"], [1, \"#276419\"]], \"sequential\": [[0.0, \"#0d0887\"], [0.1111111111111111, \"#46039f\"], [0.2222222222222222, \"#7201a8\"], [0.3333333333333333, \"#9c179e\"], [0.4444444444444444, \"#bd3786\"], [0.5555555555555556, \"#d8576b\"], [0.6666666666666666, \"#ed7953\"], [0.7777777777777778, \"#fb9f3a\"], [0.8888888888888888, \"#fdca26\"], [1.0, \"#f0f921\"]], \"sequentialminus\": [[0.0, \"#0d0887\"], [0.1111111111111111, \"#46039f\"], [0.2222222222222222, \"#7201a8\"], [0.3333333333333333, \"#9c179e\"], [0.4444444444444444, \"#bd3786\"], [0.5555555555555556, \"#d8576b\"], [0.6666666666666666, \"#ed7953\"], [0.7777777777777778, \"#fb9f3a\"], [0.8888888888888888, \"#fdca26\"], [1.0, \"#f0f921\"]]}, \"colorway\": [\"#636efa\", \"#EF553B\", \"#00cc96\", \"#ab63fa\", \"#FFA15A\", \"#19d3f3\", \"#FF6692\", \"#B6E880\", \"#FF97FF\", \"#FECB52\"], \"font\": {\"color\": \"#2a3f5f\"}, \"geo\": {\"bgcolor\": \"white\", \"lakecolor\": \"white\", \"landcolor\": \"#E5ECF6\", \"showlakes\": true, \"showland\": true, \"subunitcolor\": \"white\"}, \"hoverlabel\": {\"align\": \"left\"}, \"hovermode\": \"closest\", \"mapbox\": {\"style\": \"light\"}, \"paper_bgcolor\": \"white\", \"plot_bgcolor\": \"#E5ECF6\", \"polar\": {\"angularaxis\": {\"gridcolor\": \"white\", \"linecolor\": \"white\", \"ticks\": \"\"}, \"bgcolor\": \"#E5ECF6\", \"radialaxis\": {\"gridcolor\": \"white\", \"linecolor\": \"white\", \"ticks\": \"\"}}, \"scene\": {\"xaxis\": {\"backgroundcolor\": \"#E5ECF6\", \"gridcolor\": \"white\", \"gridwidth\": 2, \"linecolor\": \"white\", \"showbackground\": true, \"ticks\": \"\", \"zerolinecolor\": \"white\"}, \"yaxis\": {\"backgroundcolor\": \"#E5ECF6\", \"gridcolor\": \"white\", \"gridwidth\": 2, \"linecolor\": \"white\", \"showbackground\": true, \"ticks\": \"\", \"zerolinecolor\": \"white\"}, \"zaxis\": {\"backgroundcolor\": \"#E5ECF6\", \"gridcolor\": \"white\", \"gridwidth\": 2, \"linecolor\": \"white\", \"showbackground\": true, \"ticks\": \"\", \"zerolinecolor\": \"white\"}}, \"shapedefaults\": {\"line\": {\"color\": \"#2a3f5f\"}}, \"ternary\": {\"aaxis\": {\"gridcolor\": \"white\", \"linecolor\": \"white\", \"ticks\": \"\"}, \"baxis\": {\"gridcolor\": \"white\", \"linecolor\": \"white\", \"ticks\": \"\"}, \"bgcolor\": \"#E5ECF6\", \"caxis\": {\"gridcolor\": \"white\", \"linecolor\": \"white\", \"ticks\": \"\"}}, \"title\": {\"x\": 0.05}, \"xaxis\": {\"automargin\": true, \"gridcolor\": \"white\", \"linecolor\": \"white\", \"ticks\": \"\", \"title\": {\"standoff\": 15}, \"zerolinecolor\": \"white\", \"zerolinewidth\": 2}, \"yaxis\": {\"automargin\": true, \"gridcolor\": \"white\", \"linecolor\": \"white\", \"ticks\": \"\", \"title\": {\"standoff\": 15}, \"zerolinecolor\": \"white\", \"zerolinewidth\": 2}}}, \"width\": 1500, \"xaxis\": {\"anchor\": \"y\", \"domain\": [0.0, 0.45], \"showgrid\": false}, \"xaxis2\": {\"anchor\": \"y2\", \"domain\": [0.55, 1.0], \"showgrid\": false}, \"yaxis\": {\"anchor\": \"x\", \"domain\": [0.0, 1.0], \"showgrid\": false}, \"yaxis2\": {\"anchor\": \"x2\", \"domain\": [0.0, 1.0], \"showgrid\": false}},\n",
              "                        {\"responsive\": true}\n",
              "                    ).then(function(){\n",
              "                            \n",
              "var gd = document.getElementById('ccb85c0b-e58c-4ecf-b667-60bc8641af2a');\n",
              "var x = new MutationObserver(function (mutations, observer) {{\n",
              "        var display = window.getComputedStyle(gd).display;\n",
              "        if (!display || display === 'none') {{\n",
              "            console.log([gd, 'removed!']);\n",
              "            Plotly.purge(gd);\n",
              "            observer.disconnect();\n",
              "        }}\n",
              "}});\n",
              "\n",
              "// Listen for the removal of the full notebook cells\n",
              "var notebookContainer = gd.closest('#notebook-container');\n",
              "if (notebookContainer) {{\n",
              "    x.observe(notebookContainer, {childList: true});\n",
              "}}\n",
              "\n",
              "// Listen for the clearing of the current output cell\n",
              "var outputEl = gd.closest('.output');\n",
              "if (outputEl) {{\n",
              "    x.observe(outputEl, {childList: true});\n",
              "}}\n",
              "\n",
              "                        })\n",
              "                };\n",
              "                \n",
              "            </script>\n",
              "        </div>\n",
              "</body>\n",
              "</html>"
            ]
          },
          "metadata": {
            "tags": []
          }
        }
      ]
    },
    {
      "cell_type": "markdown",
      "metadata": {
        "id": "JNBN4xue1n7L"
      },
      "source": [
        "Acima, temos dois gráficos contendo os países com maiores índices de casos e mortes. Podemos ver que, em ambos os Estados Unidos dominam a primeira colocação, entretanto os outros níveis se alteram um pouco. Como destacado, o Brasil está entre os países com maiores índices do coronavírus, mas apresenta uma boa diferença entre casos e mortes.\n",
        "\n",
        "Vamos fazer uma rápida comparação entre os resultados encontrados para ambos os países.\n",
        "\n",
        "No total, os Estados Unidos apresenta 35.948.131 casos confirmados, e do outro lado, o Brasil possui 20.177.757, resultando em uma diferença de 15.770.374 casos. Enquanto isso, as mortes possuem uma diferença de 53.759, onde temos 617.321 mortes para os Estados Unidos e 563.562 para o Brasil. Mas o que esses números significam?\n",
        "\n",
        "Bom, temos que o número de casos dos EUA representam 17,67% do total, enquanto do Brasil são 9,92%, ou seja, a diferença é de 7,75%. Entretanto, quando olhamos o número de mortes esta diferença cai para menos de 2%. Ou seja, apesar da grande diferença entre casos, a taxa de mortes é mais alta.\n"
      ]
    },
    {
      "cell_type": "code",
      "metadata": {
        "colab": {
          "base_uri": "https://localhost:8080/"
        },
        "id": "-dzDyAgUmSIP",
        "outputId": "597bed40-a94b-4f86-8eb6-5c07dbf93145"
      },
      "source": [
        "print('Total de casos (EUA): {:,}\\nTotal de casos (BR): {:,}\\n'.format(ranking_cases.loc['United States'].total_cases, ranking_cases.loc['Brazil'].total_cases))\n",
        "print('Total de mortes (EUA): {:,}\\nTotal de mortes (BR): {:,}\\n'.format((ranking_deaths.loc['United States'].total_deaths), (ranking_deaths.loc['Brazil'].total_deaths)))\n",
        "\n",
        "print('Porcentagem de mortes do total de casos (EUA): {:.0%}'.format(ranking_deaths.loc['United States'].total_deaths/ranking_cases.loc['United States'].total_cases))\n",
        "print('Porcentagem de mortes do total de casos (BR): {:.0%}\\n'.format(ranking_deaths.loc['Brazil'].total_deaths/ranking_cases.loc['Brazil'].total_cases))\n",
        "\n",
        "print('Diferença entre casos (EUA x BR): {:,}'.format((ranking_cases.loc['United States'].total_cases)-(ranking_cases.loc['Brazil'].total_cases)))\n",
        "print('Diferença entre mortes (EUA x BR): {:,}\\n'.format((ranking_deaths.loc['United States'].total_deaths)-(ranking_deaths.loc['Brazil'].total_deaths)))\n",
        "\n",
        "print('Porcentagem de casos do total (EUA): {:.2%}\\nPorcentagem de casos do total (BR): {:.2%}\\n'.format(ranking_cases.loc['United States'].total_cases/total_casos, ranking_cases.loc['Brazil'].total_cases/total_casos))\n",
        "print('Porcentagem de mortes do total (EUA): {:.2%}\\nPorcentagem de mortes do total (BR): {:.2%}\\n'.format(ranking_deaths.loc['United States'].total_deaths/total_mortes, ranking_deaths.loc['Brazil'].total_deaths/total_mortes))"
      ],
      "execution_count": 18,
      "outputs": [
        {
          "output_type": "stream",
          "text": [
            "Total de casos (EUA): 35,948,131.0\n",
            "Total de casos (BR): 20,177,757.0\n",
            "\n",
            "Total de mortes (EUA): 617,321.0\n",
            "Total de mortes (BR): 563,562.0\n",
            "\n",
            "Porcentagem de mortes do total de casos (EUA): 2%\n",
            "Porcentagem de mortes do total de casos (BR): 3%\n",
            "\n",
            "Diferença entre casos (EUA x BR): 15,770,374.0\n",
            "Diferença entre mortes (EUA x BR): 53,759.0\n",
            "\n",
            "Porcentagem de casos do total (EUA): 17.67%\n",
            "Porcentagem de casos do total (BR): 9.92%\n",
            "\n",
            "Porcentagem de mortes do total (EUA): 14.35%\n",
            "Porcentagem de mortes do total (BR): 13.10%\n",
            "\n"
          ],
          "name": "stdout"
        }
      ]
    },
    {
      "cell_type": "markdown",
      "metadata": {
        "id": "ELS_rjJrAHhA"
      },
      "source": [
        "## Vacinação\n",
        "\n"
      ]
    },
    {
      "cell_type": "markdown",
      "metadata": {
        "id": "sJ99ivcm57ss"
      },
      "source": [
        "O dia 08 de dezembro de 2020 foi um grande marco na história do século XXI, no Reino Unido, a primeira pessoa no mundo foi vacinada contra o novo coronavírus. Desde então, diversos países seguiram esse passo tornando possível o início de uma nova era, o novo normal.\n",
        "\n",
        "Desde o novo dia 'D', já se passaram 8 meses, vamos analisar como estão as campanhas de vacinação ao redor do mundo."
      ]
    },
    {
      "cell_type": "code",
      "metadata": {
        "colab": {
          "base_uri": "https://localhost:8080/",
          "height": 517
        },
        "id": "cDkNPnbK19Of",
        "outputId": "6c61e41f-c4db-4af5-d235-c896f12ed591"
      },
      "source": [
        "df_vacina = df_ranking[['total_vaccinations', 'people_vaccinated', 'people_fully_vaccinated', 'new_vaccinations', 'population']]\n",
        "\n",
        "ranking_vacina_total = df_vacina.groupby(df_vacina.index).max().sort_values(\"total_vaccinations\", ascending=False)[:5]\n",
        "ranking_vacina_fully = df_vacina.groupby(df_vacina.index).max().sort_values(\"people_fully_vaccinated\", ascending=False)[:5]\n",
        "\n",
        "color = ['#FC5C65' if country == \"Brazil\" else 'rgba(252, 92, 101, 0.3)' for country in ranking_vacina_total.index]\n",
        "color2 = ['#FC5C65' if country == \"Brazil\" else 'rgba(252, 92, 101, 0.3)' for country in ranking_vacina_fully.index]\n",
        "\n",
        "fig_ranking_vacina = make_subplots(rows=1, cols=2, subplot_titles=(\"Total de Vacinação\", \"Pessoas Totalmente Vacinadas\"))\n",
        "\n",
        "fig_ranking_vacina.add_trace(go.Bar(x=ranking_vacina_total.index, y=list(ranking_vacina_total['total_vaccinations']),\n",
        "                             marker_color=color, showlegend=False), row=1, col=1)\n",
        "fig_ranking_vacina.add_trace(go.Bar(x=ranking_vacina_fully.index, y=list(ranking_vacina_fully['people_fully_vaccinated']),\n",
        "                                  marker_color=color2, showlegend=False), row=1, col=2)\n",
        "\n",
        "fig_ranking_vacina.update_layout(title=dict(text=\"Ranking de Vacinação\", x=0.5, font_size=26, pad=dict(b=60)),\n",
        "                  width=1500, height=500, plot_bgcolor='rgba(0, 0, 0, 0)',\n",
        "                  paper_bgcolor='rgba(0, 0, 0, 0)')\n",
        "\n",
        "iplot(fig_ranking_vacina)"
      ],
      "execution_count": 19,
      "outputs": [
        {
          "output_type": "display_data",
          "data": {
            "text/html": [
              "<html>\n",
              "<head><meta charset=\"utf-8\" /></head>\n",
              "<body>\n",
              "    <div>\n",
              "            <script src=\"https://cdnjs.cloudflare.com/ajax/libs/mathjax/2.7.5/MathJax.js?config=TeX-AMS-MML_SVG\"></script><script type=\"text/javascript\">if (window.MathJax) {MathJax.Hub.Config({SVG: {font: \"STIX-Web\"}});}</script>\n",
              "                <script type=\"text/javascript\">window.PlotlyConfig = {MathJaxConfig: 'local'};</script>\n",
              "        <script src=\"https://cdn.plot.ly/plotly-latest.min.js\"></script>    \n",
              "            <div id=\"93634f20-5315-4efe-bdb2-46ad1ad85aae\" class=\"plotly-graph-div\" style=\"height:500px; width:1500px;\"></div>\n",
              "            <script type=\"text/javascript\">\n",
              "                \n",
              "                    window.PLOTLYENV=window.PLOTLYENV || {};\n",
              "                    \n",
              "                if (document.getElementById(\"93634f20-5315-4efe-bdb2-46ad1ad85aae\")) {\n",
              "                    Plotly.newPlot(\n",
              "                        '93634f20-5315-4efe-bdb2-46ad1ad85aae',\n",
              "                        [{\"marker\": {\"color\": [\"rgba(252, 92, 101, 0.3)\", \"rgba(252, 92, 101, 0.3)\", \"rgba(252, 92, 101, 0.3)\", \"#FC5C65\", \"rgba(252, 92, 101, 0.3)\"]}, \"showlegend\": false, \"type\": \"bar\", \"x\": [\"China\", \"India\", \"United States\", \"Brazil\", \"Japan\"], \"xaxis\": \"x\", \"y\": [1782525000.0, 508664759.0, 351933175.0, 152989038.0, 102913015.0], \"yaxis\": \"y\"}, {\"marker\": {\"color\": [\"rgba(252, 92, 101, 0.3)\", \"rgba(252, 92, 101, 0.3)\", \"rgba(252, 92, 101, 0.3)\", \"rgba(252, 92, 101, 0.3)\", \"#FC5C65\"]}, \"showlegend\": false, \"type\": \"bar\", \"x\": [\"China\", \"United States\", \"India\", \"Germany\", \"Brazil\"], \"xaxis\": \"x2\", \"y\": [223299000.0, 166654374.0, 112997166.0, 45842065.0, 45612438.0], \"yaxis\": \"y2\"}],\n",
              "                        {\"annotations\": [{\"font\": {\"size\": 16}, \"showarrow\": false, \"text\": \"Total de Vacina\\u00e7\\u00e3o\", \"x\": 0.225, \"xanchor\": \"center\", \"xref\": \"paper\", \"y\": 1.0, \"yanchor\": \"bottom\", \"yref\": \"paper\"}, {\"font\": {\"size\": 16}, \"showarrow\": false, \"text\": \"Pessoas Totalmente Vacinadas\", \"x\": 0.775, \"xanchor\": \"center\", \"xref\": \"paper\", \"y\": 1.0, \"yanchor\": \"bottom\", \"yref\": \"paper\"}], \"height\": 500, \"paper_bgcolor\": \"rgba(0, 0, 0, 0)\", \"plot_bgcolor\": \"rgba(0, 0, 0, 0)\", \"template\": {\"data\": {\"bar\": [{\"error_x\": {\"color\": \"#2a3f5f\"}, \"error_y\": {\"color\": \"#2a3f5f\"}, \"marker\": {\"line\": {\"color\": \"#E5ECF6\", \"width\": 0.5}}, \"type\": \"bar\"}], \"barpolar\": [{\"marker\": {\"line\": {\"color\": \"#E5ECF6\", \"width\": 0.5}}, \"type\": \"barpolar\"}], \"carpet\": [{\"aaxis\": {\"endlinecolor\": \"#2a3f5f\", \"gridcolor\": \"white\", \"linecolor\": \"white\", \"minorgridcolor\": \"white\", \"startlinecolor\": \"#2a3f5f\"}, \"baxis\": {\"endlinecolor\": \"#2a3f5f\", \"gridcolor\": \"white\", \"linecolor\": \"white\", \"minorgridcolor\": \"white\", \"startlinecolor\": \"#2a3f5f\"}, \"type\": \"carpet\"}], \"choropleth\": [{\"colorbar\": {\"outlinewidth\": 0, \"ticks\": \"\"}, \"type\": \"choropleth\"}], \"contour\": [{\"colorbar\": {\"outlinewidth\": 0, \"ticks\": \"\"}, \"colorscale\": [[0.0, \"#0d0887\"], [0.1111111111111111, \"#46039f\"], [0.2222222222222222, \"#7201a8\"], [0.3333333333333333, \"#9c179e\"], [0.4444444444444444, \"#bd3786\"], [0.5555555555555556, \"#d8576b\"], [0.6666666666666666, \"#ed7953\"], [0.7777777777777778, \"#fb9f3a\"], [0.8888888888888888, \"#fdca26\"], [1.0, \"#f0f921\"]], \"type\": \"contour\"}], \"contourcarpet\": [{\"colorbar\": {\"outlinewidth\": 0, \"ticks\": \"\"}, \"type\": \"contourcarpet\"}], \"heatmap\": [{\"colorbar\": {\"outlinewidth\": 0, \"ticks\": \"\"}, \"colorscale\": [[0.0, \"#0d0887\"], [0.1111111111111111, \"#46039f\"], [0.2222222222222222, \"#7201a8\"], [0.3333333333333333, \"#9c179e\"], [0.4444444444444444, \"#bd3786\"], [0.5555555555555556, \"#d8576b\"], [0.6666666666666666, \"#ed7953\"], [0.7777777777777778, \"#fb9f3a\"], [0.8888888888888888, \"#fdca26\"], [1.0, \"#f0f921\"]], \"type\": \"heatmap\"}], \"heatmapgl\": [{\"colorbar\": {\"outlinewidth\": 0, \"ticks\": \"\"}, \"colorscale\": [[0.0, \"#0d0887\"], [0.1111111111111111, \"#46039f\"], [0.2222222222222222, \"#7201a8\"], [0.3333333333333333, \"#9c179e\"], [0.4444444444444444, \"#bd3786\"], [0.5555555555555556, \"#d8576b\"], [0.6666666666666666, \"#ed7953\"], [0.7777777777777778, \"#fb9f3a\"], [0.8888888888888888, \"#fdca26\"], [1.0, \"#f0f921\"]], \"type\": \"heatmapgl\"}], \"histogram\": [{\"marker\": {\"colorbar\": {\"outlinewidth\": 0, \"ticks\": \"\"}}, \"type\": \"histogram\"}], \"histogram2d\": [{\"colorbar\": {\"outlinewidth\": 0, \"ticks\": \"\"}, \"colorscale\": [[0.0, \"#0d0887\"], [0.1111111111111111, \"#46039f\"], [0.2222222222222222, \"#7201a8\"], [0.3333333333333333, \"#9c179e\"], [0.4444444444444444, \"#bd3786\"], [0.5555555555555556, \"#d8576b\"], [0.6666666666666666, \"#ed7953\"], [0.7777777777777778, \"#fb9f3a\"], [0.8888888888888888, \"#fdca26\"], [1.0, \"#f0f921\"]], \"type\": \"histogram2d\"}], \"histogram2dcontour\": [{\"colorbar\": {\"outlinewidth\": 0, \"ticks\": \"\"}, \"colorscale\": [[0.0, \"#0d0887\"], [0.1111111111111111, \"#46039f\"], [0.2222222222222222, \"#7201a8\"], [0.3333333333333333, \"#9c179e\"], [0.4444444444444444, \"#bd3786\"], [0.5555555555555556, \"#d8576b\"], [0.6666666666666666, \"#ed7953\"], [0.7777777777777778, \"#fb9f3a\"], [0.8888888888888888, \"#fdca26\"], [1.0, \"#f0f921\"]], \"type\": \"histogram2dcontour\"}], \"mesh3d\": [{\"colorbar\": {\"outlinewidth\": 0, \"ticks\": \"\"}, \"type\": \"mesh3d\"}], \"parcoords\": [{\"line\": {\"colorbar\": {\"outlinewidth\": 0, \"ticks\": \"\"}}, \"type\": \"parcoords\"}], \"pie\": [{\"automargin\": true, \"type\": \"pie\"}], \"scatter\": [{\"marker\": {\"colorbar\": {\"outlinewidth\": 0, \"ticks\": \"\"}}, \"type\": \"scatter\"}], \"scatter3d\": [{\"line\": {\"colorbar\": {\"outlinewidth\": 0, \"ticks\": \"\"}}, \"marker\": {\"colorbar\": {\"outlinewidth\": 0, \"ticks\": \"\"}}, \"type\": \"scatter3d\"}], \"scattercarpet\": [{\"marker\": {\"colorbar\": {\"outlinewidth\": 0, \"ticks\": \"\"}}, \"type\": \"scattercarpet\"}], \"scattergeo\": [{\"marker\": {\"colorbar\": {\"outlinewidth\": 0, \"ticks\": \"\"}}, \"type\": \"scattergeo\"}], \"scattergl\": [{\"marker\": {\"colorbar\": {\"outlinewidth\": 0, \"ticks\": \"\"}}, \"type\": \"scattergl\"}], \"scattermapbox\": [{\"marker\": {\"colorbar\": {\"outlinewidth\": 0, \"ticks\": \"\"}}, \"type\": \"scattermapbox\"}], \"scatterpolar\": [{\"marker\": {\"colorbar\": {\"outlinewidth\": 0, \"ticks\": \"\"}}, \"type\": \"scatterpolar\"}], \"scatterpolargl\": [{\"marker\": {\"colorbar\": {\"outlinewidth\": 0, \"ticks\": \"\"}}, \"type\": \"scatterpolargl\"}], \"scatterternary\": [{\"marker\": {\"colorbar\": {\"outlinewidth\": 0, \"ticks\": \"\"}}, \"type\": \"scatterternary\"}], \"surface\": [{\"colorbar\": {\"outlinewidth\": 0, \"ticks\": \"\"}, \"colorscale\": [[0.0, \"#0d0887\"], [0.1111111111111111, \"#46039f\"], [0.2222222222222222, \"#7201a8\"], [0.3333333333333333, \"#9c179e\"], [0.4444444444444444, \"#bd3786\"], [0.5555555555555556, \"#d8576b\"], [0.6666666666666666, \"#ed7953\"], [0.7777777777777778, \"#fb9f3a\"], [0.8888888888888888, \"#fdca26\"], [1.0, \"#f0f921\"]], \"type\": \"surface\"}], \"table\": [{\"cells\": {\"fill\": {\"color\": \"#EBF0F8\"}, \"line\": {\"color\": \"white\"}}, \"header\": {\"fill\": {\"color\": \"#C8D4E3\"}, \"line\": {\"color\": \"white\"}}, \"type\": \"table\"}]}, \"layout\": {\"annotationdefaults\": {\"arrowcolor\": \"#2a3f5f\", \"arrowhead\": 0, \"arrowwidth\": 1}, \"coloraxis\": {\"colorbar\": {\"outlinewidth\": 0, \"ticks\": \"\"}}, \"colorscale\": {\"diverging\": [[0, \"#8e0152\"], [0.1, \"#c51b7d\"], [0.2, \"#de77ae\"], [0.3, \"#f1b6da\"], [0.4, \"#fde0ef\"], [0.5, \"#f7f7f7\"], [0.6, \"#e6f5d0\"], [0.7, \"#b8e186\"], [0.8, \"#7fbc41\"], [0.9, \"#4d9221\"], [1, \"#276419\"]], \"sequential\": [[0.0, \"#0d0887\"], [0.1111111111111111, \"#46039f\"], [0.2222222222222222, \"#7201a8\"], [0.3333333333333333, \"#9c179e\"], [0.4444444444444444, \"#bd3786\"], [0.5555555555555556, \"#d8576b\"], [0.6666666666666666, \"#ed7953\"], [0.7777777777777778, \"#fb9f3a\"], [0.8888888888888888, \"#fdca26\"], [1.0, \"#f0f921\"]], \"sequentialminus\": [[0.0, \"#0d0887\"], [0.1111111111111111, \"#46039f\"], [0.2222222222222222, \"#7201a8\"], [0.3333333333333333, \"#9c179e\"], [0.4444444444444444, \"#bd3786\"], [0.5555555555555556, \"#d8576b\"], [0.6666666666666666, \"#ed7953\"], [0.7777777777777778, \"#fb9f3a\"], [0.8888888888888888, \"#fdca26\"], [1.0, \"#f0f921\"]]}, \"colorway\": [\"#636efa\", \"#EF553B\", \"#00cc96\", \"#ab63fa\", \"#FFA15A\", \"#19d3f3\", \"#FF6692\", \"#B6E880\", \"#FF97FF\", \"#FECB52\"], \"font\": {\"color\": \"#2a3f5f\"}, \"geo\": {\"bgcolor\": \"white\", \"lakecolor\": \"white\", \"landcolor\": \"#E5ECF6\", \"showlakes\": true, \"showland\": true, \"subunitcolor\": \"white\"}, \"hoverlabel\": {\"align\": \"left\"}, \"hovermode\": \"closest\", \"mapbox\": {\"style\": \"light\"}, \"paper_bgcolor\": \"white\", \"plot_bgcolor\": \"#E5ECF6\", \"polar\": {\"angularaxis\": {\"gridcolor\": \"white\", \"linecolor\": \"white\", \"ticks\": \"\"}, \"bgcolor\": \"#E5ECF6\", \"radialaxis\": {\"gridcolor\": \"white\", \"linecolor\": \"white\", \"ticks\": \"\"}}, \"scene\": {\"xaxis\": {\"backgroundcolor\": \"#E5ECF6\", \"gridcolor\": \"white\", \"gridwidth\": 2, \"linecolor\": \"white\", \"showbackground\": true, \"ticks\": \"\", \"zerolinecolor\": \"white\"}, \"yaxis\": {\"backgroundcolor\": \"#E5ECF6\", \"gridcolor\": \"white\", \"gridwidth\": 2, \"linecolor\": \"white\", \"showbackground\": true, \"ticks\": \"\", \"zerolinecolor\": \"white\"}, \"zaxis\": {\"backgroundcolor\": \"#E5ECF6\", \"gridcolor\": \"white\", \"gridwidth\": 2, \"linecolor\": \"white\", \"showbackground\": true, \"ticks\": \"\", \"zerolinecolor\": \"white\"}}, \"shapedefaults\": {\"line\": {\"color\": \"#2a3f5f\"}}, \"ternary\": {\"aaxis\": {\"gridcolor\": \"white\", \"linecolor\": \"white\", \"ticks\": \"\"}, \"baxis\": {\"gridcolor\": \"white\", \"linecolor\": \"white\", \"ticks\": \"\"}, \"bgcolor\": \"#E5ECF6\", \"caxis\": {\"gridcolor\": \"white\", \"linecolor\": \"white\", \"ticks\": \"\"}}, \"title\": {\"x\": 0.05}, \"xaxis\": {\"automargin\": true, \"gridcolor\": \"white\", \"linecolor\": \"white\", \"ticks\": \"\", \"title\": {\"standoff\": 15}, \"zerolinecolor\": \"white\", \"zerolinewidth\": 2}, \"yaxis\": {\"automargin\": true, \"gridcolor\": \"white\", \"linecolor\": \"white\", \"ticks\": \"\", \"title\": {\"standoff\": 15}, \"zerolinecolor\": \"white\", \"zerolinewidth\": 2}}}, \"title\": {\"font\": {\"size\": 26}, \"pad\": {\"b\": 60}, \"text\": \"Ranking de Vacina\\u00e7\\u00e3o\", \"x\": 0.5}, \"width\": 1500, \"xaxis\": {\"anchor\": \"y\", \"domain\": [0.0, 0.45]}, \"xaxis2\": {\"anchor\": \"y2\", \"domain\": [0.55, 1.0]}, \"yaxis\": {\"anchor\": \"x\", \"domain\": [0.0, 1.0]}, \"yaxis2\": {\"anchor\": \"x2\", \"domain\": [0.0, 1.0]}},\n",
              "                        {\"responsive\": true}\n",
              "                    ).then(function(){\n",
              "                            \n",
              "var gd = document.getElementById('93634f20-5315-4efe-bdb2-46ad1ad85aae');\n",
              "var x = new MutationObserver(function (mutations, observer) {{\n",
              "        var display = window.getComputedStyle(gd).display;\n",
              "        if (!display || display === 'none') {{\n",
              "            console.log([gd, 'removed!']);\n",
              "            Plotly.purge(gd);\n",
              "            observer.disconnect();\n",
              "        }}\n",
              "}});\n",
              "\n",
              "// Listen for the removal of the full notebook cells\n",
              "var notebookContainer = gd.closest('#notebook-container');\n",
              "if (notebookContainer) {{\n",
              "    x.observe(notebookContainer, {childList: true});\n",
              "}}\n",
              "\n",
              "// Listen for the clearing of the current output cell\n",
              "var outputEl = gd.closest('.output');\n",
              "if (outputEl) {{\n",
              "    x.observe(outputEl, {childList: true});\n",
              "}}\n",
              "\n",
              "                        })\n",
              "                };\n",
              "                \n",
              "            </script>\n",
              "        </div>\n",
              "</body>\n",
              "</html>"
            ]
          },
          "metadata": {
            "tags": []
          }
        }
      ]
    },
    {
      "cell_type": "markdown",
      "metadata": {
        "id": "__LE_3p337eA"
      },
      "source": [
        "Neste gráfico temos um fato muito complicado, no primeiro a análise está bem aceitável, com um índice de vacinação relativamente alto. Por outro lado, quando vemos a quantidade de pessoas totalmente vacinadas, esse índice cai para, aproximadamente, 21% das pessoas vacinadas. Ou seja, apenas 21% da população vacinada está efetivamente protegido.\n",
        "\n",
        "Agora, fica aquele questionamento, por que isso acontece? A primeira hipótese que podemos levantar é que dependendo da data de aplicação, as pessoas estariam aguardando para ficar 100% vacinado. A segunda, é mais perigosa e em muitos casos, verdadeira. Muitas pessoas acabam acreditando que ao tomar a primeira dose, estão protegidos e não veem necessidade da aplicação de outras doses. Como dito, esse tipo de pensamento pode ser muito perigoso lecando em consideração que poderia ocasionar em um novo surto causado pela falta aceitação das medidas de prevenção."
      ]
    },
    {
      "cell_type": "code",
      "metadata": {
        "colab": {
          "base_uri": "https://localhost:8080/"
        },
        "id": "Wue4ZlYBBdeK",
        "outputId": "e3c6cdcd-36a8-4c42-c3c9-4c4ea327b568"
      },
      "source": [
        "print('Total de Vacinas: {:,}'.format(df_vacina['total_vaccinations'].sum()))\n",
        "print('Pessoas totalmente vacinadas: {:,}'.format(df_vacina['people_fully_vaccinated'].sum()))\n",
        "\n",
        "print('Diferença: {:,}\\nPorcentagem: {:.2%}'.format((df_vacina['total_vaccinations'].sum() - df_vacina['people_fully_vaccinated'].sum()), (df_vacina['people_fully_vaccinated'].sum())/df_vacina['total_vaccinations'].sum()))"
      ],
      "execution_count": 20,
      "outputs": [
        {
          "output_type": "stream",
          "text": [
            "Total de Vacinas: 301,506,258,707.0\n",
            "Pessoas totalmente vacinadas: 64,358,963,168.0\n",
            "Diferença: 237,147,295,539.0\n",
            "Porcentagem: 21.35%\n"
          ],
          "name": "stdout"
        }
      ]
    },
    {
      "cell_type": "markdown",
      "metadata": {
        "id": "80knHDWdBiib"
      },
      "source": [
        "## **Conclusão**\n",
        "\n",
        "Chegamos ao final deste projeto, e com todas as informações apresentadas vimos que muitas vezes ações são tomadas com um certo resultado na mente, mas podemos não chegar a isso. Como por exemplo, todos os métodos de prevenção que foram adotados para tentar conter o coronavírus, tendo na mente que seriam 2 ou 3 semanas de *lockdown* e na realidade ficar mais de um ano em uma pandemia. Entretanto, entendemos também que não atingir o resultado esperado, não necessariamente significa que foi fracassado, pois se medidas não fossem tomadas, o final poderia ter sido mil vezes pior.\n",
        "\n",
        "Com isso encerramos mais um projeto aqui no LearningData. Espero que tenham gostado do conteúdo, continuem se prevenindo.\n",
        "\n",
        "Não se esqueça de seguir o perfil no [LinkedIn](https://www.linkedin.com/in/geovana--sousa/) para não perder as próximas atualizações 😉"
      ]
    }
  ]
}